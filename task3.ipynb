{
  "nbformat": 4,
  "nbformat_minor": 0,
  "metadata": {
    "colab": {
      "name": "task3.ipynb",
      "provenance": [],
      "include_colab_link": true
    },
    "kernelspec": {
      "name": "python3",
      "display_name": "Python 3"
    },
    "language_info": {
      "name": "python"
    }
  },
  "cells": [
    {
      "cell_type": "markdown",
      "metadata": {
        "id": "view-in-github",
        "colab_type": "text"
      },
      "source": [
        "<a href=\"https://colab.research.google.com/github/AnastasiyaKrokhina/DataCon-time-1/blob/main/task3.ipynb\" target=\"_parent\"><img src=\"https://colab.research.google.com/assets/colab-badge.svg\" alt=\"Open In Colab\"/></a>"
      ]
    },
    {
      "cell_type": "code",
      "execution_count": null,
      "metadata": {
        "id": "cgBYBLVsNbzS"
      },
      "outputs": [],
      "source": [
        "!pip install pymatgen"
      ]
    },
    {
      "cell_type": "markdown",
      "source": [
        "Что еще есть наподобие pymatgen?"
      ],
      "metadata": {
        "id": "ijhlwP2MMXDX"
      }
    },
    {
      "cell_type": "code",
      "source": [
        "!pip install catboost"
      ],
      "metadata": {
        "id": "1dM26T9fOfFj"
      },
      "execution_count": null,
      "outputs": []
    },
    {
      "cell_type": "code",
      "source": [
        "import numpy as np\n",
        "import pandas as pd\n",
        "import matplotlib.pyplot as plt\n",
        "import seaborn as sns\n",
        "from catboost import CatBoostRegressor\n",
        "import sklearn\n",
        "from sklearn import preprocessing\n",
        "from sklearn import metrics"
      ],
      "metadata": {
        "id": "wUUXtJvFNzYv"
      },
      "execution_count": null,
      "outputs": []
    },
    {
      "cell_type": "markdown",
      "source": [
        "# 1. Разработка дескрипторов материалов"
      ],
      "metadata": {
        "id": "TVI-SRHePcFa"
      }
    },
    {
      "cell_type": "markdown",
      "source": [
        "В имеющихся данных только одно свойство, напрямую связанное с  химической формулой материла, Syngony, причем у различных составов, а также разных модификаций оксида железа, этот параметр одинаковый, и, соответственно, не дает достаточной информации, связанной с химическим составом материала."
      ],
      "metadata": {
        "id": "hduS_--PPmzq"
      }
    },
    {
      "cell_type": "markdown",
      "source": [
        "Какие признаки можно добавить: **количество различных хим. элеменов (металлов) в составе**, **количество атомов кислорода**, **средняя степень окисления ионов металлов**, **(магнитный момент материала**, **энергия образования, пока не получилось, не разобралась с pymatgen)**."
      ],
      "metadata": {
        "id": "XE8N829fQwP2"
      }
    },
    {
      "cell_type": "code",
      "source": [
        "df=pd.read_csv('task 3.csv')"
      ],
      "metadata": {
        "id": "VwGJNUhCTC4I"
      },
      "execution_count": null,
      "outputs": []
    },
    {
      "cell_type": "code",
      "source": [
        "df.sample(5)"
      ],
      "metadata": {
        "colab": {
          "base_uri": "https://localhost:8080/",
          "height": 250
        },
        "id": "11Rt4nVscDID",
        "outputId": "6b88976a-7d8b-4de9-9e01-a5d6c9d22a41"
      },
      "execution_count": null,
      "outputs": [
        {
          "output_type": "execute_result",
          "data": {
            "text/plain": [
              "     formula      Km       Kcat  Syngony  length  width  depth  pol  surf  \\\n",
              "171      CuO  41.000  0.0027988        2     6.0    6.0    6.0    0     0   \n",
              "150     CeO2   0.620  0.0000337        7   215.0   50.0   50.0    0     0   \n",
              "174      CuO  85.600  0.0000595        2    30.0   30.0   30.0    0     0   \n",
              "210   LaCoO3   0.240   8.579816        5    70.0   70.0   70.0    0     1   \n",
              "15   MnFe2O4   0.112   3 298.15        7     4.0    4.0    4.0    1     0   \n",
              "\n",
              "      Subtype   ph  temp    Cper   Csub    Ccat  \n",
              "171      H2O2  4.0  37.0  1500.0   0.67    4.00  \n",
              "150  H2O2+ATP  7.4  32.5     3.5   0.30  160.00  \n",
              "174      H2O2  4.0  40.0  1500.0   0.67   40.00  \n",
              "210       TMB  6.0  25.0   100.0  25.00    0.01  \n",
              "15       H2O2  3.5  37.0    10.0   1.50    0.50  "
            ],
            "text/html": [
              "\n",
              "  <div id=\"df-4f08bfcb-a72e-4e7e-9ff9-c6af1d015819\">\n",
              "    <div class=\"colab-df-container\">\n",
              "      <div>\n",
              "<style scoped>\n",
              "    .dataframe tbody tr th:only-of-type {\n",
              "        vertical-align: middle;\n",
              "    }\n",
              "\n",
              "    .dataframe tbody tr th {\n",
              "        vertical-align: top;\n",
              "    }\n",
              "\n",
              "    .dataframe thead th {\n",
              "        text-align: right;\n",
              "    }\n",
              "</style>\n",
              "<table border=\"1\" class=\"dataframe\">\n",
              "  <thead>\n",
              "    <tr style=\"text-align: right;\">\n",
              "      <th></th>\n",
              "      <th>formula</th>\n",
              "      <th>Km</th>\n",
              "      <th>Kcat</th>\n",
              "      <th>Syngony</th>\n",
              "      <th>length</th>\n",
              "      <th>width</th>\n",
              "      <th>depth</th>\n",
              "      <th>pol</th>\n",
              "      <th>surf</th>\n",
              "      <th>Subtype</th>\n",
              "      <th>ph</th>\n",
              "      <th>temp</th>\n",
              "      <th>Cper</th>\n",
              "      <th>Csub</th>\n",
              "      <th>Ccat</th>\n",
              "    </tr>\n",
              "  </thead>\n",
              "  <tbody>\n",
              "    <tr>\n",
              "      <th>171</th>\n",
              "      <td>CuO</td>\n",
              "      <td>41.000</td>\n",
              "      <td>0.0027988</td>\n",
              "      <td>2</td>\n",
              "      <td>6.0</td>\n",
              "      <td>6.0</td>\n",
              "      <td>6.0</td>\n",
              "      <td>0</td>\n",
              "      <td>0</td>\n",
              "      <td>H2O2</td>\n",
              "      <td>4.0</td>\n",
              "      <td>37.0</td>\n",
              "      <td>1500.0</td>\n",
              "      <td>0.67</td>\n",
              "      <td>4.00</td>\n",
              "    </tr>\n",
              "    <tr>\n",
              "      <th>150</th>\n",
              "      <td>CeO2</td>\n",
              "      <td>0.620</td>\n",
              "      <td>0.0000337</td>\n",
              "      <td>7</td>\n",
              "      <td>215.0</td>\n",
              "      <td>50.0</td>\n",
              "      <td>50.0</td>\n",
              "      <td>0</td>\n",
              "      <td>0</td>\n",
              "      <td>H2O2+ATP</td>\n",
              "      <td>7.4</td>\n",
              "      <td>32.5</td>\n",
              "      <td>3.5</td>\n",
              "      <td>0.30</td>\n",
              "      <td>160.00</td>\n",
              "    </tr>\n",
              "    <tr>\n",
              "      <th>174</th>\n",
              "      <td>CuO</td>\n",
              "      <td>85.600</td>\n",
              "      <td>0.0000595</td>\n",
              "      <td>2</td>\n",
              "      <td>30.0</td>\n",
              "      <td>30.0</td>\n",
              "      <td>30.0</td>\n",
              "      <td>0</td>\n",
              "      <td>0</td>\n",
              "      <td>H2O2</td>\n",
              "      <td>4.0</td>\n",
              "      <td>40.0</td>\n",
              "      <td>1500.0</td>\n",
              "      <td>0.67</td>\n",
              "      <td>40.00</td>\n",
              "    </tr>\n",
              "    <tr>\n",
              "      <th>210</th>\n",
              "      <td>LaCoO3</td>\n",
              "      <td>0.240</td>\n",
              "      <td>8.579816</td>\n",
              "      <td>5</td>\n",
              "      <td>70.0</td>\n",
              "      <td>70.0</td>\n",
              "      <td>70.0</td>\n",
              "      <td>0</td>\n",
              "      <td>1</td>\n",
              "      <td>TMB</td>\n",
              "      <td>6.0</td>\n",
              "      <td>25.0</td>\n",
              "      <td>100.0</td>\n",
              "      <td>25.00</td>\n",
              "      <td>0.01</td>\n",
              "    </tr>\n",
              "    <tr>\n",
              "      <th>15</th>\n",
              "      <td>MnFe2O4</td>\n",
              "      <td>0.112</td>\n",
              "      <td>3 298.15</td>\n",
              "      <td>7</td>\n",
              "      <td>4.0</td>\n",
              "      <td>4.0</td>\n",
              "      <td>4.0</td>\n",
              "      <td>1</td>\n",
              "      <td>0</td>\n",
              "      <td>H2O2</td>\n",
              "      <td>3.5</td>\n",
              "      <td>37.0</td>\n",
              "      <td>10.0</td>\n",
              "      <td>1.50</td>\n",
              "      <td>0.50</td>\n",
              "    </tr>\n",
              "  </tbody>\n",
              "</table>\n",
              "</div>\n",
              "      <button class=\"colab-df-convert\" onclick=\"convertToInteractive('df-4f08bfcb-a72e-4e7e-9ff9-c6af1d015819')\"\n",
              "              title=\"Convert this dataframe to an interactive table.\"\n",
              "              style=\"display:none;\">\n",
              "        \n",
              "  <svg xmlns=\"http://www.w3.org/2000/svg\" height=\"24px\"viewBox=\"0 0 24 24\"\n",
              "       width=\"24px\">\n",
              "    <path d=\"M0 0h24v24H0V0z\" fill=\"none\"/>\n",
              "    <path d=\"M18.56 5.44l.94 2.06.94-2.06 2.06-.94-2.06-.94-.94-2.06-.94 2.06-2.06.94zm-11 1L8.5 8.5l.94-2.06 2.06-.94-2.06-.94L8.5 2.5l-.94 2.06-2.06.94zm10 10l.94 2.06.94-2.06 2.06-.94-2.06-.94-.94-2.06-.94 2.06-2.06.94z\"/><path d=\"M17.41 7.96l-1.37-1.37c-.4-.4-.92-.59-1.43-.59-.52 0-1.04.2-1.43.59L10.3 9.45l-7.72 7.72c-.78.78-.78 2.05 0 2.83L4 21.41c.39.39.9.59 1.41.59.51 0 1.02-.2 1.41-.59l7.78-7.78 2.81-2.81c.8-.78.8-2.07 0-2.86zM5.41 20L4 18.59l7.72-7.72 1.47 1.35L5.41 20z\"/>\n",
              "  </svg>\n",
              "      </button>\n",
              "      \n",
              "  <style>\n",
              "    .colab-df-container {\n",
              "      display:flex;\n",
              "      flex-wrap:wrap;\n",
              "      gap: 12px;\n",
              "    }\n",
              "\n",
              "    .colab-df-convert {\n",
              "      background-color: #E8F0FE;\n",
              "      border: none;\n",
              "      border-radius: 50%;\n",
              "      cursor: pointer;\n",
              "      display: none;\n",
              "      fill: #1967D2;\n",
              "      height: 32px;\n",
              "      padding: 0 0 0 0;\n",
              "      width: 32px;\n",
              "    }\n",
              "\n",
              "    .colab-df-convert:hover {\n",
              "      background-color: #E2EBFA;\n",
              "      box-shadow: 0px 1px 2px rgba(60, 64, 67, 0.3), 0px 1px 3px 1px rgba(60, 64, 67, 0.15);\n",
              "      fill: #174EA6;\n",
              "    }\n",
              "\n",
              "    [theme=dark] .colab-df-convert {\n",
              "      background-color: #3B4455;\n",
              "      fill: #D2E3FC;\n",
              "    }\n",
              "\n",
              "    [theme=dark] .colab-df-convert:hover {\n",
              "      background-color: #434B5C;\n",
              "      box-shadow: 0px 1px 3px 1px rgba(0, 0, 0, 0.15);\n",
              "      filter: drop-shadow(0px 1px 2px rgba(0, 0, 0, 0.3));\n",
              "      fill: #FFFFFF;\n",
              "    }\n",
              "  </style>\n",
              "\n",
              "      <script>\n",
              "        const buttonEl =\n",
              "          document.querySelector('#df-4f08bfcb-a72e-4e7e-9ff9-c6af1d015819 button.colab-df-convert');\n",
              "        buttonEl.style.display =\n",
              "          google.colab.kernel.accessAllowed ? 'block' : 'none';\n",
              "\n",
              "        async function convertToInteractive(key) {\n",
              "          const element = document.querySelector('#df-4f08bfcb-a72e-4e7e-9ff9-c6af1d015819');\n",
              "          const dataTable =\n",
              "            await google.colab.kernel.invokeFunction('convertToInteractive',\n",
              "                                                     [key], {});\n",
              "          if (!dataTable) return;\n",
              "\n",
              "          const docLinkHtml = 'Like what you see? Visit the ' +\n",
              "            '<a target=\"_blank\" href=https://colab.research.google.com/notebooks/data_table.ipynb>data table notebook</a>'\n",
              "            + ' to learn more about interactive tables.';\n",
              "          element.innerHTML = '';\n",
              "          dataTable['output_type'] = 'display_data';\n",
              "          await google.colab.output.renderOutput(dataTable, element);\n",
              "          const docLink = document.createElement('div');\n",
              "          docLink.innerHTML = docLinkHtml;\n",
              "          element.appendChild(docLink);\n",
              "        }\n",
              "      </script>\n",
              "    </div>\n",
              "  </div>\n",
              "  "
            ]
          },
          "metadata": {},
          "execution_count": 81
        }
      ]
    },
    {
      "cell_type": "code",
      "source": [
        "df.info()"
      ],
      "metadata": {
        "colab": {
          "base_uri": "https://localhost:8080/"
        },
        "id": "WjkO3t2mpGpm",
        "outputId": "ea8dac89-0ed4-4853-fbdd-a8490aff5c69"
      },
      "execution_count": null,
      "outputs": [
        {
          "output_type": "stream",
          "name": "stdout",
          "text": [
            "<class 'pandas.core.frame.DataFrame'>\n",
            "RangeIndex: 227 entries, 0 to 226\n",
            "Data columns (total 15 columns):\n",
            " #   Column   Non-Null Count  Dtype  \n",
            "---  ------   --------------  -----  \n",
            " 0   formula  227 non-null    object \n",
            " 1   Km       227 non-null    float64\n",
            " 2   Kcat     227 non-null    object \n",
            " 3   Syngony  227 non-null    int64  \n",
            " 4   length   227 non-null    float64\n",
            " 5   width    227 non-null    float64\n",
            " 6   depth    227 non-null    float64\n",
            " 7   pol      227 non-null    int64  \n",
            " 8   surf     227 non-null    int64  \n",
            " 9   Subtype  227 non-null    object \n",
            " 10  ph       227 non-null    float64\n",
            " 11  temp     227 non-null    float64\n",
            " 12  Cper     227 non-null    float64\n",
            " 13  Csub     227 non-null    float64\n",
            " 14  Ccat     227 non-null    float64\n",
            "dtypes: float64(9), int64(3), object(3)\n",
            "memory usage: 26.7+ KB\n"
          ]
        }
      ]
    },
    {
      "cell_type": "code",
      "source": [
        "df['Kcat'] = df['Kcat'].str.replace(' ', '')"
      ],
      "metadata": {
        "id": "K3UT1L99c_LU"
      },
      "execution_count": null,
      "outputs": []
    },
    {
      "cell_type": "code",
      "source": [
        "df['Kcat']=df['Kcat'].astype('float')"
      ],
      "metadata": {
        "id": "cT7WJteGc7yL"
      },
      "execution_count": null,
      "outputs": []
    },
    {
      "cell_type": "code",
      "source": [
        "from pymatgen.ext.matproj import MPRester"
      ],
      "metadata": {
        "id": "y-2GU4GlXGW2"
      },
      "execution_count": null,
      "outputs": []
    },
    {
      "cell_type": "code",
      "source": [
        "MAPI_KEY = 'yzlGGAhooZ9pPX1Vu25T'"
      ],
      "metadata": {
        "id": "vGafUc5QW9Lk"
      },
      "execution_count": null,
      "outputs": []
    },
    {
      "cell_type": "code",
      "source": [
        "mpr = MPRester(MAPI_KEY)"
      ],
      "metadata": {
        "id": "f7SMxd0qXPBB"
      },
      "execution_count": null,
      "outputs": []
    },
    {
      "cell_type": "markdown",
      "source": [
        "Проверяю выдает ли вообще id и какие-то свойства\n",
        "\n",
        "\n",
        "\n"
      ],
      "metadata": {
        "id": "hjFO6DDyuQdO"
      }
    },
    {
      "cell_type": "code",
      "source": [
        "mpr.get_materials_ids('MnFe2O4')[0]"
      ],
      "metadata": {
        "colab": {
          "base_uri": "https://localhost:8080/",
          "height": 35
        },
        "id": "Vh08q5kwossM",
        "outputId": "bf76e4c7-4f53-4e5e-f916-8d5bc9b8f988"
      },
      "execution_count": null,
      "outputs": [
        {
          "output_type": "execute_result",
          "data": {
            "text/plain": [
              "'mp-697842'"
            ],
            "application/vnd.google.colaboratory.intrinsic+json": {
              "type": "string"
            }
          },
          "metadata": {},
          "execution_count": 34
        }
      ]
    },
    {
      "cell_type": "code",
      "source": [
        "new_descriptors = mpr.query(criteria = 'mp-697842', properties  =['total_magnetization', 'formation_energy_per_atom',\n",
        "                                                          'nelements', 'energy_per_atom',\n",
        "                                                          'volume', 'oxide_type'])"
      ],
      "metadata": {
        "id": "nuuN9ZrHBK18"
      },
      "execution_count": null,
      "outputs": []
    },
    {
      "cell_type": "markdown",
      "source": [
        "Интерпретируемость: c помощью значения намагниченности можно различить магнитные оксиды, например, Co3O4 и Fe3O4;\n",
        "объем ячейки элементарной ячейки также связан с хим составом;\n",
        "является материал оксидом или нет, разные энергетические характеристики вроде как влияют на катализ. Характеристик, связанных с зарядом не было"
      ],
      "metadata": {
        "id": "n3DY5n0AISi0"
      }
    },
    {
      "cell_type": "code",
      "source": [
        "print(new_descriptors)"
      ],
      "metadata": {
        "colab": {
          "base_uri": "https://localhost:8080/"
        },
        "id": "_aK38pBHDnEN",
        "outputId": "4a7eb4a3-6c83-46b6-d405-cafa6032515c"
      },
      "execution_count": null,
      "outputs": [
        {
          "output_type": "stream",
          "name": "stdout",
          "text": [
            "[{'total_magnetization': 8.60000003, 'formation_energy_per_atom': -1.8783560068021676, 'nelements': 3, 'energy_per_atom': -7.012086331714286, 'volume': 807.1543697035366, 'oxide_type': 'oxide'}]\n"
          ]
        }
      ]
    },
    {
      "cell_type": "code",
      "source": [
        "mpr.get_materials_ids('NiPd')[0]"
      ],
      "metadata": {
        "colab": {
          "base_uri": "https://localhost:8080/",
          "height": 35
        },
        "id": "NacVO5sAF8St",
        "outputId": "719a7edf-fb0d-41ff-c40e-c56a3627a249"
      },
      "execution_count": null,
      "outputs": [
        {
          "output_type": "execute_result",
          "data": {
            "text/plain": [
              "'mp-1220057'"
            ],
            "application/vnd.google.colaboratory.intrinsic+json": {
              "type": "string"
            }
          },
          "metadata": {},
          "execution_count": 53
        }
      ]
    },
    {
      "cell_type": "code",
      "source": [
        "new_descriptors = mpr.query(criteria = 'mp-1220057', properties  =['total_magnetization', 'formation_energy_per_atom',\n",
        "                                                          'nelements', 'energy_per_atom', 'band_gap',\n",
        "                                                          'volume', 'oxide_type'])"
      ],
      "metadata": {
        "id": "LXLWU_-RGNb9"
      },
      "execution_count": null,
      "outputs": []
    },
    {
      "cell_type": "code",
      "source": [
        "print(new_descriptors)"
      ],
      "metadata": {
        "colab": {
          "base_uri": "https://localhost:8080/"
        },
        "id": "mZhly0CSGSdb",
        "outputId": "8ebea153-b59a-4387-e84c-54ecf5cbf1cd"
      },
      "execution_count": null,
      "outputs": [
        {
          "output_type": "stream",
          "name": "stdout",
          "text": [
            "[{'total_magnetization': 0.9622043, 'formation_energy_per_atom': 0.05664135000000048, 'nelements': 2, 'energy_per_atom': -5.42151302, 'band_gap': 0.0, 'volume': 26.83871717588212, 'oxide_type': 'None'}]\n"
          ]
        }
      ]
    },
    {
      "cell_type": "markdown",
      "source": [
        "Хочу создать новый столбец id, чтобы с его помощью потом получить новые свойства"
      ],
      "metadata": {
        "id": "0CgwXmLvuVuO"
      }
    },
    {
      "cell_type": "code",
      "source": [
        "df[\"material_id\"]=df['formula'].apply(lambda row: mpr.get_materials_ids(row)[0] \n",
        "                                      if (row not in ['y-Fe2O3', 'a-Fe2O3','Au-CeO2',\n",
        "                                                      'Au-Cu2O', 'α-AgVO3', 'β-AgVO3', \n",
        "                                                      'Cu0.89Zn0.11O', '0.10CeO2/CoO', \n",
        "                                                      'CoO/CeO2', 'Co3O4/CeO2', 'Fe3O4-CeO2', \n",
        "                                                      'Pd/CeO2', 'Ce-Fe3O4', 'Fe3O4–MnO2', 'Pt-WO2']) else row)"
      ],
      "metadata": {
        "id": "YWyTThXYaRUB"
      },
      "execution_count": null,
      "outputs": []
    },
    {
      "cell_type": "markdown",
      "source": [
        "Не получается, выдается ошибка 404, если данного нет (хотя все странные случаи вроде выписала)"
      ],
      "metadata": {
        "id": "zrhUi6PC_7UE"
      }
    },
    {
      "cell_type": "markdown",
      "source": [
        "**Придется создавать вручную: оксид или нет, средняя степень окисления металла (не получается случаи без индексов обработать)**."
      ],
      "metadata": {
        "id": "UiG-kmfbIK21"
      }
    },
    {
      "cell_type": "code",
      "source": [
        "df[\"if_oxide\"]=df['formula'].apply(lambda row: 1 if ('O' in row) else 0)"
      ],
      "metadata": {
        "id": "JjCVBz0TOPnX"
      },
      "execution_count": null,
      "outputs": []
    },
    {
      "cell_type": "code",
      "source": [
        "df.head()"
      ],
      "metadata": {
        "colab": {
          "base_uri": "https://localhost:8080/",
          "height": 270
        },
        "id": "SJgRwcT8Uzao",
        "outputId": "1149b8c9-e366-42fd-fffc-869959a62a4e"
      },
      "execution_count": null,
      "outputs": [
        {
          "output_type": "execute_result",
          "data": {
            "text/plain": [
              "   formula       Km      Kcat  Syngony  length  width  depth  pol  surf  \\\n",
              "0  CoFe2O4  0.00645  12306.45        7     4.1    4.1    4.1    1     1   \n",
              "1  CoFe2O4  0.05537   2363.29        7    13.8   13.8   13.8    1     1   \n",
              "2  CoFe2O4  0.03551  74779.37        7     4.1    4.1    4.1    1     1   \n",
              "3  CoFe2O4  0.22769   3918.25        7    13.8   13.8   13.8    1     1   \n",
              "4  CoFe2O4  0.01725   9184.91        7    24.5   24.5   24.5    1     1   \n",
              "\n",
              "  Subtype   ph  temp   Cper  Csub     Ccat  if_oxide  \n",
              "0     TMB  4.0  37.0  100.0  15.0  0.02624         1  \n",
              "1     TMB  4.0  37.0  100.0  15.0  0.02624         1  \n",
              "2     TMB  4.0  37.0  100.0  15.0  0.02624         1  \n",
              "3     TMB  4.0  37.0  100.0  15.0  0.02624         1  \n",
              "4    H2O2  4.0  37.0  100.0  15.0  0.02624         1  "
            ],
            "text/html": [
              "\n",
              "  <div id=\"df-9d815d91-21c2-4555-9375-a9c6c23b071f\">\n",
              "    <div class=\"colab-df-container\">\n",
              "      <div>\n",
              "<style scoped>\n",
              "    .dataframe tbody tr th:only-of-type {\n",
              "        vertical-align: middle;\n",
              "    }\n",
              "\n",
              "    .dataframe tbody tr th {\n",
              "        vertical-align: top;\n",
              "    }\n",
              "\n",
              "    .dataframe thead th {\n",
              "        text-align: right;\n",
              "    }\n",
              "</style>\n",
              "<table border=\"1\" class=\"dataframe\">\n",
              "  <thead>\n",
              "    <tr style=\"text-align: right;\">\n",
              "      <th></th>\n",
              "      <th>formula</th>\n",
              "      <th>Km</th>\n",
              "      <th>Kcat</th>\n",
              "      <th>Syngony</th>\n",
              "      <th>length</th>\n",
              "      <th>width</th>\n",
              "      <th>depth</th>\n",
              "      <th>pol</th>\n",
              "      <th>surf</th>\n",
              "      <th>Subtype</th>\n",
              "      <th>ph</th>\n",
              "      <th>temp</th>\n",
              "      <th>Cper</th>\n",
              "      <th>Csub</th>\n",
              "      <th>Ccat</th>\n",
              "      <th>if_oxide</th>\n",
              "    </tr>\n",
              "  </thead>\n",
              "  <tbody>\n",
              "    <tr>\n",
              "      <th>0</th>\n",
              "      <td>CoFe2O4</td>\n",
              "      <td>0.00645</td>\n",
              "      <td>12306.45</td>\n",
              "      <td>7</td>\n",
              "      <td>4.1</td>\n",
              "      <td>4.1</td>\n",
              "      <td>4.1</td>\n",
              "      <td>1</td>\n",
              "      <td>1</td>\n",
              "      <td>TMB</td>\n",
              "      <td>4.0</td>\n",
              "      <td>37.0</td>\n",
              "      <td>100.0</td>\n",
              "      <td>15.0</td>\n",
              "      <td>0.02624</td>\n",
              "      <td>1</td>\n",
              "    </tr>\n",
              "    <tr>\n",
              "      <th>1</th>\n",
              "      <td>CoFe2O4</td>\n",
              "      <td>0.05537</td>\n",
              "      <td>2363.29</td>\n",
              "      <td>7</td>\n",
              "      <td>13.8</td>\n",
              "      <td>13.8</td>\n",
              "      <td>13.8</td>\n",
              "      <td>1</td>\n",
              "      <td>1</td>\n",
              "      <td>TMB</td>\n",
              "      <td>4.0</td>\n",
              "      <td>37.0</td>\n",
              "      <td>100.0</td>\n",
              "      <td>15.0</td>\n",
              "      <td>0.02624</td>\n",
              "      <td>1</td>\n",
              "    </tr>\n",
              "    <tr>\n",
              "      <th>2</th>\n",
              "      <td>CoFe2O4</td>\n",
              "      <td>0.03551</td>\n",
              "      <td>74779.37</td>\n",
              "      <td>7</td>\n",
              "      <td>4.1</td>\n",
              "      <td>4.1</td>\n",
              "      <td>4.1</td>\n",
              "      <td>1</td>\n",
              "      <td>1</td>\n",
              "      <td>TMB</td>\n",
              "      <td>4.0</td>\n",
              "      <td>37.0</td>\n",
              "      <td>100.0</td>\n",
              "      <td>15.0</td>\n",
              "      <td>0.02624</td>\n",
              "      <td>1</td>\n",
              "    </tr>\n",
              "    <tr>\n",
              "      <th>3</th>\n",
              "      <td>CoFe2O4</td>\n",
              "      <td>0.22769</td>\n",
              "      <td>3918.25</td>\n",
              "      <td>7</td>\n",
              "      <td>13.8</td>\n",
              "      <td>13.8</td>\n",
              "      <td>13.8</td>\n",
              "      <td>1</td>\n",
              "      <td>1</td>\n",
              "      <td>TMB</td>\n",
              "      <td>4.0</td>\n",
              "      <td>37.0</td>\n",
              "      <td>100.0</td>\n",
              "      <td>15.0</td>\n",
              "      <td>0.02624</td>\n",
              "      <td>1</td>\n",
              "    </tr>\n",
              "    <tr>\n",
              "      <th>4</th>\n",
              "      <td>CoFe2O4</td>\n",
              "      <td>0.01725</td>\n",
              "      <td>9184.91</td>\n",
              "      <td>7</td>\n",
              "      <td>24.5</td>\n",
              "      <td>24.5</td>\n",
              "      <td>24.5</td>\n",
              "      <td>1</td>\n",
              "      <td>1</td>\n",
              "      <td>H2O2</td>\n",
              "      <td>4.0</td>\n",
              "      <td>37.0</td>\n",
              "      <td>100.0</td>\n",
              "      <td>15.0</td>\n",
              "      <td>0.02624</td>\n",
              "      <td>1</td>\n",
              "    </tr>\n",
              "  </tbody>\n",
              "</table>\n",
              "</div>\n",
              "      <button class=\"colab-df-convert\" onclick=\"convertToInteractive('df-9d815d91-21c2-4555-9375-a9c6c23b071f')\"\n",
              "              title=\"Convert this dataframe to an interactive table.\"\n",
              "              style=\"display:none;\">\n",
              "        \n",
              "  <svg xmlns=\"http://www.w3.org/2000/svg\" height=\"24px\"viewBox=\"0 0 24 24\"\n",
              "       width=\"24px\">\n",
              "    <path d=\"M0 0h24v24H0V0z\" fill=\"none\"/>\n",
              "    <path d=\"M18.56 5.44l.94 2.06.94-2.06 2.06-.94-2.06-.94-.94-2.06-.94 2.06-2.06.94zm-11 1L8.5 8.5l.94-2.06 2.06-.94-2.06-.94L8.5 2.5l-.94 2.06-2.06.94zm10 10l.94 2.06.94-2.06 2.06-.94-2.06-.94-.94-2.06-.94 2.06-2.06.94z\"/><path d=\"M17.41 7.96l-1.37-1.37c-.4-.4-.92-.59-1.43-.59-.52 0-1.04.2-1.43.59L10.3 9.45l-7.72 7.72c-.78.78-.78 2.05 0 2.83L4 21.41c.39.39.9.59 1.41.59.51 0 1.02-.2 1.41-.59l7.78-7.78 2.81-2.81c.8-.78.8-2.07 0-2.86zM5.41 20L4 18.59l7.72-7.72 1.47 1.35L5.41 20z\"/>\n",
              "  </svg>\n",
              "      </button>\n",
              "      \n",
              "  <style>\n",
              "    .colab-df-container {\n",
              "      display:flex;\n",
              "      flex-wrap:wrap;\n",
              "      gap: 12px;\n",
              "    }\n",
              "\n",
              "    .colab-df-convert {\n",
              "      background-color: #E8F0FE;\n",
              "      border: none;\n",
              "      border-radius: 50%;\n",
              "      cursor: pointer;\n",
              "      display: none;\n",
              "      fill: #1967D2;\n",
              "      height: 32px;\n",
              "      padding: 0 0 0 0;\n",
              "      width: 32px;\n",
              "    }\n",
              "\n",
              "    .colab-df-convert:hover {\n",
              "      background-color: #E2EBFA;\n",
              "      box-shadow: 0px 1px 2px rgba(60, 64, 67, 0.3), 0px 1px 3px 1px rgba(60, 64, 67, 0.15);\n",
              "      fill: #174EA6;\n",
              "    }\n",
              "\n",
              "    [theme=dark] .colab-df-convert {\n",
              "      background-color: #3B4455;\n",
              "      fill: #D2E3FC;\n",
              "    }\n",
              "\n",
              "    [theme=dark] .colab-df-convert:hover {\n",
              "      background-color: #434B5C;\n",
              "      box-shadow: 0px 1px 3px 1px rgba(0, 0, 0, 0.15);\n",
              "      filter: drop-shadow(0px 1px 2px rgba(0, 0, 0, 0.3));\n",
              "      fill: #FFFFFF;\n",
              "    }\n",
              "  </style>\n",
              "\n",
              "      <script>\n",
              "        const buttonEl =\n",
              "          document.querySelector('#df-9d815d91-21c2-4555-9375-a9c6c23b071f button.colab-df-convert');\n",
              "        buttonEl.style.display =\n",
              "          google.colab.kernel.accessAllowed ? 'block' : 'none';\n",
              "\n",
              "        async function convertToInteractive(key) {\n",
              "          const element = document.querySelector('#df-9d815d91-21c2-4555-9375-a9c6c23b071f');\n",
              "          const dataTable =\n",
              "            await google.colab.kernel.invokeFunction('convertToInteractive',\n",
              "                                                     [key], {});\n",
              "          if (!dataTable) return;\n",
              "\n",
              "          const docLinkHtml = 'Like what you see? Visit the ' +\n",
              "            '<a target=\"_blank\" href=https://colab.research.google.com/notebooks/data_table.ipynb>data table notebook</a>'\n",
              "            + ' to learn more about interactive tables.';\n",
              "          element.innerHTML = '';\n",
              "          dataTable['output_type'] = 'display_data';\n",
              "          await google.colab.output.renderOutput(dataTable, element);\n",
              "          const docLink = document.createElement('div');\n",
              "          docLink.innerHTML = docLinkHtml;\n",
              "          element.appendChild(docLink);\n",
              "        }\n",
              "      </script>\n",
              "    </div>\n",
              "  </div>\n",
              "  "
            ]
          },
          "metadata": {},
          "execution_count": 90
        }
      ]
    },
    {
      "cell_type": "markdown",
      "source": [
        "**Обучение модели**"
      ],
      "metadata": {
        "id": "PRa46V79fOfU"
      }
    },
    {
      "cell_type": "code",
      "source": [
        "from sklearn.model_selection import train_test_split\n",
        "from sklearn.metrics import mean_squared_error\n",
        "from sklearn.metrics import r2_score"
      ],
      "metadata": {
        "id": "MKVupEXGdXwP"
      },
      "execution_count": null,
      "outputs": []
    },
    {
      "cell_type": "code",
      "source": [
        "from sklearn.model_selection import GridSearchCV"
      ],
      "metadata": {
        "id": "VJUAzybntLPj"
      },
      "execution_count": null,
      "outputs": []
    },
    {
      "cell_type": "code",
      "source": [
        "X=df.drop(['Km', 'Kcat', 'formula'], axis=1)\n",
        "y=df['Km']"
      ],
      "metadata": {
        "id": "30aKuvqFgbjQ"
      },
      "execution_count": null,
      "outputs": []
    },
    {
      "cell_type": "code",
      "source": [
        "model = CatBoostRegressor()"
      ],
      "metadata": {
        "id": "RG3zPG8Emhp-"
      },
      "execution_count": null,
      "outputs": []
    },
    {
      "cell_type": "code",
      "source": [
        "X_train, X_test, y_train, y_test = train_test_split(X, y)"
      ],
      "metadata": {
        "id": "WxSBRYwokg--"
      },
      "execution_count": null,
      "outputs": []
    },
    {
      "cell_type": "code",
      "source": [
        "grid = {'iterations': [100, 150, 200],\n",
        "        'learning_rate': [0.03, 0.1],\n",
        "        'depth': [2, 4, 6, 8],\n",
        "        'l2_leaf_reg': [0.2, 0.5, 1, 3]}\n",
        "model.GridSearchCV(grid, X_train, y_train)"
      ],
      "metadata": {
        "colab": {
          "base_uri": "https://localhost:8080/",
          "height": 200
        },
        "id": "I_NtOgVypq9Y",
        "outputId": "c98c1514-0bff-4280-9138-74583e5a1e38"
      },
      "execution_count": null,
      "outputs": [
        {
          "output_type": "error",
          "ename": "TypeError",
          "evalue": "ignored",
          "traceback": [
            "\u001b[0;31m---------------------------------------------------------------------------\u001b[0m",
            "\u001b[0;31mTypeError\u001b[0m                                 Traceback (most recent call last)",
            "\u001b[0;32m<ipython-input-105-a8e2e78d5158>\u001b[0m in \u001b[0;36m<module>\u001b[0;34m()\u001b[0m\n\u001b[1;32m      3\u001b[0m         \u001b[0;34m'depth'\u001b[0m\u001b[0;34m:\u001b[0m \u001b[0;34m[\u001b[0m\u001b[0;36m2\u001b[0m\u001b[0;34m,\u001b[0m \u001b[0;36m4\u001b[0m\u001b[0;34m,\u001b[0m \u001b[0;36m6\u001b[0m\u001b[0;34m,\u001b[0m \u001b[0;36m8\u001b[0m\u001b[0;34m]\u001b[0m\u001b[0;34m,\u001b[0m\u001b[0;34m\u001b[0m\u001b[0;34m\u001b[0m\u001b[0m\n\u001b[1;32m      4\u001b[0m         'l2_leaf_reg': [0.2, 0.5, 1, 3]}\n\u001b[0;32m----> 5\u001b[0;31m \u001b[0mmodel\u001b[0m\u001b[0;34m.\u001b[0m\u001b[0mgrid_search\u001b[0m\u001b[0;34m(\u001b[0m\u001b[0mgrid\u001b[0m\u001b[0;34m,\u001b[0m \u001b[0mX_train\u001b[0m\u001b[0;34m,\u001b[0m \u001b[0my_train\u001b[0m\u001b[0;34m,\u001b[0m \u001b[0mcat_features\u001b[0m\u001b[0;34m=\u001b[0m\u001b[0;34m[\u001b[0m\u001b[0;34m'Syngony'\u001b[0m\u001b[0;34m,\u001b[0m \u001b[0;34m'pol'\u001b[0m\u001b[0;34m,\u001b[0m \u001b[0;34m'surf'\u001b[0m\u001b[0;34m,\u001b[0m \u001b[0;34m'Subtype'\u001b[0m\u001b[0;34m,\u001b[0m \u001b[0;34m'if_oxide'\u001b[0m\u001b[0;34m]\u001b[0m\u001b[0;34m)\u001b[0m\u001b[0;34m\u001b[0m\u001b[0;34m\u001b[0m\u001b[0m\n\u001b[0m",
            "\u001b[0;31mTypeError\u001b[0m: grid_search() got an unexpected keyword argument 'cat_features'"
          ]
        }
      ]
    },
    {
      "cell_type": "code",
      "source": [
        "from sklearn.inspection import permutation_importance\n",
        "r = permutation_importance(model, X_val, y_val,\n",
        "                            n_repeats=30,\n",
        "                            random_state=0)\n",
        "\n",
        "for i in r.importances_mean.argsort()[::-1]:\n",
        "     if r.importances_mean[i] - 2 * r.importances_std[i] > 0:\n",
        "         print(f\"{diabetes.feature_names[i]:<8}\"\n",
        "               f\"{r.importances_mean[i]:.3f}\"\n",
        "               f\" +/- {r.importances_std[i]:.3f}\")"
      ],
      "metadata": {
        "id": "ABmwgp6-ggPk"
      },
      "execution_count": null,
      "outputs": []
    },
    {
      "cell_type": "code",
      "source": [
        ""
      ],
      "metadata": {
        "id": "6byHdTHJiQFd"
      },
      "execution_count": null,
      "outputs": []
    }
  ]
}