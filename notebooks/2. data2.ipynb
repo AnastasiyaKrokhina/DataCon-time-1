{
  "cells": [
    {
      "cell_type": "markdown",
      "metadata": {
        "id": "view-in-github",
        "colab_type": "text"
      },
      "source": [
        "<a href=\"https://colab.research.google.com/github/AnastasiyaKrokhina/DataCon-time-1/blob/main/notebooks/data2.ipynb\" target=\"_parent\"><img src=\"https://colab.research.google.com/assets/colab-badge.svg\" alt=\"Open In Colab\"/></a>"
      ]
    },
    {
      "cell_type": "code",
      "execution_count": 1,
      "metadata": {
        "colab": {
          "base_uri": "https://localhost:8080/"
        },
        "id": "gT_NpfGrPJVo",
        "outputId": "cb949c69-7bd4-4584-e920-e2598ae15ef8"
      },
      "outputs": [
        {
          "output_type": "stream",
          "name": "stderr",
          "text": [
            "WARNING: pip is being invoked by an old script wrapper. This will fail in a future version of pip.\n",
            "Please see https://github.com/pypa/pip/issues/5599 for advice on fixing the underlying issue.\n",
            "To avoid this problem you can invoke Python with '-m pip' instead of running pip directly.\n"
          ]
        },
        {
          "output_type": "stream",
          "name": "stdout",
          "text": [
            "Looking in indexes: https://pypi.org/simple, https://us-python.pkg.dev/colab-wheels/public/simple/\n",
            "Collecting catboost\n",
            "  Downloading catboost-1.0.6-cp37-none-manylinux1_x86_64.whl (76.6 MB)\n",
            "Requirement already satisfied: numpy>=1.16.0 in /usr/local/lib/python3.7/dist-packages (from catboost) (1.21.6)\n",
            "Requirement already satisfied: graphviz in /usr/local/lib/python3.7/dist-packages (from catboost) (0.10.1)\n",
            "Requirement already satisfied: scipy in /usr/local/lib/python3.7/dist-packages (from catboost) (1.7.3)\n",
            "Requirement already satisfied: pandas>=0.24.0 in /usr/local/lib/python3.7/dist-packages (from catboost) (1.3.5)\n",
            "Requirement already satisfied: plotly in /usr/local/lib/python3.7/dist-packages (from catboost) (5.5.0)\n",
            "Requirement already satisfied: six in /usr/local/lib/python3.7/dist-packages (from catboost) (1.15.0)\n",
            "Requirement already satisfied: matplotlib in /usr/local/lib/python3.7/dist-packages (from catboost) (3.2.2)\n",
            "Requirement already satisfied: python-dateutil>=2.7.3 in /usr/local/lib/python3.7/dist-packages (from pandas>=0.24.0->catboost) (2.8.2)\n",
            "Requirement already satisfied: pytz>=2017.3 in /usr/local/lib/python3.7/dist-packages (from pandas>=0.24.0->catboost) (2022.1)\n",
            "Requirement already satisfied: pyparsing!=2.0.4,!=2.1.2,!=2.1.6,>=2.0.1 in /usr/local/lib/python3.7/dist-packages (from matplotlib->catboost) (3.0.9)\n",
            "Requirement already satisfied: cycler>=0.10 in /usr/local/lib/python3.7/dist-packages (from matplotlib->catboost) (0.11.0)\n",
            "Requirement already satisfied: kiwisolver>=1.0.1 in /usr/local/lib/python3.7/dist-packages (from matplotlib->catboost) (1.4.4)\n",
            "Requirement already satisfied: typing-extensions in /usr/local/lib/python3.7/dist-packages (from kiwisolver>=1.0.1->matplotlib->catboost) (4.1.1)\n",
            "Requirement already satisfied: tenacity>=6.2.0 in /usr/local/lib/python3.7/dist-packages (from plotly->catboost) (8.0.1)\n",
            "Installing collected packages: catboost\n",
            "Successfully installed catboost-1.0.6\n"
          ]
        },
        {
          "output_type": "stream",
          "name": "stderr",
          "text": [
            "WARNING: pip is being invoked by an old script wrapper. This will fail in a future version of pip.\n",
            "Please see https://github.com/pypa/pip/issues/5599 for advice on fixing the underlying issue.\n",
            "To avoid this problem you can invoke Python with '-m pip' instead of running pip directly.\n"
          ]
        },
        {
          "output_type": "stream",
          "name": "stdout",
          "text": [
            "Looking in indexes: https://pypi.org/simple, https://us-python.pkg.dev/colab-wheels/public/simple/\n",
            "Collecting category-encoders\n",
            "  Downloading category_encoders-2.5.0-py2.py3-none-any.whl (69 kB)\n",
            "Requirement already satisfied: scikit-learn>=0.20.0 in /usr/local/lib/python3.7/dist-packages (from category-encoders) (1.0.2)\n",
            "Requirement already satisfied: numpy>=1.14.0 in /usr/local/lib/python3.7/dist-packages (from category-encoders) (1.21.6)\n",
            "Requirement already satisfied: patsy>=0.5.1 in /usr/local/lib/python3.7/dist-packages (from category-encoders) (0.5.2)\n",
            "Requirement already satisfied: scipy>=1.0.0 in /usr/local/lib/python3.7/dist-packages (from category-encoders) (1.7.3)\n",
            "Requirement already satisfied: pandas>=1.0.5 in /usr/local/lib/python3.7/dist-packages (from category-encoders) (1.3.5)\n",
            "Requirement already satisfied: statsmodels>=0.9.0 in /usr/local/lib/python3.7/dist-packages (from category-encoders) (0.10.2)\n",
            "Requirement already satisfied: python-dateutil>=2.7.3 in /usr/local/lib/python3.7/dist-packages (from pandas>=1.0.5->category-encoders) (2.8.2)\n",
            "Requirement already satisfied: pytz>=2017.3 in /usr/local/lib/python3.7/dist-packages (from pandas>=1.0.5->category-encoders) (2022.1)\n",
            "Requirement already satisfied: six in /usr/local/lib/python3.7/dist-packages (from patsy>=0.5.1->category-encoders) (1.15.0)\n",
            "Requirement already satisfied: joblib>=0.11 in /usr/local/lib/python3.7/dist-packages (from scikit-learn>=0.20.0->category-encoders) (1.1.0)\n",
            "Requirement already satisfied: threadpoolctl>=2.0.0 in /usr/local/lib/python3.7/dist-packages (from scikit-learn>=0.20.0->category-encoders) (3.1.0)\n",
            "Installing collected packages: category-encoders\n",
            "Successfully installed category-encoders-2.5.0\n",
            "NumExpr defaulting to 2 threads.\n"
          ]
        },
        {
          "output_type": "stream",
          "name": "stderr",
          "text": [
            "WARNING: pip is being invoked by an old script wrapper. This will fail in a future version of pip.\n",
            "Please see https://github.com/pypa/pip/issues/5599 for advice on fixing the underlying issue.\n",
            "To avoid this problem you can invoke Python with '-m pip' instead of running pip directly.\n"
          ]
        },
        {
          "output_type": "stream",
          "name": "stdout",
          "text": [
            "Looking in indexes: https://pypi.org/simple, https://us-python.pkg.dev/colab-wheels/public/simple/\n",
            "Collecting pymatgen\n",
            "  Downloading pymatgen-2022.0.17.tar.gz (40.6 MB)\n",
            "  Installing build dependencies: started\n",
            "  Installing build dependencies: finished with status 'done'\n",
            "  Getting requirements to build wheel: started\n",
            "  Getting requirements to build wheel: finished with status 'done'\n",
            "  Installing backend dependencies: started\n",
            "  Installing backend dependencies: finished with status 'done'\n",
            "    Preparing wheel metadata: started\n",
            "    Preparing wheel metadata: finished with status 'done'\n",
            "Requirement already satisfied: sympy in /usr/local/lib/python3.7/dist-packages (from pymatgen) (1.7.1)\n",
            "Collecting ruamel.yaml>=0.15.6\n",
            "  Downloading ruamel.yaml-0.17.21-py3-none-any.whl (109 kB)\n",
            "Requirement already satisfied: pandas in /usr/local/lib/python3.7/dist-packages (from pymatgen) (1.3.5)\n",
            "Collecting uncertainties>=3.1.4\n",
            "  Downloading uncertainties-3.1.7-py2.py3-none-any.whl (98 kB)\n",
            "Requirement already satisfied: networkx>=2.2 in /usr/local/lib/python3.7/dist-packages (from pymatgen) (2.6.3)\n",
            "Requirement already satisfied: numpy>=1.20.1 in /usr/local/lib/python3.7/dist-packages (from pymatgen) (1.21.6)\n",
            "Requirement already satisfied: plotly>=4.5.0 in /usr/local/lib/python3.7/dist-packages (from pymatgen) (5.5.0)\n",
            "Collecting monty>=3.0.2\n",
            "  Downloading monty-2022.4.26-py3-none-any.whl (65 kB)\n",
            "Collecting spglib>=1.9.9.44\n",
            "  Downloading spglib-1.16.5-cp37-cp37m-manylinux_2_17_x86_64.manylinux2014_x86_64.whl (325 kB)\n",
            "Requirement already satisfied: matplotlib>=1.5 in /usr/local/lib/python3.7/dist-packages (from pymatgen) (3.2.2)\n",
            "Requirement already satisfied: palettable>=3.1.1 in /usr/local/lib/python3.7/dist-packages (from pymatgen) (3.3.0)\n",
            "Requirement already satisfied: scipy>=1.5.0 in /usr/local/lib/python3.7/dist-packages (from pymatgen) (1.7.3)\n",
            "Requirement already satisfied: requests in /usr/local/lib/python3.7/dist-packages (from pymatgen) (2.23.0)\n",
            "Requirement already satisfied: typing-extensions>=3.7.4.3 in /usr/local/lib/python3.7/dist-packages (from pymatgen) (4.1.1)\n",
            "Requirement already satisfied: tabulate in /usr/local/lib/python3.7/dist-packages (from pymatgen) (0.8.10)\n",
            "Requirement already satisfied: pyparsing!=2.0.4,!=2.1.2,!=2.1.6,>=2.0.1 in /usr/local/lib/python3.7/dist-packages (from matplotlib>=1.5->pymatgen) (3.0.9)\n",
            "Requirement already satisfied: cycler>=0.10 in /usr/local/lib/python3.7/dist-packages (from matplotlib>=1.5->pymatgen) (0.11.0)\n",
            "Requirement already satisfied: kiwisolver>=1.0.1 in /usr/local/lib/python3.7/dist-packages (from matplotlib>=1.5->pymatgen) (1.4.4)\n",
            "Requirement already satisfied: python-dateutil>=2.1 in /usr/local/lib/python3.7/dist-packages (from matplotlib>=1.5->pymatgen) (2.8.2)\n",
            "Requirement already satisfied: tenacity>=6.2.0 in /usr/local/lib/python3.7/dist-packages (from plotly>=4.5.0->pymatgen) (8.0.1)\n",
            "Requirement already satisfied: six in /usr/local/lib/python3.7/dist-packages (from plotly>=4.5.0->pymatgen) (1.15.0)\n",
            "Collecting ruamel.yaml.clib>=0.2.6\n",
            "  Downloading ruamel.yaml.clib-0.2.6-cp37-cp37m-manylinux1_x86_64.whl (546 kB)\n",
            "Requirement already satisfied: future in /usr/local/lib/python3.7/dist-packages (from uncertainties>=3.1.4->pymatgen) (0.16.0)\n",
            "Requirement already satisfied: pytz>=2017.3 in /usr/local/lib/python3.7/dist-packages (from pandas->pymatgen) (2022.1)\n",
            "Requirement already satisfied: certifi>=2017.4.17 in /usr/local/lib/python3.7/dist-packages (from requests->pymatgen) (2022.6.15)\n",
            "Requirement already satisfied: chardet<4,>=3.0.2 in /usr/local/lib/python3.7/dist-packages (from requests->pymatgen) (3.0.4)\n",
            "Requirement already satisfied: urllib3!=1.25.0,!=1.25.1,<1.26,>=1.21.1 in /usr/local/lib/python3.7/dist-packages (from requests->pymatgen) (1.24.3)\n",
            "Requirement already satisfied: idna<3,>=2.5 in /usr/local/lib/python3.7/dist-packages (from requests->pymatgen) (2.10)\n",
            "Requirement already satisfied: mpmath>=0.19 in /usr/local/lib/python3.7/dist-packages (from sympy->pymatgen) (1.2.1)\n",
            "Building wheels for collected packages: pymatgen\n",
            "  Building wheel for pymatgen (PEP 517): started\n",
            "  Building wheel for pymatgen (PEP 517): finished with status 'done'\n",
            "  Created wheel for pymatgen: filename=pymatgen-2022.0.17-cp37-cp37m-linux_x86_64.whl size=41840993 sha256=d6b0df17a3d048b0061a0d0881bcd5fc1c625fc11dcb6a8708d6a7023759a4f9\n",
            "  Stored in directory: /root/.cache/pip/wheels/cf/f6/22/58a9be23c5f1b452770e02ff42047175eaf0f9c2f15219fc76\n",
            "Successfully built pymatgen\n",
            "Installing collected packages: ruamel.yaml.clib, uncertainties, spglib, ruamel.yaml, monty, pymatgen\n",
            "Successfully installed monty-2022.4.26 pymatgen-2022.0.17 ruamel.yaml-0.17.21 ruamel.yaml.clib-0.2.6 spglib-1.16.5 uncertainties-3.1.7\n"
          ]
        }
      ],
      "source": [
        "#satisfying requirements\n",
        "from pip._internal import main \n",
        "packages = ('traitlets', \n",
        "            'IPython', \n",
        "            'ipywidgets',\n",
        "            'catboost', \n",
        "            'category-encoders',\n",
        "            'pandas', \n",
        "            'numpy', \n",
        "            'seaborn', \n",
        "            'sklearn',\n",
        "            'matplotlib',\n",
        "            'pymatgen',\n",
        "            'pprint')\n",
        "for package in packages:\n",
        "    try:\n",
        "        __import__(package)\n",
        "    except ImportError:\n",
        "        main(['install', package.split()[0]])\n",
        "\n",
        "\n",
        "\n",
        "import seaborn as sns\n",
        "import pandas as pd \n",
        "import numpy as np\n",
        "from matplotlib import pyplot as plt\n",
        "from pymatgen.ext.matproj import MPRester\n",
        "from pprint import pprint\n",
        "MP_API_KEY = \"lnFh1UTkg0QO8WxK\" #ключ доступа \n",
        "m = MPRester(MP_API_KEY)\n",
        "from pymatgen.core.periodic_table import Element\n",
        "from pymatgen.core.composition import Composition\n",
        "from pymatgen.core.structure import Structure, IStructure, Molecule, IMolecule\n",
        "from pymatgen.core.lattice import Lattice\n",
        "from pymatgen.core.ion import Ion\n",
        "from pymatgen.ext.matproj import MPRester\n",
        "from monty.json import MontyEncoder, MontyDecoder, MSONable\n",
        "\n",
        "\n",
        "dataset1=pd.read_excel('https://github.com/AnastasiyaKrokhina/DataCon-time-1/blob/main/data/Database_1.xlsx?raw=true') \n",
        "dataset2=pd.read_excel('https://github.com/AnastasiyaKrokhina/DataCon-time-1/blob/main/data/Database_2.xlsx?raw=true')\n",
        "dataset3=pd.read_excel('https://github.com/AnastasiyaKrokhina/DataCon-time-1/blob/main/data/Database_3.xlsx?raw=true')\n",
        "dataset4=pd.read_excel('https://github.com/AnastasiyaKrokhina/DataCon-time-1/blob/main/data/Database_4.xlsx?raw=true')\n",
        "dataset5=pd.read_excel('https://github.com/AnastasiyaKrokhina/DataCon-time-1/blob/main/data/Database_5.xlsx?raw=true')"
      ]
    },
    {
      "cell_type": "code",
      "execution_count": 2,
      "metadata": {
        "id": "OwanX0x08QtA"
      },
      "outputs": [],
      "source": [
        "# в этом датасете содержатся также данные по органическим наночастицам и частицам различных аллотропных модификаций углерода"
      ]
    },
    {
      "cell_type": "code",
      "execution_count": 3,
      "metadata": {
        "id": "HgHDVaqjpu18"
      },
      "outputs": [],
      "source": [
        "dataset3['Exposure dose (g/L)'] = dataset3['Concentration (ug/ml)'] * 10**(-6)/(10**(-3)) #концентрация из микрограмм на миллилитр в g/L\n",
        "dataset3.rename(columns = {'Material': 'Material type', 'Coat/Functional Group': 'Coat', 'Zeta_in_Water (mV)':'Surface charge (mV)',\n",
        "                           'Size_in_Water (nm)': 'Hydro size (nm)', 'Cell_Type': 'cell_line', 'Cell_Tissue': 'cell_origin', \n",
        "                           'Cell Line_Primary Cell': 'Cell type', 'Cell_Viability (%)': 'Viability (%)', 'Time (hr)':'time' }, inplace=True)"
      ]
    },
    {
      "cell_type": "code",
      "execution_count": 4,
      "metadata": {
        "id": "wPT40BHv4fCG"
      },
      "outputs": [],
      "source": [
        "dataset3.drop(['No', 'Year', 'Synthesis_Method','Size_in_Medium (nm)', 'Zeta_in_Medium (mV)', 'No_of_Cells (cells/well)', \n",
        "               'Cell_Morphology', 'Cell_Age', 'Test', 'Test_Indicator',\n",
        "               'PDI', 'Article_ID', 'DOI', 'Surface_Charge', 'Concentration (ug/ml)', 'Human_Animal', 'Shape'], inplace = True, axis = 1) #удаляем неинформативные столбцы"
      ]
    },
    {
      "cell_type": "code",
      "execution_count": 5,
      "metadata": {
        "id": "DCRMOF9wEMeU"
      },
      "outputs": [],
      "source": [
        "dataset2.drop(['Publication year', 'Reference DOI', 'Interference checked (Y/N)', 'Colloidal stability checked (Y/N)', 'Positive control (Y/N)', 'Particle ID', 'Biochemical metric', 'Cell morphology',\n",
        "               'Human(H)/Animal(A) cells', 'Test', 'Test indicator'], inplace = True, axis = 1) #удаляем неинформативные столбцы "
      ]
    },
    {
      "cell_type": "code",
      "execution_count": 6,
      "metadata": {
        "id": "kZ1CfLjwGoHj"
      },
      "outputs": [],
      "source": [
        "dataset2['Concentration μM'] = dataset2['Concentration μM'] * dataset1['Molecular weight (g/mol)']* 10**(-6) #концентрация из microM  в g/L\n",
        "  #эту ячейку исполнять только один раз! :) иначе концентрация обновится"
      ]
    },
    {
      "cell_type": "code",
      "execution_count": 7,
      "metadata": {
        "id": "PPdD1RI0uEwD"
      },
      "outputs": [],
      "source": [
        "dataset2.rename({\n",
        "    'Nanoparticle': 'Material type',   \n",
        "    'Zeta potential (mV)': 'Surface charge (mV)', \n",
        "    'Concentration μM':'Exposure dose (g/L)',\n",
        "    '% Cell viability': 'Viability (%)',\n",
        "    'Test indicator': 'Test_indicator',\n",
        "    'Cell age: embryonic (E), Adult (A)':'Cell age',\n",
        "    'Cell line (L)/primary cells (P)':'Cell type',\n",
        "    'Animal?':'Cell_Source',\n",
        "    'Cell-organ/tissue source': 'cell_origin',\n",
        "    'Cells': 'cell_line',\n",
        "    'coat':'Coat',\n",
        "    'Type: Organic (O)/inorganic (I)': 'Type',\n",
        "    'Exposure time (h)': 'time',\n",
        "    'Human(H)/Animal(A) cells': 'cell_species'}, inplace=True, axis=1)"
      ]
    },
    {
      "cell_type": "code",
      "execution_count": 8,
      "metadata": {
        "id": "O8KIOR4tLV3d"
      },
      "outputs": [],
      "source": [
        "datasets2_3 = dataset2.append(dataset3, ignore_index=True)"
      ]
    },
    {
      "cell_type": "code",
      "execution_count": 9,
      "metadata": {
        "id": "P222YaTK_trV"
      },
      "outputs": [],
      "source": [
        "datasets2_3['Cell_Source'] = datasets2_3['Cell_Source'].fillna('Human') #если животное пропущено, значит это были человеческие клетки \n",
        "\n",
        "\n",
        "datasets2_3['Coat'] = datasets2_3['Coat'].fillna('0') # пустоты имеют физический смысл, сделаем новый класс для них "
      ]
    },
    {
      "cell_type": "code",
      "execution_count": 10,
      "metadata": {
        "id": "RjvibfAz9ngY"
      },
      "outputs": [],
      "source": [
        "datasets2_3['Viability (%)']=datasets2_3['Viability (%)'].apply(lambda row: 0 if (row<0) else row)"
      ]
    },
    {
      "cell_type": "code",
      "execution_count": 11,
      "metadata": {
        "id": "unOqFr8BypJA"
      },
      "outputs": [],
      "source": [
        "def replacement(df, Colname, labels, new_labels):   #функция приводит  названия к общему виду\n",
        "  df[Colname] = df[Colname].replace(labels,new_labels, regex = True)"
      ]
    },
    {
      "cell_type": "code",
      "execution_count": 12,
      "metadata": {
        "id": "baqlDH1fcuXb"
      },
      "outputs": [],
      "source": [
        "datasets2_3['Material type_copy']=datasets2_3['Material type']"
      ]
    },
    {
      "cell_type": "code",
      "execution_count": 13,
      "metadata": {
        "id": "_5omnhSXWcbI"
      },
      "outputs": [],
      "source": [
        "labels = ['CeO2', 'Se', 'CuO', 'Copper Oxide', 'CuS', 'ZnO', 'Zinc oxide',\n",
        "       'Iron oxide', 'TiO2', 'Ti', 'Cr', 'Co', 'Co3O4', 'CdO', 'MnO',\n",
        "       'Bi', 'Mo', 'Pt', 'Hydroxyapatite', 'Cu2O', 'MgO', 'Al2O3', 'QDs',\n",
        "       'SiO2', 'Au', 'Ag', 'Eudragit RL', 'Dendrimer', 'PLGA',\n",
        "       'Polystyrene', 'Liposomes', 'SLN', 'Carbon Nanotubes', 'Carbon NP',\n",
        "       'Chitosan', 'QD', 'IronOxide', 'Dendrmer', 'Alginate', 'PTFE-PMMA',\n",
        "       'MWCNT', 'HAP', 'Ni', 'EudragitRL', 'Carbon', 'ZrO2', 'C60', 'C70',\n",
        "       'SWCNT', 'Diamond', 'Graphite', 'Fe2O3', 'IronOxide', 'NiO', 'Ay',\n",
        "       'Cu', 'Ce O2', 'Bi2O3','IronOide']\n",
        "new_labels = ['CeO2', 'Se', 'CuO', 'CuO', 'CuS', 'ZnO', 'ZnO',\n",
        "       'Fe3O4', 'TiO2', 'Ti', 'Cr', 'Co', 'Co3O4', 'CdO', 'MnO',\n",
        "       'Bi', 'Mo', 'Pt', 'Ca10(PO4)6(OH)2', 'Cu2O', 'MgO', 'Al2O3', 'QDs',\n",
        "       'SiO2', 'Au', 'Ag', 'Eudragit RL', 'Dendrimer', 'PLGA',\n",
        "       'Polystyrene', 'Liposomes', 'SLN', 'Carbon Nanotubes', 'Carbon NP',\n",
        "       'Chitosan', 'QD', 'Fe3O4', 'Dendrimer', 'C6H7O6Na', 'PTFE-PMMA',\n",
        "       'MWCNT', 'Ca10(PO4)6(OH)2', 'Ni', 'EudragitRL', 'Carbon', 'ZrO2', 'C60', 'C70',\n",
        "       'SWCNT', 'Diamond', 'Graphite', 'Fe2O3', 'Fe3O4', 'NiO', 'Au',\n",
        "       'Cu', 'CeO2', 'Bi2O3', 'Fe3O4']\n",
        "replacement(datasets2_3,'Material type', labels, new_labels)"
      ]
    },
    {
      "cell_type": "code",
      "execution_count": 14,
      "metadata": {
        "id": "K20vAhBYoXs0",
        "colab": {
          "base_uri": "https://localhost:8080/",
          "height": 424
        },
        "outputId": "9882e1cf-a53f-4427-9b3f-98866635ce8f"
      },
      "outputs": [
        {
          "output_type": "execute_result",
          "data": {
            "text/plain": [
              "     Material type Type Coat  Diameter (nm)  Exposure dose (g/L)  \\\n",
              "0             CeO2    I    0           20.3         1.970989e-07   \n",
              "1             CeO2    I    0           20.3         4.032914e-07   \n",
              "2             CeO2    I    0           20.3         8.065828e-07   \n",
              "3             CeO2    I    0           20.3         1.613166e-06   \n",
              "4             CeO2    I    0           20.3         6.258968e-06   \n",
              "...            ...  ...  ...            ...                  ...   \n",
              "7002   Polystyrene    O  NH2            NaN         1.000000e-05   \n",
              "7003   Polystyrene    O  NH2            NaN         1.000000e-04   \n",
              "7004   Polystyrene    O  NH2            NaN         1.000000e-03   \n",
              "7005   Polystyrene    O  NH2            NaN         1.000000e-02   \n",
              "7006   Polystyrene    0  NH2            NaN         1.000000e-01   \n",
              "\n",
              "     Surface charge (mV) cell_line Cell type Cell_Source Cell age  \\\n",
              "0                    NaN      L929         L       Mouse        A   \n",
              "1                    NaN      L929         L       Mouse        A   \n",
              "2                    NaN      L929         L       Mouse        A   \n",
              "3                    NaN      L929         L       Mouse        A   \n",
              "4                    NaN      L929         L       Mouse        A   \n",
              "...                  ...       ...       ...         ...      ...   \n",
              "7002                 NaN     THP-1         L       Human      NaN   \n",
              "7003                 NaN     THP-1         L       Human      NaN   \n",
              "7004                 NaN     THP-1         L       Human      NaN   \n",
              "7005                 NaN     THP-1         L       Human      NaN   \n",
              "7006                 NaN     THP-1         L       Human      NaN   \n",
              "\n",
              "         cell_origin  time  Viability (%)  Hydro size (nm)  Aspect_Ratio  \\\n",
              "0     Areolar tissue    24      105.58918              NaN           NaN   \n",
              "1     Areolar tissue    24      103.02621              NaN           NaN   \n",
              "2     Areolar tissue    24      104.85748              NaN           NaN   \n",
              "3     Areolar tissue    24      100.09670              NaN           NaN   \n",
              "4     Areolar tissue    24       97.53237              NaN           NaN   \n",
              "...              ...   ...            ...              ...           ...   \n",
              "7002           Blood    48      100.00000              NaN           NaN   \n",
              "7003           Blood    48      114.57000              NaN           NaN   \n",
              "7004           Blood    48      119.65000              NaN           NaN   \n",
              "7005           Blood    48      117.22000              NaN           NaN   \n",
              "7006           Blood    48      106.84000              NaN           NaN   \n",
              "\n",
              "     Material type_copy  \n",
              "0                  CeO2  \n",
              "1                  CeO2  \n",
              "2                  CeO2  \n",
              "3                  CeO2  \n",
              "4                  CeO2  \n",
              "...                 ...  \n",
              "7002        Polystyrene  \n",
              "7003        Polystyrene  \n",
              "7004        Polystyrene  \n",
              "7005        Polystyrene  \n",
              "7006        Polystyrene  \n",
              "\n",
              "[7007 rows x 16 columns]"
            ],
            "text/html": [
              "\n",
              "  <div id=\"df-26a2ea2a-6425-4752-b714-a5a411a8627c\">\n",
              "    <div class=\"colab-df-container\">\n",
              "      <div>\n",
              "<style scoped>\n",
              "    .dataframe tbody tr th:only-of-type {\n",
              "        vertical-align: middle;\n",
              "    }\n",
              "\n",
              "    .dataframe tbody tr th {\n",
              "        vertical-align: top;\n",
              "    }\n",
              "\n",
              "    .dataframe thead th {\n",
              "        text-align: right;\n",
              "    }\n",
              "</style>\n",
              "<table border=\"1\" class=\"dataframe\">\n",
              "  <thead>\n",
              "    <tr style=\"text-align: right;\">\n",
              "      <th></th>\n",
              "      <th>Material type</th>\n",
              "      <th>Type</th>\n",
              "      <th>Coat</th>\n",
              "      <th>Diameter (nm)</th>\n",
              "      <th>Exposure dose (g/L)</th>\n",
              "      <th>Surface charge (mV)</th>\n",
              "      <th>cell_line</th>\n",
              "      <th>Cell type</th>\n",
              "      <th>Cell_Source</th>\n",
              "      <th>Cell age</th>\n",
              "      <th>cell_origin</th>\n",
              "      <th>time</th>\n",
              "      <th>Viability (%)</th>\n",
              "      <th>Hydro size (nm)</th>\n",
              "      <th>Aspect_Ratio</th>\n",
              "      <th>Material type_copy</th>\n",
              "    </tr>\n",
              "  </thead>\n",
              "  <tbody>\n",
              "    <tr>\n",
              "      <th>0</th>\n",
              "      <td>CeO2</td>\n",
              "      <td>I</td>\n",
              "      <td>0</td>\n",
              "      <td>20.3</td>\n",
              "      <td>1.970989e-07</td>\n",
              "      <td>NaN</td>\n",
              "      <td>L929</td>\n",
              "      <td>L</td>\n",
              "      <td>Mouse</td>\n",
              "      <td>A</td>\n",
              "      <td>Areolar tissue</td>\n",
              "      <td>24</td>\n",
              "      <td>105.58918</td>\n",
              "      <td>NaN</td>\n",
              "      <td>NaN</td>\n",
              "      <td>CeO2</td>\n",
              "    </tr>\n",
              "    <tr>\n",
              "      <th>1</th>\n",
              "      <td>CeO2</td>\n",
              "      <td>I</td>\n",
              "      <td>0</td>\n",
              "      <td>20.3</td>\n",
              "      <td>4.032914e-07</td>\n",
              "      <td>NaN</td>\n",
              "      <td>L929</td>\n",
              "      <td>L</td>\n",
              "      <td>Mouse</td>\n",
              "      <td>A</td>\n",
              "      <td>Areolar tissue</td>\n",
              "      <td>24</td>\n",
              "      <td>103.02621</td>\n",
              "      <td>NaN</td>\n",
              "      <td>NaN</td>\n",
              "      <td>CeO2</td>\n",
              "    </tr>\n",
              "    <tr>\n",
              "      <th>2</th>\n",
              "      <td>CeO2</td>\n",
              "      <td>I</td>\n",
              "      <td>0</td>\n",
              "      <td>20.3</td>\n",
              "      <td>8.065828e-07</td>\n",
              "      <td>NaN</td>\n",
              "      <td>L929</td>\n",
              "      <td>L</td>\n",
              "      <td>Mouse</td>\n",
              "      <td>A</td>\n",
              "      <td>Areolar tissue</td>\n",
              "      <td>24</td>\n",
              "      <td>104.85748</td>\n",
              "      <td>NaN</td>\n",
              "      <td>NaN</td>\n",
              "      <td>CeO2</td>\n",
              "    </tr>\n",
              "    <tr>\n",
              "      <th>3</th>\n",
              "      <td>CeO2</td>\n",
              "      <td>I</td>\n",
              "      <td>0</td>\n",
              "      <td>20.3</td>\n",
              "      <td>1.613166e-06</td>\n",
              "      <td>NaN</td>\n",
              "      <td>L929</td>\n",
              "      <td>L</td>\n",
              "      <td>Mouse</td>\n",
              "      <td>A</td>\n",
              "      <td>Areolar tissue</td>\n",
              "      <td>24</td>\n",
              "      <td>100.09670</td>\n",
              "      <td>NaN</td>\n",
              "      <td>NaN</td>\n",
              "      <td>CeO2</td>\n",
              "    </tr>\n",
              "    <tr>\n",
              "      <th>4</th>\n",
              "      <td>CeO2</td>\n",
              "      <td>I</td>\n",
              "      <td>0</td>\n",
              "      <td>20.3</td>\n",
              "      <td>6.258968e-06</td>\n",
              "      <td>NaN</td>\n",
              "      <td>L929</td>\n",
              "      <td>L</td>\n",
              "      <td>Mouse</td>\n",
              "      <td>A</td>\n",
              "      <td>Areolar tissue</td>\n",
              "      <td>24</td>\n",
              "      <td>97.53237</td>\n",
              "      <td>NaN</td>\n",
              "      <td>NaN</td>\n",
              "      <td>CeO2</td>\n",
              "    </tr>\n",
              "    <tr>\n",
              "      <th>...</th>\n",
              "      <td>...</td>\n",
              "      <td>...</td>\n",
              "      <td>...</td>\n",
              "      <td>...</td>\n",
              "      <td>...</td>\n",
              "      <td>...</td>\n",
              "      <td>...</td>\n",
              "      <td>...</td>\n",
              "      <td>...</td>\n",
              "      <td>...</td>\n",
              "      <td>...</td>\n",
              "      <td>...</td>\n",
              "      <td>...</td>\n",
              "      <td>...</td>\n",
              "      <td>...</td>\n",
              "      <td>...</td>\n",
              "    </tr>\n",
              "    <tr>\n",
              "      <th>7002</th>\n",
              "      <td>Polystyrene</td>\n",
              "      <td>O</td>\n",
              "      <td>NH2</td>\n",
              "      <td>NaN</td>\n",
              "      <td>1.000000e-05</td>\n",
              "      <td>NaN</td>\n",
              "      <td>THP-1</td>\n",
              "      <td>L</td>\n",
              "      <td>Human</td>\n",
              "      <td>NaN</td>\n",
              "      <td>Blood</td>\n",
              "      <td>48</td>\n",
              "      <td>100.00000</td>\n",
              "      <td>NaN</td>\n",
              "      <td>NaN</td>\n",
              "      <td>Polystyrene</td>\n",
              "    </tr>\n",
              "    <tr>\n",
              "      <th>7003</th>\n",
              "      <td>Polystyrene</td>\n",
              "      <td>O</td>\n",
              "      <td>NH2</td>\n",
              "      <td>NaN</td>\n",
              "      <td>1.000000e-04</td>\n",
              "      <td>NaN</td>\n",
              "      <td>THP-1</td>\n",
              "      <td>L</td>\n",
              "      <td>Human</td>\n",
              "      <td>NaN</td>\n",
              "      <td>Blood</td>\n",
              "      <td>48</td>\n",
              "      <td>114.57000</td>\n",
              "      <td>NaN</td>\n",
              "      <td>NaN</td>\n",
              "      <td>Polystyrene</td>\n",
              "    </tr>\n",
              "    <tr>\n",
              "      <th>7004</th>\n",
              "      <td>Polystyrene</td>\n",
              "      <td>O</td>\n",
              "      <td>NH2</td>\n",
              "      <td>NaN</td>\n",
              "      <td>1.000000e-03</td>\n",
              "      <td>NaN</td>\n",
              "      <td>THP-1</td>\n",
              "      <td>L</td>\n",
              "      <td>Human</td>\n",
              "      <td>NaN</td>\n",
              "      <td>Blood</td>\n",
              "      <td>48</td>\n",
              "      <td>119.65000</td>\n",
              "      <td>NaN</td>\n",
              "      <td>NaN</td>\n",
              "      <td>Polystyrene</td>\n",
              "    </tr>\n",
              "    <tr>\n",
              "      <th>7005</th>\n",
              "      <td>Polystyrene</td>\n",
              "      <td>O</td>\n",
              "      <td>NH2</td>\n",
              "      <td>NaN</td>\n",
              "      <td>1.000000e-02</td>\n",
              "      <td>NaN</td>\n",
              "      <td>THP-1</td>\n",
              "      <td>L</td>\n",
              "      <td>Human</td>\n",
              "      <td>NaN</td>\n",
              "      <td>Blood</td>\n",
              "      <td>48</td>\n",
              "      <td>117.22000</td>\n",
              "      <td>NaN</td>\n",
              "      <td>NaN</td>\n",
              "      <td>Polystyrene</td>\n",
              "    </tr>\n",
              "    <tr>\n",
              "      <th>7006</th>\n",
              "      <td>Polystyrene</td>\n",
              "      <td>0</td>\n",
              "      <td>NH2</td>\n",
              "      <td>NaN</td>\n",
              "      <td>1.000000e-01</td>\n",
              "      <td>NaN</td>\n",
              "      <td>THP-1</td>\n",
              "      <td>L</td>\n",
              "      <td>Human</td>\n",
              "      <td>NaN</td>\n",
              "      <td>Blood</td>\n",
              "      <td>48</td>\n",
              "      <td>106.84000</td>\n",
              "      <td>NaN</td>\n",
              "      <td>NaN</td>\n",
              "      <td>Polystyrene</td>\n",
              "    </tr>\n",
              "  </tbody>\n",
              "</table>\n",
              "<p>7007 rows × 16 columns</p>\n",
              "</div>\n",
              "      <button class=\"colab-df-convert\" onclick=\"convertToInteractive('df-26a2ea2a-6425-4752-b714-a5a411a8627c')\"\n",
              "              title=\"Convert this dataframe to an interactive table.\"\n",
              "              style=\"display:none;\">\n",
              "        \n",
              "  <svg xmlns=\"http://www.w3.org/2000/svg\" height=\"24px\"viewBox=\"0 0 24 24\"\n",
              "       width=\"24px\">\n",
              "    <path d=\"M0 0h24v24H0V0z\" fill=\"none\"/>\n",
              "    <path d=\"M18.56 5.44l.94 2.06.94-2.06 2.06-.94-2.06-.94-.94-2.06-.94 2.06-2.06.94zm-11 1L8.5 8.5l.94-2.06 2.06-.94-2.06-.94L8.5 2.5l-.94 2.06-2.06.94zm10 10l.94 2.06.94-2.06 2.06-.94-2.06-.94-.94-2.06-.94 2.06-2.06.94z\"/><path d=\"M17.41 7.96l-1.37-1.37c-.4-.4-.92-.59-1.43-.59-.52 0-1.04.2-1.43.59L10.3 9.45l-7.72 7.72c-.78.78-.78 2.05 0 2.83L4 21.41c.39.39.9.59 1.41.59.51 0 1.02-.2 1.41-.59l7.78-7.78 2.81-2.81c.8-.78.8-2.07 0-2.86zM5.41 20L4 18.59l7.72-7.72 1.47 1.35L5.41 20z\"/>\n",
              "  </svg>\n",
              "      </button>\n",
              "      \n",
              "  <style>\n",
              "    .colab-df-container {\n",
              "      display:flex;\n",
              "      flex-wrap:wrap;\n",
              "      gap: 12px;\n",
              "    }\n",
              "\n",
              "    .colab-df-convert {\n",
              "      background-color: #E8F0FE;\n",
              "      border: none;\n",
              "      border-radius: 50%;\n",
              "      cursor: pointer;\n",
              "      display: none;\n",
              "      fill: #1967D2;\n",
              "      height: 32px;\n",
              "      padding: 0 0 0 0;\n",
              "      width: 32px;\n",
              "    }\n",
              "\n",
              "    .colab-df-convert:hover {\n",
              "      background-color: #E2EBFA;\n",
              "      box-shadow: 0px 1px 2px rgba(60, 64, 67, 0.3), 0px 1px 3px 1px rgba(60, 64, 67, 0.15);\n",
              "      fill: #174EA6;\n",
              "    }\n",
              "\n",
              "    [theme=dark] .colab-df-convert {\n",
              "      background-color: #3B4455;\n",
              "      fill: #D2E3FC;\n",
              "    }\n",
              "\n",
              "    [theme=dark] .colab-df-convert:hover {\n",
              "      background-color: #434B5C;\n",
              "      box-shadow: 0px 1px 3px 1px rgba(0, 0, 0, 0.15);\n",
              "      filter: drop-shadow(0px 1px 2px rgba(0, 0, 0, 0.3));\n",
              "      fill: #FFFFFF;\n",
              "    }\n",
              "  </style>\n",
              "\n",
              "      <script>\n",
              "        const buttonEl =\n",
              "          document.querySelector('#df-26a2ea2a-6425-4752-b714-a5a411a8627c button.colab-df-convert');\n",
              "        buttonEl.style.display =\n",
              "          google.colab.kernel.accessAllowed ? 'block' : 'none';\n",
              "\n",
              "        async function convertToInteractive(key) {\n",
              "          const element = document.querySelector('#df-26a2ea2a-6425-4752-b714-a5a411a8627c');\n",
              "          const dataTable =\n",
              "            await google.colab.kernel.invokeFunction('convertToInteractive',\n",
              "                                                     [key], {});\n",
              "          if (!dataTable) return;\n",
              "\n",
              "          const docLinkHtml = 'Like what you see? Visit the ' +\n",
              "            '<a target=\"_blank\" href=https://colab.research.google.com/notebooks/data_table.ipynb>data table notebook</a>'\n",
              "            + ' to learn more about interactive tables.';\n",
              "          element.innerHTML = '';\n",
              "          dataTable['output_type'] = 'display_data';\n",
              "          await google.colab.output.renderOutput(dataTable, element);\n",
              "          const docLink = document.createElement('div');\n",
              "          docLink.innerHTML = docLinkHtml;\n",
              "          element.appendChild(docLink);\n",
              "        }\n",
              "      </script>\n",
              "    </div>\n",
              "  </div>\n",
              "  "
            ]
          },
          "metadata": {},
          "execution_count": 14
        }
      ],
      "source": [
        "datasets2_3.dropna(how='all') #убирает полностью пустые строки"
      ]
    },
    {
      "cell_type": "code",
      "execution_count": 15,
      "metadata": {
        "colab": {
          "base_uri": "https://localhost:8080/"
        },
        "id": "NjrY9yjzwuTZ",
        "outputId": "f11e286f-f66f-4826-d43f-459e7ec64836"
      },
      "outputs": [
        {
          "output_type": "execute_result",
          "data": {
            "text/plain": [
              "0         A\n",
              "1         A\n",
              "2         A\n",
              "3         A\n",
              "4         A\n",
              "       ... \n",
              "7002    NaN\n",
              "7003    NaN\n",
              "7004    NaN\n",
              "7005    NaN\n",
              "7006    NaN\n",
              "Name: Cell age, Length: 7007, dtype: object"
            ]
          },
          "metadata": {},
          "execution_count": 15
        }
      ],
      "source": [
        "datasets2_3.pop('Cell age') #слишком много нанов и в других таблицах возраста нет\n"
      ]
    },
    {
      "cell_type": "code",
      "execution_count": 16,
      "metadata": {
        "id": "bt4HQQUb0nqM"
      },
      "outputs": [],
      "source": [
        "datasets2_3['Coat'] = np.where((datasets2_3['Coat'] == '0'), None, datasets2_3['Coat']) # присутствуют и 0, и None"
      ]
    },
    {
      "cell_type": "code",
      "execution_count": 17,
      "metadata": {
        "id": "Ap4mMjnn6e6t"
      },
      "outputs": [],
      "source": [
        " datasets2_3['Coat'] = datasets2_3['Coat'].fillna('naked')"
      ]
    },
    {
      "cell_type": "code",
      "execution_count": 18,
      "metadata": {
        "id": "cuuBnwPGB4WW"
      },
      "outputs": [],
      "source": [
        "db1_4_5 = pd.read_csv('https://raw.githubusercontent.com/AnastasiyaKrokhina/DataCon-time-1/main/data/db1_4_5_new.csv', delimiter = ',', index_col=0)\n"
      ]
    },
    {
      "cell_type": "code",
      "execution_count": 19,
      "metadata": {
        "id": "9-jS73eCxpnO",
        "colab": {
          "base_uri": "https://localhost:8080/",
          "height": 503
        },
        "outputId": "decf94da-f88b-40df-d6a1-6ff4abf00b5d"
      },
      "outputs": [
        {
          "output_type": "execute_result",
          "data": {
            "text/plain": [
              "     Material type Elements  Ionic radius  Core size (nm)  Hydro size (nm)  \\\n",
              "0              CuO       Cu          73.0            12.8            313.8   \n",
              "1              ZnO       Zn          74.0            22.6            114.7   \n",
              "2              ZnO       Zn          74.0            22.6            114.7   \n",
              "3              ZnO       Zn          74.0            22.6             69.4   \n",
              "4            Mn2O3       Mn          58.0            51.5            291.7   \n",
              "...            ...      ...           ...             ...              ...   \n",
              "2131           ZnO      NaN           NaN            35.6            236.0   \n",
              "2132           ZnO      NaN           NaN            35.6            236.0   \n",
              "2133           ZnO      NaN           NaN            35.6            236.0   \n",
              "2134           ZnO      NaN           NaN            35.6            236.0   \n",
              "2135           ZnO      NaN           NaN            35.6            236.0   \n",
              "\n",
              "      Surface charge (mV)  Surface area (m2/g) Cell type  \\\n",
              "0                     7.6                 74.2         1   \n",
              "1                    28.8                 47.4         0   \n",
              "2                    28.8                 47.4         0   \n",
              "3                    28.8                 47.4         1   \n",
              "4                   -46.1                 25.9         1   \n",
              "...                   ...                  ...       ...   \n",
              "2131                -41.6                 27.9    Cancer   \n",
              "2132                -41.6                 27.9    Cancer   \n",
              "2133                -41.6                 27.9    Cancer   \n",
              "2134                -41.6                 27.9    Cancer   \n",
              "2135                -41.6                 27.9    Cancer   \n",
              "\n",
              "      Exposure dose (ug/mL)  Topological polar surface area (Å²)  ...  \\\n",
              "0                     200.0                                 17.1  ...   \n",
              "1                     200.0                                 17.1  ...   \n",
              "2                     100.0                                 17.1  ...   \n",
              "3                     100.0                                 17.1  ...   \n",
              "4                     200.0                                 43.4  ...   \n",
              "...                     ...                                  ...  ...   \n",
              "2131                    1.0                                 17.1  ...   \n",
              "2132                   10.0                                 17.1  ...   \n",
              "2133                  100.0                                 17.1  ...   \n",
              "2134                    0.1                                 17.1  ...   \n",
              "2135                    1.0                                 17.1  ...   \n",
              "\n",
              "      Density (g/cm3)  Viability (%)  cell_line  Cell_Source  cell_origin  \\\n",
              "0                6.97         9.1000        NaN          NaN          NaN   \n",
              "1                5.44         9.5000        NaN          NaN          NaN   \n",
              "2                5.44        10.2000        NaN          NaN          NaN   \n",
              "3                5.44        11.0000        NaN          NaN          NaN   \n",
              "4                4.59        11.3000        NaN          NaN          NaN   \n",
              "...               ...            ...        ...          ...          ...   \n",
              "2131             5.44       127.4363     Caco_2        Human        Colon   \n",
              "2132             5.44       116.3751     Caco_2        Human        Colon   \n",
              "2133             5.44        40.8796     Caco_2        Human        Colon   \n",
              "2134             5.44        86.8566     Caco_2        Human        Colon   \n",
              "2135             5.44        84.4578     Caco_2        Human        Colon   \n",
              "\n",
              "      time  toxicity  average electronegativity Molecular weight (g/mol)  \\\n",
              "0      NaN       NaN                      2.670                 79.54540   \n",
              "1      NaN       NaN                      2.545                 81.40840   \n",
              "2      NaN       NaN                      2.545                 81.40840   \n",
              "3      NaN       NaN                      2.545                 81.40840   \n",
              "4      NaN       NaN                      2.684                157.87429   \n",
              "...    ...       ...                        ...                      ...   \n",
              "2131  48.0  nonToxic                      2.545                 81.40840   \n",
              "2132  48.0  nonToxic                      2.545                 81.40840   \n",
              "2133  48.0     Toxic                      2.545                 81.40840   \n",
              "2134  24.0  nonToxic                      2.545                 81.40840   \n",
              "2135  24.0  nonToxic                      2.545                 81.40840   \n",
              "\n",
              "     Number of atoms  \n",
              "0                2.0  \n",
              "1                2.0  \n",
              "2                2.0  \n",
              "3                2.0  \n",
              "4                5.0  \n",
              "...              ...  \n",
              "2131             2.0  \n",
              "2132             2.0  \n",
              "2133             2.0  \n",
              "2134             2.0  \n",
              "2135             2.0  \n",
              "\n",
              "[2136 rows x 26 columns]"
            ],
            "text/html": [
              "\n",
              "  <div id=\"df-dc91e5a2-f753-40dc-b00c-8bdc5cf8180f\">\n",
              "    <div class=\"colab-df-container\">\n",
              "      <div>\n",
              "<style scoped>\n",
              "    .dataframe tbody tr th:only-of-type {\n",
              "        vertical-align: middle;\n",
              "    }\n",
              "\n",
              "    .dataframe tbody tr th {\n",
              "        vertical-align: top;\n",
              "    }\n",
              "\n",
              "    .dataframe thead th {\n",
              "        text-align: right;\n",
              "    }\n",
              "</style>\n",
              "<table border=\"1\" class=\"dataframe\">\n",
              "  <thead>\n",
              "    <tr style=\"text-align: right;\">\n",
              "      <th></th>\n",
              "      <th>Material type</th>\n",
              "      <th>Elements</th>\n",
              "      <th>Ionic radius</th>\n",
              "      <th>Core size (nm)</th>\n",
              "      <th>Hydro size (nm)</th>\n",
              "      <th>Surface charge (mV)</th>\n",
              "      <th>Surface area (m2/g)</th>\n",
              "      <th>Cell type</th>\n",
              "      <th>Exposure dose (ug/mL)</th>\n",
              "      <th>Topological polar surface area (Å²)</th>\n",
              "      <th>...</th>\n",
              "      <th>Density (g/cm3)</th>\n",
              "      <th>Viability (%)</th>\n",
              "      <th>cell_line</th>\n",
              "      <th>Cell_Source</th>\n",
              "      <th>cell_origin</th>\n",
              "      <th>time</th>\n",
              "      <th>toxicity</th>\n",
              "      <th>average electronegativity</th>\n",
              "      <th>Molecular weight (g/mol)</th>\n",
              "      <th>Number of atoms</th>\n",
              "    </tr>\n",
              "  </thead>\n",
              "  <tbody>\n",
              "    <tr>\n",
              "      <th>0</th>\n",
              "      <td>CuO</td>\n",
              "      <td>Cu</td>\n",
              "      <td>73.0</td>\n",
              "      <td>12.8</td>\n",
              "      <td>313.8</td>\n",
              "      <td>7.6</td>\n",
              "      <td>74.2</td>\n",
              "      <td>1</td>\n",
              "      <td>200.0</td>\n",
              "      <td>17.1</td>\n",
              "      <td>...</td>\n",
              "      <td>6.97</td>\n",
              "      <td>9.1000</td>\n",
              "      <td>NaN</td>\n",
              "      <td>NaN</td>\n",
              "      <td>NaN</td>\n",
              "      <td>NaN</td>\n",
              "      <td>NaN</td>\n",
              "      <td>2.670</td>\n",
              "      <td>79.54540</td>\n",
              "      <td>2.0</td>\n",
              "    </tr>\n",
              "    <tr>\n",
              "      <th>1</th>\n",
              "      <td>ZnO</td>\n",
              "      <td>Zn</td>\n",
              "      <td>74.0</td>\n",
              "      <td>22.6</td>\n",
              "      <td>114.7</td>\n",
              "      <td>28.8</td>\n",
              "      <td>47.4</td>\n",
              "      <td>0</td>\n",
              "      <td>200.0</td>\n",
              "      <td>17.1</td>\n",
              "      <td>...</td>\n",
              "      <td>5.44</td>\n",
              "      <td>9.5000</td>\n",
              "      <td>NaN</td>\n",
              "      <td>NaN</td>\n",
              "      <td>NaN</td>\n",
              "      <td>NaN</td>\n",
              "      <td>NaN</td>\n",
              "      <td>2.545</td>\n",
              "      <td>81.40840</td>\n",
              "      <td>2.0</td>\n",
              "    </tr>\n",
              "    <tr>\n",
              "      <th>2</th>\n",
              "      <td>ZnO</td>\n",
              "      <td>Zn</td>\n",
              "      <td>74.0</td>\n",
              "      <td>22.6</td>\n",
              "      <td>114.7</td>\n",
              "      <td>28.8</td>\n",
              "      <td>47.4</td>\n",
              "      <td>0</td>\n",
              "      <td>100.0</td>\n",
              "      <td>17.1</td>\n",
              "      <td>...</td>\n",
              "      <td>5.44</td>\n",
              "      <td>10.2000</td>\n",
              "      <td>NaN</td>\n",
              "      <td>NaN</td>\n",
              "      <td>NaN</td>\n",
              "      <td>NaN</td>\n",
              "      <td>NaN</td>\n",
              "      <td>2.545</td>\n",
              "      <td>81.40840</td>\n",
              "      <td>2.0</td>\n",
              "    </tr>\n",
              "    <tr>\n",
              "      <th>3</th>\n",
              "      <td>ZnO</td>\n",
              "      <td>Zn</td>\n",
              "      <td>74.0</td>\n",
              "      <td>22.6</td>\n",
              "      <td>69.4</td>\n",
              "      <td>28.8</td>\n",
              "      <td>47.4</td>\n",
              "      <td>1</td>\n",
              "      <td>100.0</td>\n",
              "      <td>17.1</td>\n",
              "      <td>...</td>\n",
              "      <td>5.44</td>\n",
              "      <td>11.0000</td>\n",
              "      <td>NaN</td>\n",
              "      <td>NaN</td>\n",
              "      <td>NaN</td>\n",
              "      <td>NaN</td>\n",
              "      <td>NaN</td>\n",
              "      <td>2.545</td>\n",
              "      <td>81.40840</td>\n",
              "      <td>2.0</td>\n",
              "    </tr>\n",
              "    <tr>\n",
              "      <th>4</th>\n",
              "      <td>Mn2O3</td>\n",
              "      <td>Mn</td>\n",
              "      <td>58.0</td>\n",
              "      <td>51.5</td>\n",
              "      <td>291.7</td>\n",
              "      <td>-46.1</td>\n",
              "      <td>25.9</td>\n",
              "      <td>1</td>\n",
              "      <td>200.0</td>\n",
              "      <td>43.4</td>\n",
              "      <td>...</td>\n",
              "      <td>4.59</td>\n",
              "      <td>11.3000</td>\n",
              "      <td>NaN</td>\n",
              "      <td>NaN</td>\n",
              "      <td>NaN</td>\n",
              "      <td>NaN</td>\n",
              "      <td>NaN</td>\n",
              "      <td>2.684</td>\n",
              "      <td>157.87429</td>\n",
              "      <td>5.0</td>\n",
              "    </tr>\n",
              "    <tr>\n",
              "      <th>...</th>\n",
              "      <td>...</td>\n",
              "      <td>...</td>\n",
              "      <td>...</td>\n",
              "      <td>...</td>\n",
              "      <td>...</td>\n",
              "      <td>...</td>\n",
              "      <td>...</td>\n",
              "      <td>...</td>\n",
              "      <td>...</td>\n",
              "      <td>...</td>\n",
              "      <td>...</td>\n",
              "      <td>...</td>\n",
              "      <td>...</td>\n",
              "      <td>...</td>\n",
              "      <td>...</td>\n",
              "      <td>...</td>\n",
              "      <td>...</td>\n",
              "      <td>...</td>\n",
              "      <td>...</td>\n",
              "      <td>...</td>\n",
              "      <td>...</td>\n",
              "    </tr>\n",
              "    <tr>\n",
              "      <th>2131</th>\n",
              "      <td>ZnO</td>\n",
              "      <td>NaN</td>\n",
              "      <td>NaN</td>\n",
              "      <td>35.6</td>\n",
              "      <td>236.0</td>\n",
              "      <td>-41.6</td>\n",
              "      <td>27.9</td>\n",
              "      <td>Cancer</td>\n",
              "      <td>1.0</td>\n",
              "      <td>17.1</td>\n",
              "      <td>...</td>\n",
              "      <td>5.44</td>\n",
              "      <td>127.4363</td>\n",
              "      <td>Caco_2</td>\n",
              "      <td>Human</td>\n",
              "      <td>Colon</td>\n",
              "      <td>48.0</td>\n",
              "      <td>nonToxic</td>\n",
              "      <td>2.545</td>\n",
              "      <td>81.40840</td>\n",
              "      <td>2.0</td>\n",
              "    </tr>\n",
              "    <tr>\n",
              "      <th>2132</th>\n",
              "      <td>ZnO</td>\n",
              "      <td>NaN</td>\n",
              "      <td>NaN</td>\n",
              "      <td>35.6</td>\n",
              "      <td>236.0</td>\n",
              "      <td>-41.6</td>\n",
              "      <td>27.9</td>\n",
              "      <td>Cancer</td>\n",
              "      <td>10.0</td>\n",
              "      <td>17.1</td>\n",
              "      <td>...</td>\n",
              "      <td>5.44</td>\n",
              "      <td>116.3751</td>\n",
              "      <td>Caco_2</td>\n",
              "      <td>Human</td>\n",
              "      <td>Colon</td>\n",
              "      <td>48.0</td>\n",
              "      <td>nonToxic</td>\n",
              "      <td>2.545</td>\n",
              "      <td>81.40840</td>\n",
              "      <td>2.0</td>\n",
              "    </tr>\n",
              "    <tr>\n",
              "      <th>2133</th>\n",
              "      <td>ZnO</td>\n",
              "      <td>NaN</td>\n",
              "      <td>NaN</td>\n",
              "      <td>35.6</td>\n",
              "      <td>236.0</td>\n",
              "      <td>-41.6</td>\n",
              "      <td>27.9</td>\n",
              "      <td>Cancer</td>\n",
              "      <td>100.0</td>\n",
              "      <td>17.1</td>\n",
              "      <td>...</td>\n",
              "      <td>5.44</td>\n",
              "      <td>40.8796</td>\n",
              "      <td>Caco_2</td>\n",
              "      <td>Human</td>\n",
              "      <td>Colon</td>\n",
              "      <td>48.0</td>\n",
              "      <td>Toxic</td>\n",
              "      <td>2.545</td>\n",
              "      <td>81.40840</td>\n",
              "      <td>2.0</td>\n",
              "    </tr>\n",
              "    <tr>\n",
              "      <th>2134</th>\n",
              "      <td>ZnO</td>\n",
              "      <td>NaN</td>\n",
              "      <td>NaN</td>\n",
              "      <td>35.6</td>\n",
              "      <td>236.0</td>\n",
              "      <td>-41.6</td>\n",
              "      <td>27.9</td>\n",
              "      <td>Cancer</td>\n",
              "      <td>0.1</td>\n",
              "      <td>17.1</td>\n",
              "      <td>...</td>\n",
              "      <td>5.44</td>\n",
              "      <td>86.8566</td>\n",
              "      <td>Caco_2</td>\n",
              "      <td>Human</td>\n",
              "      <td>Colon</td>\n",
              "      <td>24.0</td>\n",
              "      <td>nonToxic</td>\n",
              "      <td>2.545</td>\n",
              "      <td>81.40840</td>\n",
              "      <td>2.0</td>\n",
              "    </tr>\n",
              "    <tr>\n",
              "      <th>2135</th>\n",
              "      <td>ZnO</td>\n",
              "      <td>NaN</td>\n",
              "      <td>NaN</td>\n",
              "      <td>35.6</td>\n",
              "      <td>236.0</td>\n",
              "      <td>-41.6</td>\n",
              "      <td>27.9</td>\n",
              "      <td>Cancer</td>\n",
              "      <td>1.0</td>\n",
              "      <td>17.1</td>\n",
              "      <td>...</td>\n",
              "      <td>5.44</td>\n",
              "      <td>84.4578</td>\n",
              "      <td>Caco_2</td>\n",
              "      <td>Human</td>\n",
              "      <td>Colon</td>\n",
              "      <td>24.0</td>\n",
              "      <td>nonToxic</td>\n",
              "      <td>2.545</td>\n",
              "      <td>81.40840</td>\n",
              "      <td>2.0</td>\n",
              "    </tr>\n",
              "  </tbody>\n",
              "</table>\n",
              "<p>2136 rows × 26 columns</p>\n",
              "</div>\n",
              "      <button class=\"colab-df-convert\" onclick=\"convertToInteractive('df-dc91e5a2-f753-40dc-b00c-8bdc5cf8180f')\"\n",
              "              title=\"Convert this dataframe to an interactive table.\"\n",
              "              style=\"display:none;\">\n",
              "        \n",
              "  <svg xmlns=\"http://www.w3.org/2000/svg\" height=\"24px\"viewBox=\"0 0 24 24\"\n",
              "       width=\"24px\">\n",
              "    <path d=\"M0 0h24v24H0V0z\" fill=\"none\"/>\n",
              "    <path d=\"M18.56 5.44l.94 2.06.94-2.06 2.06-.94-2.06-.94-.94-2.06-.94 2.06-2.06.94zm-11 1L8.5 8.5l.94-2.06 2.06-.94-2.06-.94L8.5 2.5l-.94 2.06-2.06.94zm10 10l.94 2.06.94-2.06 2.06-.94-2.06-.94-.94-2.06-.94 2.06-2.06.94z\"/><path d=\"M17.41 7.96l-1.37-1.37c-.4-.4-.92-.59-1.43-.59-.52 0-1.04.2-1.43.59L10.3 9.45l-7.72 7.72c-.78.78-.78 2.05 0 2.83L4 21.41c.39.39.9.59 1.41.59.51 0 1.02-.2 1.41-.59l7.78-7.78 2.81-2.81c.8-.78.8-2.07 0-2.86zM5.41 20L4 18.59l7.72-7.72 1.47 1.35L5.41 20z\"/>\n",
              "  </svg>\n",
              "      </button>\n",
              "      \n",
              "  <style>\n",
              "    .colab-df-container {\n",
              "      display:flex;\n",
              "      flex-wrap:wrap;\n",
              "      gap: 12px;\n",
              "    }\n",
              "\n",
              "    .colab-df-convert {\n",
              "      background-color: #E8F0FE;\n",
              "      border: none;\n",
              "      border-radius: 50%;\n",
              "      cursor: pointer;\n",
              "      display: none;\n",
              "      fill: #1967D2;\n",
              "      height: 32px;\n",
              "      padding: 0 0 0 0;\n",
              "      width: 32px;\n",
              "    }\n",
              "\n",
              "    .colab-df-convert:hover {\n",
              "      background-color: #E2EBFA;\n",
              "      box-shadow: 0px 1px 2px rgba(60, 64, 67, 0.3), 0px 1px 3px 1px rgba(60, 64, 67, 0.15);\n",
              "      fill: #174EA6;\n",
              "    }\n",
              "\n",
              "    [theme=dark] .colab-df-convert {\n",
              "      background-color: #3B4455;\n",
              "      fill: #D2E3FC;\n",
              "    }\n",
              "\n",
              "    [theme=dark] .colab-df-convert:hover {\n",
              "      background-color: #434B5C;\n",
              "      box-shadow: 0px 1px 3px 1px rgba(0, 0, 0, 0.15);\n",
              "      filter: drop-shadow(0px 1px 2px rgba(0, 0, 0, 0.3));\n",
              "      fill: #FFFFFF;\n",
              "    }\n",
              "  </style>\n",
              "\n",
              "      <script>\n",
              "        const buttonEl =\n",
              "          document.querySelector('#df-dc91e5a2-f753-40dc-b00c-8bdc5cf8180f button.colab-df-convert');\n",
              "        buttonEl.style.display =\n",
              "          google.colab.kernel.accessAllowed ? 'block' : 'none';\n",
              "\n",
              "        async function convertToInteractive(key) {\n",
              "          const element = document.querySelector('#df-dc91e5a2-f753-40dc-b00c-8bdc5cf8180f');\n",
              "          const dataTable =\n",
              "            await google.colab.kernel.invokeFunction('convertToInteractive',\n",
              "                                                     [key], {});\n",
              "          if (!dataTable) return;\n",
              "\n",
              "          const docLinkHtml = 'Like what you see? Visit the ' +\n",
              "            '<a target=\"_blank\" href=https://colab.research.google.com/notebooks/data_table.ipynb>data table notebook</a>'\n",
              "            + ' to learn more about interactive tables.';\n",
              "          element.innerHTML = '';\n",
              "          dataTable['output_type'] = 'display_data';\n",
              "          await google.colab.output.renderOutput(dataTable, element);\n",
              "          const docLink = document.createElement('div');\n",
              "          docLink.innerHTML = docLinkHtml;\n",
              "          element.appendChild(docLink);\n",
              "        }\n",
              "      </script>\n",
              "    </div>\n",
              "  </div>\n",
              "  "
            ]
          },
          "metadata": {},
          "execution_count": 19
        }
      ],
      "source": [
        "db1_4_5.rename(columns={'cell_species':'Cell_Source'})"
      ]
    },
    {
      "cell_type": "code",
      "execution_count": 20,
      "metadata": {
        "id": "vooUfkWlEY4b"
      },
      "outputs": [],
      "source": [
        "db1_4_5['Viability (%)']=db1_4_5['Viability (%)'].apply(lambda row: 0 if (row<0) else row)"
      ]
    },
    {
      "cell_type": "code",
      "execution_count": 21,
      "metadata": {
        "id": "AuGiZG1rBJCz",
        "colab": {
          "base_uri": "https://localhost:8080/"
        },
        "outputId": "a49fa8c0-015b-4ab5-bc1f-dc7209c33e0a"
      },
      "outputs": [
        {
          "output_type": "execute_result",
          "data": {
            "text/plain": [
              "0       200.0\n",
              "1       200.0\n",
              "2       100.0\n",
              "3       100.0\n",
              "4       200.0\n",
              "        ...  \n",
              "2131      1.0\n",
              "2132     10.0\n",
              "2133    100.0\n",
              "2134      0.1\n",
              "2135      1.0\n",
              "Name: Exposure dose (ug/mL), Length: 2136, dtype: float64"
            ]
          },
          "metadata": {},
          "execution_count": 21
        }
      ],
      "source": [
        "db1_4_5['Exposure dose (g/L)'] = db1_4_5['Exposure dose (ug/mL)']/1000 #концентрация из ug/ml в g/L\n",
        "  #эту ячейку исполнять только один раз! :) иначе концентрация обновится\n",
        "db1_4_5.pop('Exposure dose (ug/mL)')"
      ]
    },
    {
      "cell_type": "code",
      "execution_count": 22,
      "metadata": {
        "id": "1_RPryUJ0w33"
      },
      "outputs": [],
      "source": [
        "coats = ['l-cysteine l-lysine l-lysine', 'Dextran', 'PEI',       #сделала просто категориальный признак есть coat или нет\n",
        "       'PEG to the PEI', 'PEG', 'PEG-NH2', 'BSA', 'alginate', 'COOH',\n",
        "       'NH2', 'dimercaptosuccinic',\n",
        "       'folic acid with intermediate organic (PEG) coating',\n",
        "       'folic acid with intermediate inorganic (silica) coating',\n",
        "       'Digestive enzymes', 'simethicone then esters on top',\n",
        "       'alumina-simethicone', 'silica', 'PVP', 'Folic acid',\n",
        "       'D-penicillamine (NH2/COOH)', '3-mercaptopropionic acid (COOH)',\n",
        "       'cysteamine (NH2)', 'cysteamine', 'Zn then cysteamine', 'SGF',\n",
        "       'TGA-gelatine', 'TGA', 'CTAB', 'Phosphonate', 'PEG-OCH3',\n",
        "       'PEG-COOH', 'Citrate and PVP', 'Citrate', 'Starch', 'Gum Arabic',\n",
        "       'Star anise', 'Sodium borohydride', 'Chitosan', 'PVA',\n",
        "       'Poloxamer 188 (Pluronic F68)', 'metal catalyst residues',\n",
        "       'Tween 80', 'COONa', 'SO3Na', 'Hyaluronic acid ',\n",
        "       'Hyaluronic acid', 'Ph', 'None', 'DPA', 'MPA', 'CyA', 'Silica',\n",
        "       'CKK', 'Ac', 'C12', 'OH', 'OS', 'SC', 'Poloxamer', 'PEA', 'PEG-FA',\n",
        "       'Silica-FA', 'SodiumAlginate', 'Liposome', 'OleicAcid',\n",
        "       'Silica-NH2', 'DMSA', 'MSA', 'CYS', 'GSH', 'PAMAM', 'Urea', 'DPPC',\n",
        "       'DHLA', 'FA', 'DDAB', 'Tween80', 'Citrate-Lactose',\n",
        "       'Citrate-Oligonucleotide', 'CH3', 'AscorbicAcid']\n",
        "datasets2_3['Coat'] = np.where((datasets2_3['Coat'] == 'naked'), 0, datasets2_3['Coat']) # присутствуют и 0, и None\n",
        "for coat in coats:\n",
        "  datasets2_3['Coat'] = np.where((datasets2_3['Coat'] == coat), 1, datasets2_3['Coat'])"
      ]
    },
    {
      "cell_type": "code",
      "execution_count": 23,
      "metadata": {
        "id": "8NQ4NNzuurAK"
      },
      "outputs": [],
      "source": [
        "df = datasets2_3.append(db1_4_5, ignore_index=True)"
      ]
    },
    {
      "cell_type": "code",
      "execution_count": 24,
      "metadata": {
        "id": "wtaJul0fy_kL"
      },
      "outputs": [],
      "source": [
        "labels = ['Canine', 'hamster', 'rat', 'Cow, Bos taurus', 'Mice',  'Porcine']\n",
        "new_labels = ['Dog','Hamster','Rat','Cow','Mouse', 'Pig']  \n",
        "\n",
        "df['Cell_Source'] = np.where((df['Cell_Source'] == 'Monkey (Cercopithecus aethiops)'), 'Monkey', df['Cell_Source']) #не сработал с monkey\n",
        "\n",
        "\n",
        "replacement(df, 'Cell_Source', labels, new_labels)"
      ]
    },
    {
      "cell_type": "code",
      "execution_count": 25,
      "metadata": {
        "id": "n_yp1-7_4tQ-"
      },
      "outputs": [],
      "source": [
        "df['Cell_Source'] = np.where((df['Cell_Source'] == 'Mouse'), '0', df['Cell_Source'])\n",
        "df['Cell_Source'] = np.where((df['Cell_Source'] == 'Human'), '1', df['Cell_Source'])\n",
        "df['Cell_Source'] = np.where((df['Cell_Source'] == 'Rat'), '2', df['Cell_Source'])\n",
        "df['Cell_Source'] = np.where((df['Cell_Source'] == 'Pig'), '3', df['Cell_Source'])\n",
        "df['Cell_Source'] = np.where((df['Cell_Source'] == 'Monkey'), '4', df['Cell_Source'])\n",
        "df['Cell_Source'] = np.where((df['Cell_Source'] == 'Dog'), '5', df['Cell_Source'])\n",
        "df['Cell_Source'] = np.where((df['Cell_Source'] == 'Hamster'), '6', df['Cell_Source'])\n",
        "df['Cell_Source'] = np.where((df['Cell_Source'] == 'Cow'), '7', df['Cell_Source'])\n",
        "df['Cell_Source'] = np.where((df['Cell_Source'] == 'Rabbit'), '8', df['Cell_Source'])\n",
        "df['Cell_Source'] = np.where((df['Cell_Source'] == 'Catfish'), '9', df['Cell_Source'])"
      ]
    },
    {
      "cell_type": "code",
      "execution_count": 26,
      "metadata": {
        "id": "RhbENTZt2Arz",
        "colab": {
          "base_uri": "https://localhost:8080/",
          "height": 503
        },
        "outputId": "2c419688-c74f-42fb-8024-a610cde919c1"
      },
      "outputs": [
        {
          "output_type": "execute_result",
          "data": {
            "text/plain": [
              "     Material type Type  Coat  Diameter (nm)  Exposure dose (g/L)  \\\n",
              "0             CeO2    I     0           20.3         1.970989e-07   \n",
              "1             CeO2    I     0           20.3         4.032914e-07   \n",
              "2             CeO2    I     0           20.3         8.065828e-07   \n",
              "3             CeO2    I     0           20.3         1.613166e-06   \n",
              "4             CeO2    I     0           20.3         6.258968e-06   \n",
              "...            ...  ...   ...            ...                  ...   \n",
              "9138           ZnO    1     1            NaN         1.000000e-03   \n",
              "9139           ZnO    1     1            NaN         1.000000e-02   \n",
              "9140           ZnO    1     1            NaN         1.000000e-01   \n",
              "9141           ZnO    1     1            NaN         1.000000e-04   \n",
              "9142           ZnO    1     1            NaN         1.000000e-03   \n",
              "\n",
              "     Surface charge (mV) cell_line Cell type Cell_Source     cell_origin  ...  \\\n",
              "0                    NaN      L929         L           0  Areolar tissue  ...   \n",
              "1                    NaN      L929         L           0  Areolar tissue  ...   \n",
              "2                    NaN      L929         L           0  Areolar tissue  ...   \n",
              "3                    NaN      L929         L           0  Areolar tissue  ...   \n",
              "4                    NaN      L929         L           0  Areolar tissue  ...   \n",
              "...                  ...       ...       ...         ...             ...  ...   \n",
              "9138               -41.6    Caco_2    Cancer           1           Colon  ...   \n",
              "9139               -41.6    Caco_2    Cancer           1           Colon  ...   \n",
              "9140               -41.6    Caco_2    Cancer           1           Colon  ...   \n",
              "9141               -41.6    Caco_2    Cancer           1           Colon  ...   \n",
              "9142               -41.6    Caco_2    Cancer           1           Colon  ...   \n",
              "\n",
              "      c (Å)  α (°)  β (°)  γ (°) Density (g/cm3) cell_species  toxicity  \\\n",
              "0       NaN    NaN    NaN    NaN             NaN        Human       NaN   \n",
              "1       NaN    NaN    NaN    NaN             NaN        Human       NaN   \n",
              "2       NaN    NaN    NaN    NaN             NaN        Human       NaN   \n",
              "3       NaN    NaN    NaN    NaN             NaN        Human       NaN   \n",
              "4       NaN    NaN    NaN    NaN             NaN        Human       NaN   \n",
              "...     ...    ...    ...    ...             ...          ...       ...   \n",
              "9138  5.307   90.0   90.0  120.0            5.44        Human  nonToxic   \n",
              "9139  5.307   90.0   90.0  120.0            5.44        Human  nonToxic   \n",
              "9140  5.307   90.0   90.0  120.0            5.44        Human     Toxic   \n",
              "9141  5.307   90.0   90.0  120.0            5.44        Human  nonToxic   \n",
              "9142  5.307   90.0   90.0  120.0            5.44        Human  nonToxic   \n",
              "\n",
              "      average electronegativity  Molecular weight (g/mol)  Number of atoms  \n",
              "0                           NaN                       NaN              NaN  \n",
              "1                           NaN                       NaN              NaN  \n",
              "2                           NaN                       NaN              NaN  \n",
              "3                           NaN                       NaN              NaN  \n",
              "4                           NaN                       NaN              NaN  \n",
              "...                         ...                       ...              ...  \n",
              "9138                      2.545                   81.4084              2.0  \n",
              "9139                      2.545                   81.4084              2.0  \n",
              "9140                      2.545                   81.4084              2.0  \n",
              "9141                      2.545                   81.4084              2.0  \n",
              "9142                      2.545                   81.4084              2.0  \n",
              "\n",
              "[9143 rows x 32 columns]"
            ],
            "text/html": [
              "\n",
              "  <div id=\"df-4d4f998b-4c6a-4862-8f66-91c61a1e1fa8\">\n",
              "    <div class=\"colab-df-container\">\n",
              "      <div>\n",
              "<style scoped>\n",
              "    .dataframe tbody tr th:only-of-type {\n",
              "        vertical-align: middle;\n",
              "    }\n",
              "\n",
              "    .dataframe tbody tr th {\n",
              "        vertical-align: top;\n",
              "    }\n",
              "\n",
              "    .dataframe thead th {\n",
              "        text-align: right;\n",
              "    }\n",
              "</style>\n",
              "<table border=\"1\" class=\"dataframe\">\n",
              "  <thead>\n",
              "    <tr style=\"text-align: right;\">\n",
              "      <th></th>\n",
              "      <th>Material type</th>\n",
              "      <th>Type</th>\n",
              "      <th>Coat</th>\n",
              "      <th>Diameter (nm)</th>\n",
              "      <th>Exposure dose (g/L)</th>\n",
              "      <th>Surface charge (mV)</th>\n",
              "      <th>cell_line</th>\n",
              "      <th>Cell type</th>\n",
              "      <th>Cell_Source</th>\n",
              "      <th>cell_origin</th>\n",
              "      <th>...</th>\n",
              "      <th>c (Å)</th>\n",
              "      <th>α (°)</th>\n",
              "      <th>β (°)</th>\n",
              "      <th>γ (°)</th>\n",
              "      <th>Density (g/cm3)</th>\n",
              "      <th>cell_species</th>\n",
              "      <th>toxicity</th>\n",
              "      <th>average electronegativity</th>\n",
              "      <th>Molecular weight (g/mol)</th>\n",
              "      <th>Number of atoms</th>\n",
              "    </tr>\n",
              "  </thead>\n",
              "  <tbody>\n",
              "    <tr>\n",
              "      <th>0</th>\n",
              "      <td>CeO2</td>\n",
              "      <td>I</td>\n",
              "      <td>0</td>\n",
              "      <td>20.3</td>\n",
              "      <td>1.970989e-07</td>\n",
              "      <td>NaN</td>\n",
              "      <td>L929</td>\n",
              "      <td>L</td>\n",
              "      <td>0</td>\n",
              "      <td>Areolar tissue</td>\n",
              "      <td>...</td>\n",
              "      <td>NaN</td>\n",
              "      <td>NaN</td>\n",
              "      <td>NaN</td>\n",
              "      <td>NaN</td>\n",
              "      <td>NaN</td>\n",
              "      <td>Human</td>\n",
              "      <td>NaN</td>\n",
              "      <td>NaN</td>\n",
              "      <td>NaN</td>\n",
              "      <td>NaN</td>\n",
              "    </tr>\n",
              "    <tr>\n",
              "      <th>1</th>\n",
              "      <td>CeO2</td>\n",
              "      <td>I</td>\n",
              "      <td>0</td>\n",
              "      <td>20.3</td>\n",
              "      <td>4.032914e-07</td>\n",
              "      <td>NaN</td>\n",
              "      <td>L929</td>\n",
              "      <td>L</td>\n",
              "      <td>0</td>\n",
              "      <td>Areolar tissue</td>\n",
              "      <td>...</td>\n",
              "      <td>NaN</td>\n",
              "      <td>NaN</td>\n",
              "      <td>NaN</td>\n",
              "      <td>NaN</td>\n",
              "      <td>NaN</td>\n",
              "      <td>Human</td>\n",
              "      <td>NaN</td>\n",
              "      <td>NaN</td>\n",
              "      <td>NaN</td>\n",
              "      <td>NaN</td>\n",
              "    </tr>\n",
              "    <tr>\n",
              "      <th>2</th>\n",
              "      <td>CeO2</td>\n",
              "      <td>I</td>\n",
              "      <td>0</td>\n",
              "      <td>20.3</td>\n",
              "      <td>8.065828e-07</td>\n",
              "      <td>NaN</td>\n",
              "      <td>L929</td>\n",
              "      <td>L</td>\n",
              "      <td>0</td>\n",
              "      <td>Areolar tissue</td>\n",
              "      <td>...</td>\n",
              "      <td>NaN</td>\n",
              "      <td>NaN</td>\n",
              "      <td>NaN</td>\n",
              "      <td>NaN</td>\n",
              "      <td>NaN</td>\n",
              "      <td>Human</td>\n",
              "      <td>NaN</td>\n",
              "      <td>NaN</td>\n",
              "      <td>NaN</td>\n",
              "      <td>NaN</td>\n",
              "    </tr>\n",
              "    <tr>\n",
              "      <th>3</th>\n",
              "      <td>CeO2</td>\n",
              "      <td>I</td>\n",
              "      <td>0</td>\n",
              "      <td>20.3</td>\n",
              "      <td>1.613166e-06</td>\n",
              "      <td>NaN</td>\n",
              "      <td>L929</td>\n",
              "      <td>L</td>\n",
              "      <td>0</td>\n",
              "      <td>Areolar tissue</td>\n",
              "      <td>...</td>\n",
              "      <td>NaN</td>\n",
              "      <td>NaN</td>\n",
              "      <td>NaN</td>\n",
              "      <td>NaN</td>\n",
              "      <td>NaN</td>\n",
              "      <td>Human</td>\n",
              "      <td>NaN</td>\n",
              "      <td>NaN</td>\n",
              "      <td>NaN</td>\n",
              "      <td>NaN</td>\n",
              "    </tr>\n",
              "    <tr>\n",
              "      <th>4</th>\n",
              "      <td>CeO2</td>\n",
              "      <td>I</td>\n",
              "      <td>0</td>\n",
              "      <td>20.3</td>\n",
              "      <td>6.258968e-06</td>\n",
              "      <td>NaN</td>\n",
              "      <td>L929</td>\n",
              "      <td>L</td>\n",
              "      <td>0</td>\n",
              "      <td>Areolar tissue</td>\n",
              "      <td>...</td>\n",
              "      <td>NaN</td>\n",
              "      <td>NaN</td>\n",
              "      <td>NaN</td>\n",
              "      <td>NaN</td>\n",
              "      <td>NaN</td>\n",
              "      <td>Human</td>\n",
              "      <td>NaN</td>\n",
              "      <td>NaN</td>\n",
              "      <td>NaN</td>\n",
              "      <td>NaN</td>\n",
              "    </tr>\n",
              "    <tr>\n",
              "      <th>...</th>\n",
              "      <td>...</td>\n",
              "      <td>...</td>\n",
              "      <td>...</td>\n",
              "      <td>...</td>\n",
              "      <td>...</td>\n",
              "      <td>...</td>\n",
              "      <td>...</td>\n",
              "      <td>...</td>\n",
              "      <td>...</td>\n",
              "      <td>...</td>\n",
              "      <td>...</td>\n",
              "      <td>...</td>\n",
              "      <td>...</td>\n",
              "      <td>...</td>\n",
              "      <td>...</td>\n",
              "      <td>...</td>\n",
              "      <td>...</td>\n",
              "      <td>...</td>\n",
              "      <td>...</td>\n",
              "      <td>...</td>\n",
              "      <td>...</td>\n",
              "    </tr>\n",
              "    <tr>\n",
              "      <th>9138</th>\n",
              "      <td>ZnO</td>\n",
              "      <td>1</td>\n",
              "      <td>1</td>\n",
              "      <td>NaN</td>\n",
              "      <td>1.000000e-03</td>\n",
              "      <td>-41.6</td>\n",
              "      <td>Caco_2</td>\n",
              "      <td>Cancer</td>\n",
              "      <td>1</td>\n",
              "      <td>Colon</td>\n",
              "      <td>...</td>\n",
              "      <td>5.307</td>\n",
              "      <td>90.0</td>\n",
              "      <td>90.0</td>\n",
              "      <td>120.0</td>\n",
              "      <td>5.44</td>\n",
              "      <td>Human</td>\n",
              "      <td>nonToxic</td>\n",
              "      <td>2.545</td>\n",
              "      <td>81.4084</td>\n",
              "      <td>2.0</td>\n",
              "    </tr>\n",
              "    <tr>\n",
              "      <th>9139</th>\n",
              "      <td>ZnO</td>\n",
              "      <td>1</td>\n",
              "      <td>1</td>\n",
              "      <td>NaN</td>\n",
              "      <td>1.000000e-02</td>\n",
              "      <td>-41.6</td>\n",
              "      <td>Caco_2</td>\n",
              "      <td>Cancer</td>\n",
              "      <td>1</td>\n",
              "      <td>Colon</td>\n",
              "      <td>...</td>\n",
              "      <td>5.307</td>\n",
              "      <td>90.0</td>\n",
              "      <td>90.0</td>\n",
              "      <td>120.0</td>\n",
              "      <td>5.44</td>\n",
              "      <td>Human</td>\n",
              "      <td>nonToxic</td>\n",
              "      <td>2.545</td>\n",
              "      <td>81.4084</td>\n",
              "      <td>2.0</td>\n",
              "    </tr>\n",
              "    <tr>\n",
              "      <th>9140</th>\n",
              "      <td>ZnO</td>\n",
              "      <td>1</td>\n",
              "      <td>1</td>\n",
              "      <td>NaN</td>\n",
              "      <td>1.000000e-01</td>\n",
              "      <td>-41.6</td>\n",
              "      <td>Caco_2</td>\n",
              "      <td>Cancer</td>\n",
              "      <td>1</td>\n",
              "      <td>Colon</td>\n",
              "      <td>...</td>\n",
              "      <td>5.307</td>\n",
              "      <td>90.0</td>\n",
              "      <td>90.0</td>\n",
              "      <td>120.0</td>\n",
              "      <td>5.44</td>\n",
              "      <td>Human</td>\n",
              "      <td>Toxic</td>\n",
              "      <td>2.545</td>\n",
              "      <td>81.4084</td>\n",
              "      <td>2.0</td>\n",
              "    </tr>\n",
              "    <tr>\n",
              "      <th>9141</th>\n",
              "      <td>ZnO</td>\n",
              "      <td>1</td>\n",
              "      <td>1</td>\n",
              "      <td>NaN</td>\n",
              "      <td>1.000000e-04</td>\n",
              "      <td>-41.6</td>\n",
              "      <td>Caco_2</td>\n",
              "      <td>Cancer</td>\n",
              "      <td>1</td>\n",
              "      <td>Colon</td>\n",
              "      <td>...</td>\n",
              "      <td>5.307</td>\n",
              "      <td>90.0</td>\n",
              "      <td>90.0</td>\n",
              "      <td>120.0</td>\n",
              "      <td>5.44</td>\n",
              "      <td>Human</td>\n",
              "      <td>nonToxic</td>\n",
              "      <td>2.545</td>\n",
              "      <td>81.4084</td>\n",
              "      <td>2.0</td>\n",
              "    </tr>\n",
              "    <tr>\n",
              "      <th>9142</th>\n",
              "      <td>ZnO</td>\n",
              "      <td>1</td>\n",
              "      <td>1</td>\n",
              "      <td>NaN</td>\n",
              "      <td>1.000000e-03</td>\n",
              "      <td>-41.6</td>\n",
              "      <td>Caco_2</td>\n",
              "      <td>Cancer</td>\n",
              "      <td>1</td>\n",
              "      <td>Colon</td>\n",
              "      <td>...</td>\n",
              "      <td>5.307</td>\n",
              "      <td>90.0</td>\n",
              "      <td>90.0</td>\n",
              "      <td>120.0</td>\n",
              "      <td>5.44</td>\n",
              "      <td>Human</td>\n",
              "      <td>nonToxic</td>\n",
              "      <td>2.545</td>\n",
              "      <td>81.4084</td>\n",
              "      <td>2.0</td>\n",
              "    </tr>\n",
              "  </tbody>\n",
              "</table>\n",
              "<p>9143 rows × 32 columns</p>\n",
              "</div>\n",
              "      <button class=\"colab-df-convert\" onclick=\"convertToInteractive('df-4d4f998b-4c6a-4862-8f66-91c61a1e1fa8')\"\n",
              "              title=\"Convert this dataframe to an interactive table.\"\n",
              "              style=\"display:none;\">\n",
              "        \n",
              "  <svg xmlns=\"http://www.w3.org/2000/svg\" height=\"24px\"viewBox=\"0 0 24 24\"\n",
              "       width=\"24px\">\n",
              "    <path d=\"M0 0h24v24H0V0z\" fill=\"none\"/>\n",
              "    <path d=\"M18.56 5.44l.94 2.06.94-2.06 2.06-.94-2.06-.94-.94-2.06-.94 2.06-2.06.94zm-11 1L8.5 8.5l.94-2.06 2.06-.94-2.06-.94L8.5 2.5l-.94 2.06-2.06.94zm10 10l.94 2.06.94-2.06 2.06-.94-2.06-.94-.94-2.06-.94 2.06-2.06.94z\"/><path d=\"M17.41 7.96l-1.37-1.37c-.4-.4-.92-.59-1.43-.59-.52 0-1.04.2-1.43.59L10.3 9.45l-7.72 7.72c-.78.78-.78 2.05 0 2.83L4 21.41c.39.39.9.59 1.41.59.51 0 1.02-.2 1.41-.59l7.78-7.78 2.81-2.81c.8-.78.8-2.07 0-2.86zM5.41 20L4 18.59l7.72-7.72 1.47 1.35L5.41 20z\"/>\n",
              "  </svg>\n",
              "      </button>\n",
              "      \n",
              "  <style>\n",
              "    .colab-df-container {\n",
              "      display:flex;\n",
              "      flex-wrap:wrap;\n",
              "      gap: 12px;\n",
              "    }\n",
              "\n",
              "    .colab-df-convert {\n",
              "      background-color: #E8F0FE;\n",
              "      border: none;\n",
              "      border-radius: 50%;\n",
              "      cursor: pointer;\n",
              "      display: none;\n",
              "      fill: #1967D2;\n",
              "      height: 32px;\n",
              "      padding: 0 0 0 0;\n",
              "      width: 32px;\n",
              "    }\n",
              "\n",
              "    .colab-df-convert:hover {\n",
              "      background-color: #E2EBFA;\n",
              "      box-shadow: 0px 1px 2px rgba(60, 64, 67, 0.3), 0px 1px 3px 1px rgba(60, 64, 67, 0.15);\n",
              "      fill: #174EA6;\n",
              "    }\n",
              "\n",
              "    [theme=dark] .colab-df-convert {\n",
              "      background-color: #3B4455;\n",
              "      fill: #D2E3FC;\n",
              "    }\n",
              "\n",
              "    [theme=dark] .colab-df-convert:hover {\n",
              "      background-color: #434B5C;\n",
              "      box-shadow: 0px 1px 3px 1px rgba(0, 0, 0, 0.15);\n",
              "      filter: drop-shadow(0px 1px 2px rgba(0, 0, 0, 0.3));\n",
              "      fill: #FFFFFF;\n",
              "    }\n",
              "  </style>\n",
              "\n",
              "      <script>\n",
              "        const buttonEl =\n",
              "          document.querySelector('#df-4d4f998b-4c6a-4862-8f66-91c61a1e1fa8 button.colab-df-convert');\n",
              "        buttonEl.style.display =\n",
              "          google.colab.kernel.accessAllowed ? 'block' : 'none';\n",
              "\n",
              "        async function convertToInteractive(key) {\n",
              "          const element = document.querySelector('#df-4d4f998b-4c6a-4862-8f66-91c61a1e1fa8');\n",
              "          const dataTable =\n",
              "            await google.colab.kernel.invokeFunction('convertToInteractive',\n",
              "                                                     [key], {});\n",
              "          if (!dataTable) return;\n",
              "\n",
              "          const docLinkHtml = 'Like what you see? Visit the ' +\n",
              "            '<a target=\"_blank\" href=https://colab.research.google.com/notebooks/data_table.ipynb>data table notebook</a>'\n",
              "            + ' to learn more about interactive tables.';\n",
              "          element.innerHTML = '';\n",
              "          dataTable['output_type'] = 'display_data';\n",
              "          await google.colab.output.renderOutput(dataTable, element);\n",
              "          const docLink = document.createElement('div');\n",
              "          docLink.innerHTML = docLinkHtml;\n",
              "          element.appendChild(docLink);\n",
              "        }\n",
              "      </script>\n",
              "    </div>\n",
              "  </div>\n",
              "  "
            ]
          },
          "metadata": {},
          "execution_count": 26
        }
      ],
      "source": [
        "df['Type'] = df['Type'].fillna('1')  #там только неорганика\n",
        "\n",
        "\n",
        "categorial_mode = ['time', 'cell_origin', 'Cell_Source', 'Coat', 'cell_line', 'cell_species']  #заполним по моде\n",
        "def fill_in_the_gapes_with_mode(df, columns):  #заполняет категориальные признаки по самым частым значением\n",
        "  for column in columns:\n",
        "    mode = df[column].value_counts().idxmax()\n",
        "    df[column]=df[column].fillna(mode)\n",
        "  return df\n",
        "fill_in_the_gapes_with_mode(df, categorial_mode)\n",
        "\n"
      ]
    },
    {
      "cell_type": "code",
      "execution_count": 27,
      "metadata": {
        "id": "BT3ZJhr9wX1I"
      },
      "outputs": [],
      "source": [
        "\n",
        "labels=['HCMEC', 'A549', 'MeT_5A', 'BEAS_2B', 'SH_SY5Y', 'MCF_10A', 'WI_38', 'Chang_Liver', 'L_02', 'V79_4', 'RAW264_7', 'SW480', 'Caco_2', 'HONDC', 'NRK-52E', \n",
        "        'HT-1080', 'HGF', 'MC3T3-E1', 'AT2', 'TT1', 'HEp-2', 'C3A', 'U87', 'hPDLF', 'mDF', 'V79', 'C6', 'HEBC3-KT', 'WISH', 'HCT-116', 'MDCK-II', 'RFPEC', 'CCL-110', \n",
        "        'L-132', 'HFL1', 'BJ', 'CHO-K1', 'UM-UC-3', 'K562', 'Y-79', 'SV-80', 'PCLS', 'MBMC',' Ana-1', '95D', 'Jurkat 3T3-L1', 'neuro2A', 'L-02', 'hMSC', 'EBF', 'BALB/c3T3', \n",
        "        '16HBE', 'A2780', 'PBMC', '143B', 'hFOB1.19', 'H1299', 'WA09', 'HK-2', 'Hepatocytes', 'HT29', 'NHDF', 'SIRC', 'MCF-7', 'HEK293', 'PK-15', 'NIH3T3', \n",
        "        'SKOV-3', 'Lymphocyte', 'THP-1', 'Calu-3', 'Colo_205', 'hNPC', 'HaCat', 'Neuron', 'ASM', 'BEC', 'MG-63', 'J774A.1', 'SVEC4-10', 'RAV264.7', 'RAW264.7', \n",
        "        'EJ28', 'UM\\xadUC\\xad3', 'HEK', 'HDF',' HEp\\xad2', 'MDBK', 'Calu', 'COS', 'SK', 'Clone', 'J774', 'NR8383', 'THP', 'ECV304', 'KEC', 'LoVo', 'HaCaT', 'hMSCs', 'C17.2', 'MDA', \n",
        "        'CHO22', 'NCIH441', 'primary alveolar epithelial cells',' primary alveolar Macrophage', 'primary tissue Macrophage', 'SVEC4', 'PMA activated THP', 'L',\n",
        "        'HMM', 'IMR90', 'C18–4', 'Neuro', 'BEAS', 'AGS', 'HUVEC', 'HAEC', 'LLC', 'IP15', 'MDCK', 'VERO', 'PC12', 'hTERT',' MG', 'T98G', 'PAECs', 'V14', 'TD',\n",
        "        'MCF7', 'GH3', 'HepG2', 'MEF', 'HeLa', 'SKOV', 'Lymphocytes', 'Memory T', 'Naive T', 'T cells', 'Monocytes', 'NK cells', 'B cells', 'CD4+T cells', 'CD3+ T cells',\n",
        "        'Fibroblasts', 'H4', 'SH', 'PC3', 'L929', 'primary alveolar Epithelial cells', 'primary alveolar Macrophage', 'Caco-2', 'RAW 264.7', 'Macrophages',\n",
        "        'Ana-1', 'Jurkat', 'HEp\\xad2', 'A431', 'Caco\\xad2', 'HMEC\\xad1', 'CDBgeo', 'MG\\xad63','CHO\\xadK1', 'Colo\\xad205']\n",
        "new_labels = [0, 1, 0, 0, 1, 1, 0, 0, 0, 0, 1, 1, 1, 0, 0, 1, 0, 0, 0, 0, 1, 1, 1, 0, 1, 0, 1, 0, 0, 1, 0, 0, 0, 0, 0, 0, 0, 1, 1,\n",
        "              1, 0, 0, 0, 1, 1, 1, 0, 1, 0, 0, 0, 0, 1, 0, 1, 0, 1, 0, 1, 0, 1, 1, 0, 1, 0, 0, 0, 1, 0, 1, 1, 1, 0, 0, 0, 1, 0, 1, 1,\n",
        "              0, 0, 0, 1, 0, 0, 0, 0, 0, 1, 0, 1, 0, 0, 0, 1, 0, 1, 1, 0, 0, 0, 1, 0, 1, 0, 1, 1, 0, 0, 0, 1, 0, 0, 1, 0, 1, 0, 0, 0, 0, 0,\n",
        "              0, 1, 0, 0, 1, 0, 1, 1, 1, 0, 1, 0, 1, 1, 1, 0, 0, 0, 0, 0, 0, 0, 0, 0, 0, 1, 1, 0, 0, 1, 1, 1, 1, 1, 1,0,1,1,0,0,1,0,1] \n",
        "\n",
        "replacement(df,'cell_line', labels, new_labels)   #заменили линии клеток на категориальный признак - раковая и нет\n"
      ]
    },
    {
      "cell_type": "code",
      "execution_count": 28,
      "metadata": {
        "id": "l-Tvs5uE4zJt"
      },
      "outputs": [],
      "source": [
        "def fill_by_mean(df, colname, df2):   #заполняет средним значением\n",
        "  df[colname] = df[colname].fillna(df2[colname].mean())\n",
        "  return df\n"
      ]
    },
    {
      "cell_type": "code",
      "execution_count": 29,
      "metadata": {
        "id": "naqci-Yj5pT8"
      },
      "outputs": [],
      "source": [
        "\n",
        "df['Surface charge (mV)'] = pd.to_numeric(df['Surface charge (mV)'],errors='coerce')"
      ]
    },
    {
      "cell_type": "code",
      "execution_count": 30,
      "metadata": {
        "id": "BsgB8TAI5c3Z"
      },
      "outputs": [],
      "source": [
        "df = df.groupby([\"Material type\"]).apply(fill_by_mean,'Surface charge (mV)',df) #пропуски заполняются средними значениями для данного материала из другой базы данных\n",
        "df = df.groupby([\"Material type\"]).apply(fill_by_mean,'Hydro size (nm)',df)\n",
        "\n",
        "df = df.groupby([\"Material type\"]).apply(fill_by_mean,'Exposure dose (g/L)',df) #наны  заполняются как среднее только по этому типу материала\n",
        "df = df.groupby([\"Material type\"]).apply(fill_by_mean,'Diameter (nm)',df)\n",
        "df = df.groupby([\"Material type\"]).apply(fill_by_mean,'Core size (nm)',df)\n",
        "df = df.groupby([\"Material type\"]).apply(fill_by_mean,'Surface area (m2/g)',df)"
      ]
    },
    {
      "cell_type": "code",
      "execution_count": 31,
      "metadata": {
        "id": "gQr_B_zFbwEQ"
      },
      "outputs": [],
      "source": [
        "labels = ['Cu', 'Zn', 'Mn', 'Co', 'cobalt', 'Ce', 'Fe', 'Gd', 'Hf','In', 'La', 'Ni', 'Sb', 'Si', 'Al', 'Iron', 'Ti']\n",
        "new_labels = ['Cu', 'Zn', 'Mn', 'Co', 'Co', 'Ce', 'Fe', 'Gd', 'Hf','In', 'La', 'Ni', 'Sb', 'Si', 'Al', 'Fe', 'Ti']\n",
        "replacement(df, 'Elements', labels, new_labels)"
      ]
    },
    {
      "cell_type": "code",
      "execution_count": 32,
      "metadata": {
        "id": "TBtbvvwkNZUp"
      },
      "outputs": [],
      "source": [
        "df = df.groupby([\"Material type\"]).apply(fill_by_mean,'Topological polar surface area (Å²)', df)\n",
        "for parameters in ['a (Å)','b (Å)','c (Å)','α (°)','β (°)','γ (°)']:\n",
        "  df = df.groupby([\"Material type\"]).apply(fill_by_mean,parameters, df)"
      ]
    },
    {
      "cell_type": "code",
      "execution_count": 33,
      "metadata": {
        "id": "AZOr3vRjAIqg"
      },
      "outputs": [],
      "source": [
        "df['Aspect_Ratio'] = df['Aspect_Ratio'].fillna(1)# предполагаем, что частица сферическая, если не указано иное"
      ]
    },
    {
      "cell_type": "code",
      "execution_count": 34,
      "metadata": {
        "id": "rrWpK6cqqALs"
      },
      "outputs": [],
      "source": [
        "df.drop(['toxicity', 'cell_origin', 'Cell type'], inplace = True, axis = 1)"
      ]
    },
    {
      "cell_type": "code",
      "execution_count": 35,
      "metadata": {
        "id": "KmivB5RzkJYu"
      },
      "outputs": [],
      "source": [
        "df['Type'] = np.where((df['Type'] =='I'), 1, df['Type']) #неорганика - 1, органика - 2, углероды - 0\n",
        "\n",
        "\n",
        "df['Type'] = np.where((df['Material type']=='C'), 0, df['Type'])\n",
        "df['Type'] = np.where((df['Material type']=='C60'), 0, df['Type'])\n",
        "df['Type'] = np.where((df['Material type']=='C70'), 0, df['Type'])\n",
        "df['Type'] = np.where((df['Type'] =='O'), 2, df['Type'])\n",
        "df['Type'] = np.where((df['Type'] =='C'), 0, df['Type'])\n",
        "df['Type'] = pd.to_numeric(df['Type'],errors='coerce')\n",
        "\n"
      ]
    },
    {
      "cell_type": "code",
      "execution_count": 36,
      "metadata": {
        "id": "sHby1uXV7HZb"
      },
      "outputs": [],
      "source": [
        "df.drop(df.index[df['Type'] == 2], inplace=True)   #в датасете остаются только кристаллы и аллотропы углерода"
      ]
    },
    {
      "cell_type": "code",
      "execution_count": 37,
      "metadata": {
        "id": "g928VRLTePTT"
      },
      "outputs": [],
      "source": [
        "df['Density (g/cm3)']=np.where((df['Material type_copy'] == 'QD'), 2.1, df['Density (g/cm3)'])\n",
        "df['Density (g/cm3)']=np.where((df['Material type_copy'] == 'QDs'), 2.1, df['Density (g/cm3)'])\n",
        "df['Density (g/cm3)']=np.where((df['Material type_copy'] == 'Carbon NP'), 2.1, df['Density (g/cm3)'])\n",
        "df['Density (g/cm3)']=np.where((df['Material type_copy'] == 'Carbon'), 2.1, df['Density (g/cm3)'])\n",
        "df['Density (g/cm3)']=np.where((df['Material type_copy'] == 'Carbon Nanotubes'), 0.5, df['Density (g/cm3)'])\n",
        "df['Density (g/cm3)']=np.where((df['Material type_copy'] == 'MWCNT'), 1.4, df['Density (g/cm3)'])\n",
        "df['Density (g/cm3)']=np.where((df['Material type_copy'] == 'SWCNT'), 0.5, df['Density (g/cm3)'])\n",
        "df['Density (g/cm3)']=np.where((df['Material type_copy'] == 'Graphite'), 2.1, df['Density (g/cm3)'])\n",
        "df['Density (g/cm3)']=np.where((df['Material type_copy'] == 'C60'), 0.25, df['Density (g/cm3)'])\n",
        "df['Density (g/cm3)']=np.where((df['Material type_copy'] == 'C70'), 0.25, df['Density (g/cm3)'])\n",
        "df['Density (g/cm3)']=np.where((df['Material type_copy'] == 'Diamond'), 3.5, df['Density (g/cm3)'])"
      ]
    },
    {
      "cell_type": "code",
      "execution_count": 38,
      "metadata": {
        "colab": {
          "base_uri": "https://localhost:8080/"
        },
        "id": "I4FzCu6bhgUs",
        "outputId": "076eb549-1708-444d-e41b-633581bec072"
      },
      "outputs": [
        {
          "output_type": "execute_result",
          "data": {
            "text/plain": [
              "0       CeO2\n",
              "1       CeO2\n",
              "2       CeO2\n",
              "3       CeO2\n",
              "4       CeO2\n",
              "        ... \n",
              "9138     NaN\n",
              "9139     NaN\n",
              "9140     NaN\n",
              "9141     NaN\n",
              "9142     NaN\n",
              "Name: Material type_copy, Length: 7790, dtype: object"
            ]
          },
          "metadata": {},
          "execution_count": 38
        }
      ],
      "source": [
        "df.pop('Material type_copy')"
      ]
    },
    {
      "cell_type": "code",
      "execution_count": 39,
      "metadata": {
        "id": "tLW36mqB_JbD"
      },
      "outputs": [],
      "source": [
        "df = df.groupby([\"Material type\"]).apply(fill_by_mean,'Density (g/cm3)',df)"
      ]
    },
    {
      "cell_type": "code",
      "execution_count": 40,
      "metadata": {
        "id": "Rr-LTcCkaUIs"
      },
      "outputs": [],
      "source": [
        "labels = [ 'QDs', 'QD', 'MWCNT',  'Carbon', 'SWCNT','Diamond', 'Graphite'] #для пиматгена\n",
        "new_labels = ['C','C','C','C','C','C','C']\n",
        "replacement(df,'Material type', labels, new_labels)"
      ]
    },
    {
      "cell_type": "code",
      "execution_count": 41,
      "metadata": {
        "id": "KmF-eeW9niFU"
      },
      "outputs": [],
      "source": [
        "df = df[df['Material type'] != 'Chitosan']\n",
        "df = df[df['Material type'] != 'Polystyrene']"
      ]
    },
    {
      "cell_type": "code",
      "execution_count": 42,
      "metadata": {
        "id": "ZxmVnMyll4Np"
      },
      "outputs": [],
      "source": [
        "elements = []\n",
        "for value in df['Material type']:\n",
        "  if value == 'C':\n",
        "    elements.append(value[:1])\n",
        "  elif value =='C60':\n",
        "    elements.append(value[:3])\n",
        "  elif value =='C70':\n",
        "    elements.append(value[:3])\n",
        "  else:\n",
        "    elements.append(value[:2])"
      ]
    },
    {
      "cell_type": "code",
      "execution_count": 43,
      "metadata": {
        "id": "4L6m9FpmoReD"
      },
      "outputs": [],
      "source": [
        "df['Elements'] = elements"
      ]
    },
    {
      "cell_type": "code",
      "execution_count": 44,
      "metadata": {
        "id": "jz032jljcWib"
      },
      "outputs": [],
      "source": [
        "\n",
        "average_ionic_radii = []\n",
        "electron_affinity=[] #подумала, что это может показывать, как наночастице поведут себя в окислительной среде организма\n",
        "molar_volume=[] #по логике это объем элементарной ячейки, только умноженный на число Авогадро\n",
        "\n",
        "for column in df['Elements']:\n",
        "  try:\n",
        "    element = (Element(column))\n",
        "    average_ionic_radii.append(element.average_cationic_radius)\n",
        "    electron_affinity.append(element.electron_affinity)\n",
        "    \n",
        "\n",
        "  except ValueError:\n",
        "    average_ionic_radii.append('not known')\n",
        "    electron_affinity.append('not known')\n",
        "df['Average ionic radius'] = average_ionic_radii\n",
        "\n",
        "df['Ionic radius'].fillna(df['Average ionic radius'], inplace = True)   #пропуски в ионном радиусе заполняются средним ионным радиусом для элемента из pymatgen\n",
        "df['electron_affinity']=electron_affinity\n"
      ]
    },
    {
      "cell_type": "code",
      "execution_count": 45,
      "metadata": {
        "id": "7Z5Ky6T8Brhw"
      },
      "outputs": [],
      "source": [
        "num_atoms = []  \n",
        "mol_weight = []  #расчет новых дескрипторов\n",
        "electroneg = []\n",
        "compositions = []\n",
        "\n",
        "anon_formula = []\n",
        "\n",
        "for column in df['Material type']:\n",
        "  try:\n",
        "    composition = (Composition(column))\n",
        "    electroneg.append(composition.average_electroneg)\n",
        "    mol_weight.append(composition.weight)\n",
        "    num_atoms.append(composition.num_atoms)\n",
        "  \n",
        "    anon_formula.append(composition.anonymized_formula)\n",
        "    \n",
        " \n",
        "  except AttributeError:   #тк pymatgen не сработает с органикой\n",
        "    \n",
        "\n",
        "    mol_weight.append('not known')\n",
        "    num_atoms.append('not known')\n",
        "   \n",
        "    anon_formula.append('not known')\n",
        "    \n",
        "  except ValueError:\n",
        "    electroneg.append('not known')\n",
        "    anon_formula.append('not known')\n",
        "    mol_weight.append('not known')\n",
        "    num_atoms.append('not known')\n",
        "    \n",
        "\n",
        "df['average electronegativity'] = electroneg \n",
        "\n",
        "df['anon formula'] =anon_formula\n",
        "df['Molecular weight (g/mol)'] = mol_weight\n",
        "df['Number of atoms'] = num_atoms\n"
      ]
    },
    {
      "cell_type": "code",
      "execution_count": 46,
      "metadata": {
        "id": "J_U065Kkq0aZ"
      },
      "outputs": [],
      "source": [
        "lables = ['A','AB','AB2','A2B3','A3B4','AB3C5D13']\n",
        "new_labels = ['0','1','2','3','4','5']\n",
        "\n",
        "df['anon formula'] = np.where((df['anon formula'] == 'A'), 0, df['anon formula'])\n",
        "df['anon formula'] = np.where((df['anon formula'] == 'AB'), 1, df['anon formula'])\n",
        "df['anon formula'] = np.where((df['anon formula'] == 'AB2'), 2, df['anon formula'])\n",
        "df['anon formula'] = np.where((df['anon formula'] == 'A2B3'), 3, df['anon formula'])\n",
        "df['anon formula'] = np.where((df['anon formula'] == 'A3B4'), 4, df['anon formula'])\n",
        "df['anon formula'] = np.where((df['anon formula'] == 'AB3C5D13'), 5, df['anon formula'])"
      ]
    },
    {
      "cell_type": "code",
      "execution_count": 47,
      "metadata": {
        "id": "EPBno-FBCB3G"
      },
      "outputs": [],
      "source": [
        "#новые синтетические параметры\n",
        "df['charge density'] = df['Surface charge (mV)']/df['Surface area (m2/g)']\n",
        "df['dose_time'] = df['Exposure dose (g/L)']*df['time']   #синтетический признак, концентрация на время"
      ]
    },
    {
      "cell_type": "code",
      "execution_count": 48,
      "metadata": {
        "id": "Mi876aiPB55K"
      },
      "outputs": [],
      "source": [
        "#может просто убрать молекулярную массу, число атомов, элементы и анон формулу? они вроде как не влияют на свойства наночастиц\n",
        "df.drop(['Number of atoms', 'Molecular weight (g/mol)',\n",
        "               'a (Å)', 'b (Å)', 'c (Å)', 'α (°)', 'β (°)', 'γ (°)', 'time', 'Exposure dose (g/L)'], inplace = True, axis = 1) #удаляем неинформативные столбцы"
      ]
    },
    {
      "cell_type": "code",
      "execution_count": 49,
      "metadata": {
        "id": "nWOIjNvlxtL5"
      },
      "outputs": [],
      "source": [
        "df['electron_affinity'] = np.where((df['electron_affinity'] == 'not known'), 1.262114\t, df['electron_affinity']) # заполняем углеродом"
      ]
    },
    {
      "cell_type": "code",
      "execution_count": 50,
      "metadata": {
        "id": "AXT45opwze_j"
      },
      "outputs": [],
      "source": [
        "df['Ionic radius'] = np.where((df['Ionic radius'] == 'not known'), 0.3\t, df['Ionic radius']) # "
      ]
    },
    {
      "cell_type": "code",
      "execution_count": 51,
      "metadata": {
        "id": "1lcd5BCvztVX"
      },
      "outputs": [],
      "source": [
        "df.drop(['cell_species', 'Average ionic radius'], axis=1, inplace=True)"
      ]
    },
    {
      "cell_type": "code",
      "execution_count": 52,
      "metadata": {
        "id": "RohBhZBl-iLi"
      },
      "outputs": [],
      "source": [
        "df.drop(df.index[df['dose_time'] == 0], inplace=True)\n",
        "df.drop(df.index[df['Core size (nm)'] == 0], inplace=True)\n",
        "df.drop(df.index[df['Surface area (m2/g)'] == 0], inplace=True)"
      ]
    },
    {
      "cell_type": "markdown",
      "metadata": {
        "id": "V0hiQi255JOW"
      },
      "source": [
        "**Анализ данных**"
      ]
    },
    {
      "cell_type": "code",
      "execution_count": 53,
      "metadata": {
        "colab": {
          "base_uri": "https://localhost:8080/",
          "height": 362
        },
        "id": "AGdcTqlf5RCF",
        "outputId": "225c0c5f-6190-424e-afb1-36ccebb439a9"
      },
      "outputs": [
        {
          "output_type": "execute_result",
          "data": {
            "text/plain": [
              "              Type         Coat  Diameter (nm)  Surface charge (mV)  \\\n",
              "count  7639.000000  7639.000000    7639.000000          7639.000000   \n",
              "mean      0.954313     0.824584      80.551110            -6.711021   \n",
              "std       0.208818     0.380347     109.750655            23.216031   \n",
              "min       0.000000     0.000000       1.150000          -158.000000   \n",
              "25%       1.000000     1.000000      21.060000           -21.770000   \n",
              "50%       1.000000     1.000000      65.170000            -4.103488   \n",
              "75%       1.000000     1.000000      83.804872            -4.103488   \n",
              "max       1.000000     1.000000     957.000000           363.000000   \n",
              "\n",
              "         cell_line  Viability (%)  Hydro size (nm)  Aspect_Ratio  \\\n",
              "count  7639.000000    7639.000000      7639.000000   7639.000000   \n",
              "mean      0.628485     101.317015       257.108466      8.248317   \n",
              "std       0.483241    1274.076973       187.253045    114.353432   \n",
              "min       0.000000       0.000000         0.040000      0.100000   \n",
              "25%       0.000000      59.426383       203.300000      1.000000   \n",
              "50%       1.000000      86.000000       261.173184      1.000000   \n",
              "75%       1.000000      96.405300       261.173184      1.000000   \n",
              "max       1.000000   85775.000000      1843.000000   3333.000000   \n",
              "\n",
              "       Core size (nm)  Surface area (m2/g)  \\\n",
              "count     7639.000000          7639.000000   \n",
              "mean        41.195952            86.748462   \n",
              "std         32.628868            69.728283   \n",
              "min          5.900000             7.000000   \n",
              "25%         41.418762            86.388613   \n",
              "50%         41.418762            86.388613   \n",
              "75%         41.418762            86.388613   \n",
              "max       2500.000000           640.000000   \n",
              "\n",
              "       Topological polar surface area (Å²)  Density (g/cm3)  \\\n",
              "count                          7639.000000      7639.000000   \n",
              "mean                             31.351066         4.621826   \n",
              "std                               5.978619         1.215270   \n",
              "min                              17.100000         0.250000   \n",
              "25%                              31.313858         4.618750   \n",
              "50%                              31.313858         4.618750   \n",
              "75%                              31.313858         4.618750   \n",
              "max                              60.400000         9.970000   \n",
              "\n",
              "       average electronegativity  charge density     dose_time  \n",
              "count                7639.000000     7639.000000  7.639000e+03  \n",
              "mean                    2.568415        0.008435  3.167122e+00  \n",
              "std                     0.293994        0.735017  2.807725e+01  \n",
              "min                     1.540000       -4.300000  6.974618e-34  \n",
              "25%                     2.540000       -0.283602  1.500000e-01  \n",
              "50%                     2.658636       -0.047500  1.200000e+00  \n",
              "75%                     2.750000       -0.047500  2.996066e+00  \n",
              "max                     2.926667        5.610510  2.400000e+03  "
            ],
            "text/html": [
              "\n",
              "  <div id=\"df-bd5e822a-cba8-427a-9cb6-d4ba13b0ad6e\">\n",
              "    <div class=\"colab-df-container\">\n",
              "      <div>\n",
              "<style scoped>\n",
              "    .dataframe tbody tr th:only-of-type {\n",
              "        vertical-align: middle;\n",
              "    }\n",
              "\n",
              "    .dataframe tbody tr th {\n",
              "        vertical-align: top;\n",
              "    }\n",
              "\n",
              "    .dataframe thead th {\n",
              "        text-align: right;\n",
              "    }\n",
              "</style>\n",
              "<table border=\"1\" class=\"dataframe\">\n",
              "  <thead>\n",
              "    <tr style=\"text-align: right;\">\n",
              "      <th></th>\n",
              "      <th>Type</th>\n",
              "      <th>Coat</th>\n",
              "      <th>Diameter (nm)</th>\n",
              "      <th>Surface charge (mV)</th>\n",
              "      <th>cell_line</th>\n",
              "      <th>Viability (%)</th>\n",
              "      <th>Hydro size (nm)</th>\n",
              "      <th>Aspect_Ratio</th>\n",
              "      <th>Core size (nm)</th>\n",
              "      <th>Surface area (m2/g)</th>\n",
              "      <th>Topological polar surface area (Å²)</th>\n",
              "      <th>Density (g/cm3)</th>\n",
              "      <th>average electronegativity</th>\n",
              "      <th>charge density</th>\n",
              "      <th>dose_time</th>\n",
              "    </tr>\n",
              "  </thead>\n",
              "  <tbody>\n",
              "    <tr>\n",
              "      <th>count</th>\n",
              "      <td>7639.000000</td>\n",
              "      <td>7639.000000</td>\n",
              "      <td>7639.000000</td>\n",
              "      <td>7639.000000</td>\n",
              "      <td>7639.000000</td>\n",
              "      <td>7639.000000</td>\n",
              "      <td>7639.000000</td>\n",
              "      <td>7639.000000</td>\n",
              "      <td>7639.000000</td>\n",
              "      <td>7639.000000</td>\n",
              "      <td>7639.000000</td>\n",
              "      <td>7639.000000</td>\n",
              "      <td>7639.000000</td>\n",
              "      <td>7639.000000</td>\n",
              "      <td>7.639000e+03</td>\n",
              "    </tr>\n",
              "    <tr>\n",
              "      <th>mean</th>\n",
              "      <td>0.954313</td>\n",
              "      <td>0.824584</td>\n",
              "      <td>80.551110</td>\n",
              "      <td>-6.711021</td>\n",
              "      <td>0.628485</td>\n",
              "      <td>101.317015</td>\n",
              "      <td>257.108466</td>\n",
              "      <td>8.248317</td>\n",
              "      <td>41.195952</td>\n",
              "      <td>86.748462</td>\n",
              "      <td>31.351066</td>\n",
              "      <td>4.621826</td>\n",
              "      <td>2.568415</td>\n",
              "      <td>0.008435</td>\n",
              "      <td>3.167122e+00</td>\n",
              "    </tr>\n",
              "    <tr>\n",
              "      <th>std</th>\n",
              "      <td>0.208818</td>\n",
              "      <td>0.380347</td>\n",
              "      <td>109.750655</td>\n",
              "      <td>23.216031</td>\n",
              "      <td>0.483241</td>\n",
              "      <td>1274.076973</td>\n",
              "      <td>187.253045</td>\n",
              "      <td>114.353432</td>\n",
              "      <td>32.628868</td>\n",
              "      <td>69.728283</td>\n",
              "      <td>5.978619</td>\n",
              "      <td>1.215270</td>\n",
              "      <td>0.293994</td>\n",
              "      <td>0.735017</td>\n",
              "      <td>2.807725e+01</td>\n",
              "    </tr>\n",
              "    <tr>\n",
              "      <th>min</th>\n",
              "      <td>0.000000</td>\n",
              "      <td>0.000000</td>\n",
              "      <td>1.150000</td>\n",
              "      <td>-158.000000</td>\n",
              "      <td>0.000000</td>\n",
              "      <td>0.000000</td>\n",
              "      <td>0.040000</td>\n",
              "      <td>0.100000</td>\n",
              "      <td>5.900000</td>\n",
              "      <td>7.000000</td>\n",
              "      <td>17.100000</td>\n",
              "      <td>0.250000</td>\n",
              "      <td>1.540000</td>\n",
              "      <td>-4.300000</td>\n",
              "      <td>6.974618e-34</td>\n",
              "    </tr>\n",
              "    <tr>\n",
              "      <th>25%</th>\n",
              "      <td>1.000000</td>\n",
              "      <td>1.000000</td>\n",
              "      <td>21.060000</td>\n",
              "      <td>-21.770000</td>\n",
              "      <td>0.000000</td>\n",
              "      <td>59.426383</td>\n",
              "      <td>203.300000</td>\n",
              "      <td>1.000000</td>\n",
              "      <td>41.418762</td>\n",
              "      <td>86.388613</td>\n",
              "      <td>31.313858</td>\n",
              "      <td>4.618750</td>\n",
              "      <td>2.540000</td>\n",
              "      <td>-0.283602</td>\n",
              "      <td>1.500000e-01</td>\n",
              "    </tr>\n",
              "    <tr>\n",
              "      <th>50%</th>\n",
              "      <td>1.000000</td>\n",
              "      <td>1.000000</td>\n",
              "      <td>65.170000</td>\n",
              "      <td>-4.103488</td>\n",
              "      <td>1.000000</td>\n",
              "      <td>86.000000</td>\n",
              "      <td>261.173184</td>\n",
              "      <td>1.000000</td>\n",
              "      <td>41.418762</td>\n",
              "      <td>86.388613</td>\n",
              "      <td>31.313858</td>\n",
              "      <td>4.618750</td>\n",
              "      <td>2.658636</td>\n",
              "      <td>-0.047500</td>\n",
              "      <td>1.200000e+00</td>\n",
              "    </tr>\n",
              "    <tr>\n",
              "      <th>75%</th>\n",
              "      <td>1.000000</td>\n",
              "      <td>1.000000</td>\n",
              "      <td>83.804872</td>\n",
              "      <td>-4.103488</td>\n",
              "      <td>1.000000</td>\n",
              "      <td>96.405300</td>\n",
              "      <td>261.173184</td>\n",
              "      <td>1.000000</td>\n",
              "      <td>41.418762</td>\n",
              "      <td>86.388613</td>\n",
              "      <td>31.313858</td>\n",
              "      <td>4.618750</td>\n",
              "      <td>2.750000</td>\n",
              "      <td>-0.047500</td>\n",
              "      <td>2.996066e+00</td>\n",
              "    </tr>\n",
              "    <tr>\n",
              "      <th>max</th>\n",
              "      <td>1.000000</td>\n",
              "      <td>1.000000</td>\n",
              "      <td>957.000000</td>\n",
              "      <td>363.000000</td>\n",
              "      <td>1.000000</td>\n",
              "      <td>85775.000000</td>\n",
              "      <td>1843.000000</td>\n",
              "      <td>3333.000000</td>\n",
              "      <td>2500.000000</td>\n",
              "      <td>640.000000</td>\n",
              "      <td>60.400000</td>\n",
              "      <td>9.970000</td>\n",
              "      <td>2.926667</td>\n",
              "      <td>5.610510</td>\n",
              "      <td>2.400000e+03</td>\n",
              "    </tr>\n",
              "  </tbody>\n",
              "</table>\n",
              "</div>\n",
              "      <button class=\"colab-df-convert\" onclick=\"convertToInteractive('df-bd5e822a-cba8-427a-9cb6-d4ba13b0ad6e')\"\n",
              "              title=\"Convert this dataframe to an interactive table.\"\n",
              "              style=\"display:none;\">\n",
              "        \n",
              "  <svg xmlns=\"http://www.w3.org/2000/svg\" height=\"24px\"viewBox=\"0 0 24 24\"\n",
              "       width=\"24px\">\n",
              "    <path d=\"M0 0h24v24H0V0z\" fill=\"none\"/>\n",
              "    <path d=\"M18.56 5.44l.94 2.06.94-2.06 2.06-.94-2.06-.94-.94-2.06-.94 2.06-2.06.94zm-11 1L8.5 8.5l.94-2.06 2.06-.94-2.06-.94L8.5 2.5l-.94 2.06-2.06.94zm10 10l.94 2.06.94-2.06 2.06-.94-2.06-.94-.94-2.06-.94 2.06-2.06.94z\"/><path d=\"M17.41 7.96l-1.37-1.37c-.4-.4-.92-.59-1.43-.59-.52 0-1.04.2-1.43.59L10.3 9.45l-7.72 7.72c-.78.78-.78 2.05 0 2.83L4 21.41c.39.39.9.59 1.41.59.51 0 1.02-.2 1.41-.59l7.78-7.78 2.81-2.81c.8-.78.8-2.07 0-2.86zM5.41 20L4 18.59l7.72-7.72 1.47 1.35L5.41 20z\"/>\n",
              "  </svg>\n",
              "      </button>\n",
              "      \n",
              "  <style>\n",
              "    .colab-df-container {\n",
              "      display:flex;\n",
              "      flex-wrap:wrap;\n",
              "      gap: 12px;\n",
              "    }\n",
              "\n",
              "    .colab-df-convert {\n",
              "      background-color: #E8F0FE;\n",
              "      border: none;\n",
              "      border-radius: 50%;\n",
              "      cursor: pointer;\n",
              "      display: none;\n",
              "      fill: #1967D2;\n",
              "      height: 32px;\n",
              "      padding: 0 0 0 0;\n",
              "      width: 32px;\n",
              "    }\n",
              "\n",
              "    .colab-df-convert:hover {\n",
              "      background-color: #E2EBFA;\n",
              "      box-shadow: 0px 1px 2px rgba(60, 64, 67, 0.3), 0px 1px 3px 1px rgba(60, 64, 67, 0.15);\n",
              "      fill: #174EA6;\n",
              "    }\n",
              "\n",
              "    [theme=dark] .colab-df-convert {\n",
              "      background-color: #3B4455;\n",
              "      fill: #D2E3FC;\n",
              "    }\n",
              "\n",
              "    [theme=dark] .colab-df-convert:hover {\n",
              "      background-color: #434B5C;\n",
              "      box-shadow: 0px 1px 3px 1px rgba(0, 0, 0, 0.15);\n",
              "      filter: drop-shadow(0px 1px 2px rgba(0, 0, 0, 0.3));\n",
              "      fill: #FFFFFF;\n",
              "    }\n",
              "  </style>\n",
              "\n",
              "      <script>\n",
              "        const buttonEl =\n",
              "          document.querySelector('#df-bd5e822a-cba8-427a-9cb6-d4ba13b0ad6e button.colab-df-convert');\n",
              "        buttonEl.style.display =\n",
              "          google.colab.kernel.accessAllowed ? 'block' : 'none';\n",
              "\n",
              "        async function convertToInteractive(key) {\n",
              "          const element = document.querySelector('#df-bd5e822a-cba8-427a-9cb6-d4ba13b0ad6e');\n",
              "          const dataTable =\n",
              "            await google.colab.kernel.invokeFunction('convertToInteractive',\n",
              "                                                     [key], {});\n",
              "          if (!dataTable) return;\n",
              "\n",
              "          const docLinkHtml = 'Like what you see? Visit the ' +\n",
              "            '<a target=\"_blank\" href=https://colab.research.google.com/notebooks/data_table.ipynb>data table notebook</a>'\n",
              "            + ' to learn more about interactive tables.';\n",
              "          element.innerHTML = '';\n",
              "          dataTable['output_type'] = 'display_data';\n",
              "          await google.colab.output.renderOutput(dataTable, element);\n",
              "          const docLink = document.createElement('div');\n",
              "          docLink.innerHTML = docLinkHtml;\n",
              "          element.appendChild(docLink);\n",
              "        }\n",
              "      </script>\n",
              "    </div>\n",
              "  </div>\n",
              "  "
            ]
          },
          "metadata": {},
          "execution_count": 53
        }
      ],
      "source": [
        "# df.describe()# ищем выбросы: Surface charge (mV), Viability (%), Aspect_Ratio, Core size (nm), charge density, dose_time"
      ]
    },
    {
      "cell_type": "code",
      "execution_count": 54,
      "metadata": {
        "colab": {
          "base_uri": "https://localhost:8080/",
          "height": 281
        },
        "id": "YyltjVcARRMb",
        "outputId": "b89f74a8-c35b-430a-cf97-55479e4dfbdd"
      },
      "outputs": [
        {
          "output_type": "display_data",
          "data": {
            "text/plain": [
              "<Figure size 432x288 with 1 Axes>"
            ],
            "image/png": "[encoded data removed]"
          },
          "metadata": {
            "needs_background": "light"
          }
        }
      ],
      "source": [
        "sns.boxplot(data=df, orient=\"h\")\n",
        "plt.title('Значения данных по всему датасету')\n",
        "plt.show()"
      ]
    },
    {
      "cell_type": "code",
      "execution_count": 55,
      "metadata": {
        "id": "ZVeeD82O9DZG"
      },
      "outputs": [],
      "source": [
        "def drop_outliers_max(df, column, threshhold):\n",
        "    df.drop(df.index[df[column] > threshhold], inplace=True)\n"
      ]
    },
    {
      "cell_type": "code",
      "execution_count": 56,
      "metadata": {
        "id": "Xpe2Z6oF_-e9"
      },
      "outputs": [],
      "source": [
        "threshholds=[['Surface charge (mV)', 100], ['Viability (%)', 200], ['Aspect_Ratio', 100], ['Core size (nm)', 100]]"
      ]
    },
    {
      "cell_type": "code",
      "execution_count": 57,
      "metadata": {
        "id": "OXpe53H4EVFL"
      },
      "outputs": [],
      "source": [
        "for column in threshholds:\n",
        "    drop_outliers_max(df, column[0], column[1])"
      ]
    },
    {
      "cell_type": "code",
      "execution_count": 58,
      "metadata": {
        "id": "x9yfnAARFteO"
      },
      "outputs": [],
      "source": [
        "def drop_outliers_min(df, column, threshhold):\n",
        "    df.drop(df.index[df[column] < threshhold], inplace=True)\n",
        "threshholds=[['dose_time', 1e-10], ['Surface charge (mV)', -100]]"
      ]
    },
    {
      "cell_type": "code",
      "execution_count": 59,
      "metadata": {
        "id": "q9ZsdkvBHulF"
      },
      "outputs": [],
      "source": [
        "for column in threshholds:\n",
        "    drop_outliers_min(df, column[0], column[1])"
      ]
    },
    {
      "cell_type": "code",
      "execution_count": 60,
      "metadata": {
        "id": "aSh7qGpG_Dy2"
      },
      "outputs": [],
      "source": [
        "df[\"if_oxide\"]=df['Material type'].apply(lambda row: 1 if ('O' in row) else 0)"
      ]
    },
    {
      "cell_type": "code",
      "execution_count": 61,
      "metadata": {
        "colab": {
          "base_uri": "https://localhost:8080/"
        },
        "id": "RaJXIeMv_ciX",
        "outputId": "58e9d8df-2469-4b6a-95e6-6ecbb66a80fe"
      },
      "outputs": [
        {
          "output_type": "stream",
          "name": "stdout",
          "text": [
            "Рассчитанные значения хи-квадрат для категориальных признаков 'cell_line' и 'Cell_Source'\n",
            "p-value: 1.239167941930015e-104\n",
            "Зависимы\n",
            "Рассчитанные значения хи-квадрат для категориальных признаков 'if_oxide' и 'anon formula'\n",
            "p-value: 0.0\n",
            "Зависимы\n"
          ]
        }
      ],
      "source": [
        "from scipy.stats import chi2_contingency #хи-квадрат для категориальных признаков\n",
        "data = pd.crosstab(df['cell_line'], df['Cell_Source'])\n",
        "stat, p, dof, expected = chi2_contingency(data)\n",
        "alpha = 0.05\n",
        "print(\"Рассчитанные значения хи-квадрат для категориальных признаков 'cell_line' и 'Cell_Source'\")\n",
        "print( f\"p-value: {p}\")\n",
        "if p <= alpha:\n",
        "    print ( 'Зависимы' )\n",
        "else :\n",
        "    print ( 'Независимы' )\n",
        "\n",
        "\n",
        "data = pd.crosstab(df['if_oxide'], df['anon formula'])\n",
        "stat, p, dof, expected = chi2_contingency(data)\n",
        "print(\"Рассчитанные значения хи-квадрат для категориальных признаков 'if_oxide' и 'anon formula'\")\n",
        "print( f\"p-value: {p}\")\n",
        "if p <= alpha:\n",
        "    print ( 'Зависимы' )\n",
        "else :\n",
        "    print ( 'Независимы' )"
      ]
    },
    {
      "cell_type": "code",
      "execution_count": 62,
      "metadata": {
        "id": "4sbv8gI2SabS"
      },
      "outputs": [],
      "source": [
        "numerical_features = []\n",
        "categ = ['Material type', 'Cell_Source', 'Elements', 'anon formula']\n",
        "for i in df.columns:\n",
        "  if i not in set(categ):\n",
        "    numerical_features.append(i)"
      ]
    },
    {
      "cell_type": "markdown",
      "metadata": {
        "id": "zueWT7GDVt4k"
      },
      "source": [
        "**Scaling данных**"
      ]
    },
    {
      "cell_type": "code",
      "execution_count": 64,
      "metadata": {
        "colab": {
          "base_uri": "https://localhost:8080/",
          "height": 934
        },
        "id": "iVrT2nXYTCF1",
        "outputId": "f21d41a5-cbe0-4656-8f35-a18057463bc1"
      },
      "outputs": [
        {
          "output_type": "display_data",
          "data": {
            "text/plain": [
              "<Figure size 1152x1152 with 16 Axes>"
            ],
            "image/png": "[encoded data removed]"
          },
          "metadata": {
            "needs_background": "light"
          }
        }
      ],
      "source": [
        "%matplotlib inline\n",
        "df.hist(bins=50, figsize=(16,16))\n",
        "plt.title('Распределения числовых данных')\n",
        "plt.show()\n",
        "#приблизительно нормальные: 'Density (g/cm3)', 'Surface charge (mV)', 'charge density'"
      ]
    },
    {
      "cell_type": "code",
      "source": [
        "# корреляционная матрица\n",
        "\n",
        "data_corr=df.corr()\n",
        "plt.figure(figsize = (10,6))\n",
        "plt.title('Корреляционная матрица')\n",
        "sns.heatmap(data_corr)\n",
        "plt.show()"
      ],
      "metadata": {
        "colab": {
          "base_uri": "https://localhost:8080/",
          "height": 551
        },
        "id": "9bW-B5PX2KCR",
        "outputId": "c7a2d2b3-7081-444d-85d9-c25c28e3dc2b"
      },
      "execution_count": 70,
      "outputs": [
        {
          "output_type": "display_data",
          "data": {
            "text/plain": [
              "<Figure size 720x432 with 2 Axes>"
            ],
            "image/png": "[encoded data removed]"
          },
          "metadata": {
            "needs_background": "light"
          }
        }
      ]
    },
    {
      "cell_type": "code",
      "execution_count": 65,
      "metadata": {
        "id": "mtkXQZx2VYPE"
      },
      "outputs": [],
      "source": [
        "from sklearn.preprocessing import MinMaxScaler, StandardScaler"
      ]
    },
    {
      "cell_type": "code",
      "execution_count": 66,
      "metadata": {
        "id": "FoxxNf4bW8bs"
      },
      "outputs": [],
      "source": [
        "normal_features=['Density (g/cm3)', 'Surface charge (mV)', 'charge density']\n",
        "other_features = []\n",
        "for i in numerical_features:\n",
        "  if i not in set(normal_features):\n",
        "    other_features.append(i)"
      ]
    },
    {
      "cell_type": "code",
      "execution_count": 67,
      "metadata": {
        "id": "IHOWNT1LY7tr"
      },
      "outputs": [],
      "source": [
        "df1=df.drop((categ+other_features), axis=1)"
      ]
    },
    {
      "cell_type": "code",
      "execution_count": 68,
      "metadata": {
        "id": "ECyMc4Z1Zm1i"
      },
      "outputs": [],
      "source": [
        "df2=df.drop((categ+normal_features), axis=1)"
      ]
    },
    {
      "cell_type": "code",
      "execution_count": 69,
      "metadata": {
        "id": "LXd8X-SkgvsV"
      },
      "outputs": [],
      "source": [
        "scaling=StandardScaler()"
      ]
    },
    {
      "cell_type": "code",
      "execution_count": 71,
      "metadata": {
        "id": "3d3J8lp3gNKq"
      },
      "outputs": [],
      "source": [
        "scaling.fit(df1)\n",
        "stand_scaled=scaling.transform(df1)"
      ]
    },
    {
      "cell_type": "code",
      "execution_count": 72,
      "metadata": {
        "id": "agNfTz0Eg9BM"
      },
      "outputs": [],
      "source": [
        "scaling=MinMaxScaler()"
      ]
    },
    {
      "cell_type": "code",
      "execution_count": 73,
      "metadata": {
        "id": "_H-O74FihLnt"
      },
      "outputs": [],
      "source": [
        "scaling.fit(df2)\n",
        "min_max_scaled=scaling.transform(df2)"
      ]
    },
    {
      "cell_type": "code",
      "execution_count": 74,
      "metadata": {
        "id": "wt_1Q7ZRnbGW"
      },
      "outputs": [],
      "source": [
        "df1=pd.DataFrame(stand_scaled)\n",
        "df2=pd.DataFrame(min_max_scaled) "
      ]
    },
    {
      "cell_type": "code",
      "execution_count": 75,
      "metadata": {
        "id": "PeB76Snp2ZGM"
      },
      "outputs": [],
      "source": [
        "df1.rename(columns = {0: 'Surface charge (mV)', 1: 'Density (g/cm3)', 2:'charge density'}, inplace=True)"
      ]
    },
    {
      "cell_type": "code",
      "execution_count": 76,
      "metadata": {
        "id": "FyNjMs3u24xM"
      },
      "outputs": [],
      "source": [
        "df2.rename(columns = {0: 'Type', 1: 'Coat', 2: 'Diameter (nm)', 3: 'cell_line', 4: 'Viability (%)',\n",
        "       5: 'Hydro size (nm)', 6: 'Aspect_Ratio', 7: 'Ionic radius', 8: 'Core size (nm)',\n",
        "       9: 'Surface area (m2/g)', 10: 'Topological polar surface area (Å²)',\n",
        "       11: 'average electronegativity', 12: 'electron_affinity', 13: 'dose_time',\n",
        "       14: 'if_oxide'}, inplace=True)"
      ]
    },
    {
      "cell_type": "code",
      "execution_count": 77,
      "metadata": {
        "id": "yq2Y_pC0ktem"
      },
      "outputs": [],
      "source": [
        "dataset=pd.concat([df1, df2.reindex(df1.index)], axis=1)"
      ]
    },
    {
      "cell_type": "code",
      "execution_count": 78,
      "metadata": {
        "id": "ZegNwJUaB4h9"
      },
      "outputs": [],
      "source": [
        "dataset.to_csv('final.csv')"
      ]
    },
    {
      "cell_type": "code",
      "execution_count": 79,
      "metadata": {
        "colab": {
          "base_uri": "https://localhost:8080/",
          "height": 934
        },
        "id": "qGn7860kKdwy",
        "outputId": "8521694b-8510-4ab2-e4d5-8d52c8ef12b1"
      },
      "outputs": [
        {
          "output_type": "display_data",
          "data": {
            "text/plain": [
              "<Figure size 1152x1152 with 20 Axes>"
            ],
            "image/png": "[encoded data removed]"
          },
          "metadata": {
            "needs_background": "light"
          }
        }
      ],
      "source": [
        "%matplotlib inline\n",
        "dataset.hist(bins=50, figsize=(16,16))\n",
        "plt.show()"
      ]
    },
    {
      "cell_type": "code",
      "source": [
        "#dataset.to_csv('final.csv', header=True) # сохраняем в рабочую папку"
      ],
      "metadata": {
        "id": "0nBK7U_Q3VHX"
      },
      "execution_count": null,
      "outputs": []
    }
  ],
  "metadata": {
    "colab": {
      "collapsed_sections": [],
      "name": "data2.ipynb",
      "provenance": [],
      "include_colab_link": true
    },
    "kernelspec": {
      "display_name": "Python 3",
      "name": "python3"
    },
    "language_info": {
      "name": "python"
    }
  },
  "nbformat": 4,
  "nbformat_minor": 0
}
