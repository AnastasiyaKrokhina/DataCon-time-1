{
  "nbformat": 4,
  "nbformat_minor": 0,
  "metadata": {
    "colab": {
      "name": "data1.ipynb",
      "provenance": [],
      "collapsed_sections": [],
      "include_colab_link": true
    },
    "kernelspec": {
      "name": "python3",
      "display_name": "Python 3"
    },
    "language_info": {
      "name": "python"
    }
  },
  "cells": [
    {
      "cell_type": "markdown",
      "metadata": {
        "id": "view-in-github",
        "colab_type": "text"
      },
      "source": [
        "<a href=\"https://colab.research.google.com/github/AnastasiyaKrokhina/DataCon-time-1/blob/main/notebooks/data1.ipynb\" target=\"_parent\"><img src=\"https://colab.research.google.com/assets/colab-badge.svg\" alt=\"Open In Colab\"/></a>"
      ]
    },
    {
      "cell_type": "code",
      "source": [
        "#satisfying requirements\n",
        "from pip._internal import main \n",
        "packages = ('traitlets', \n",
        "            'IPython', \n",
        "            'ipywidgets',\n",
        "            'catboost', \n",
        "            'category-encoders',\n",
        "            'pandas', \n",
        "            'numpy', \n",
        "            'seaborn', \n",
        "            'sklearn',\n",
        "            'matplotlib',\n",
        "            'pymatgen',\n",
        "            'pprint')\n",
        "for package in packages:\n",
        "    try:\n",
        "        __import__(package)\n",
        "    except ImportError:\n",
        "        main(['install', package.split()[0]])\n",
        "\n",
        "\n",
        "\n",
        "import seaborn as sns\n",
        "import pandas as pd \n",
        "import numpy as np\n",
        "from matplotlib import pyplot as plt\n",
        "from pymatgen.ext.matproj import MPRester\n",
        "from pprint import pprint\n",
        "MP_API_KEY = \"lnFh1UTkg0QO8WxK\" #ключ доступа \n",
        "m = MPRester(MP_API_KEY)\n",
        "from pymatgen.core.periodic_table import Element\n",
        "from pymatgen.core.composition import Composition\n",
        "from pymatgen.core.structure import Structure, IStructure, Molecule, IMolecule\n",
        "from pymatgen.core.lattice import Lattice\n",
        "from pymatgen.core.ion import Ion\n",
        "from pymatgen.ext.matproj import MPRester\n",
        "from monty.json import MontyEncoder, MontyDecoder, MSONable\n",
        "\n",
        "\n",
        "db1=pd.read_excel('https://github.com/AnastasiyaKrokhina/DataCon-time-1/blob/main/data/Database_1.xlsx?raw=true') \n",
        "db4=pd.read_excel('https://github.com/AnastasiyaKrokhina/DataCon-time-1/blob/main/data/Database_4.xlsx?raw=true')\n",
        "db5=pd.read_excel('https://github.com/AnastasiyaKrokhina/DataCon-time-1/blob/main/data/Database_5.xlsx?raw=true')"
      ],
      "metadata": {
        "colab": {
          "base_uri": "https://localhost:8080/"
        },
        "id": "_V8iXpDlxSLD",
        "outputId": "da5c38dc-5f6f-4245-aced-3bf5b71ec57d"
      },
      "execution_count": 5,
      "outputs": [
        {
          "output_type": "stream",
          "name": "stderr",
          "text": [
            "WARNING: pip is being invoked by an old script wrapper. This will fail in a future version of pip.\n",
            "Please see https://github.com/pypa/pip/issues/5599 for advice on fixing the underlying issue.\n",
            "To avoid this problem you can invoke Python with '-m pip' instead of running pip directly.\n"
          ]
        },
        {
          "output_type": "stream",
          "name": "stdout",
          "text": [
            "Looking in indexes: https://pypi.org/simple, https://us-python.pkg.dev/colab-wheels/public/simple/\n",
            "Collecting category-encoders\n",
            "  Using cached category_encoders-2.5.0-py2.py3-none-any.whl (69 kB)\n",
            "Requirement already satisfied: scikit-learn>=0.20.0 in /usr/local/lib/python3.7/dist-packages (from category-encoders) (1.0.2)\n",
            "Requirement already satisfied: pandas>=1.0.5 in /usr/local/lib/python3.7/dist-packages (from category-encoders) (1.3.5)\n",
            "Requirement already satisfied: statsmodels>=0.9.0 in /usr/local/lib/python3.7/dist-packages (from category-encoders) (0.10.2)\n",
            "Requirement already satisfied: scipy>=1.0.0 in /usr/local/lib/python3.7/dist-packages (from category-encoders) (1.7.3)\n",
            "Requirement already satisfied: numpy>=1.14.0 in /usr/local/lib/python3.7/dist-packages (from category-encoders) (1.21.6)\n",
            "Requirement already satisfied: patsy>=0.5.1 in /usr/local/lib/python3.7/dist-packages (from category-encoders) (0.5.2)\n",
            "Requirement already satisfied: python-dateutil>=2.7.3 in /usr/local/lib/python3.7/dist-packages (from pandas>=1.0.5->category-encoders) (2.8.2)\n",
            "Requirement already satisfied: pytz>=2017.3 in /usr/local/lib/python3.7/dist-packages (from pandas>=1.0.5->category-encoders) (2022.1)\n",
            "Requirement already satisfied: six in /usr/local/lib/python3.7/dist-packages (from patsy>=0.5.1->category-encoders) (1.15.0)\n",
            "Requirement already satisfied: threadpoolctl>=2.0.0 in /usr/local/lib/python3.7/dist-packages (from scikit-learn>=0.20.0->category-encoders) (3.1.0)\n",
            "Requirement already satisfied: joblib>=0.11 in /usr/local/lib/python3.7/dist-packages (from scikit-learn>=0.20.0->category-encoders) (1.1.0)\n",
            "Installing collected packages: category-encoders\n",
            "Successfully installed category-encoders-2.5.0\n"
          ]
        }
      ]
    },
    {
      "cell_type": "code",
      "source": [
        "#db1.columns.values"
      ],
      "metadata": {
        "id": "oxitwcHhXfTd"
      },
      "execution_count": 2,
      "outputs": []
    },
    {
      "cell_type": "code",
      "source": [
        "# # смотрю в каком диапазоне находятся значения\n",
        "# # значения одинаковые, значит считаю что у данных одна размерность\n",
        "# db1['Exposure dose (ug/mL)'].describe() \n",
        "# db5['dose'].describe()"
      ],
      "metadata": {
        "id": "XGt58D2SfhMN"
      },
      "execution_count": 3,
      "outputs": []
    },
    {
      "cell_type": "code",
      "source": [
        "# переиминовываю дф5 чтобы соеденить с 1 и 4\n",
        "db5.rename({\n",
        "    'material': 'Material type',\n",
        "    'hydro_size': 'Hydro size (nm)',\n",
        "    'core_size': 'Core size (nm)',\n",
        "    'surf_charge': 'Surface charge (mV)',\n",
        "    'surf_area': 'Surface area (m2/g)',\n",
        "    'dose': 'Exposure dose (ug/mL)', # посмотрела на средние значения для дф1 и подумала, что скорее всего еденицы измерения одинаковые\n",
        "    'viability': 'Viability (%)',\n",
        "    'cell_type': 'Cell type'\n",
        "}, inplace=True, axis=1)"
      ],
      "metadata": {
        "id": "-NuV8Lvucch9"
      },
      "execution_count": 6,
      "outputs": []
    },
    {
      "cell_type": "code",
      "source": [
        "# объедениние баз данных\n",
        "db1_4 = db1.append(db4, ignore_index=True)\n",
        "db1_4_5 = db1_4.append(db5, ignore_index=True)\n",
        "# db1_4_5"
      ],
      "metadata": {
        "id": "o3cFZaUfYaS_"
      },
      "execution_count": 7,
      "outputs": []
    },
    {
      "cell_type": "code",
      "source": [
        "\n",
        "db1_4_5.loc[(db1_4_5['Material type'] == \"don't remember\"), ('Material type')] = ('ZnO')\n",
        "\n",
        "db1_4_5.loc[(db1_4_5['Elements'] == \"Al\"), ('Material type')] = ('Al2O3')\n",
        "db1_4_5.loc[(db1_4_5['Elements'] == \"Zn\"), ('Material type')] = ('ZnO')\n",
        "\n",
        "# смотрю сколько всего уникальных решеток \n",
        "# видно, что разнообразие небольшое, как и разнообразие материалов\n",
        "\n",
        "lattice = db1_4_5[['Material type', \n",
        "                   #'Elements', # наводка Лины, посмотрела какие элементы у пропусков, заменила наны на элемент оксида\n",
        "                     'Topological polar surface area (Å²)', \n",
        "                     'a (Å)', 'b (Å)', 'c (Å)', 'α (°)', 'β (°)', 'γ (°)', 'Density (g/cm3)']].drop_duplicates(keep='first')\n",
        "lattice.dropna(inplace=True)\n",
        "# lattice\n"
      ],
      "metadata": {
        "id": "GuYTSThKgJfm"
      },
      "execution_count": 8,
      "outputs": []
    },
    {
      "cell_type": "code",
      "source": [
        "\n",
        "\n",
        "for i in lattice.values.tolist():\n",
        "  # print(i[0])\n",
        "  # print(lattice2.values.tolist()[1:])\n",
        "  db1_4_5.loc[(db1_4_5['Material type'] == i[0]), ('Topological polar surface area (Å²)', 'a (Å)', 'b (Å)', 'c (Å)', 'α (°)', 'β (°)', 'γ (°)', 'Density (g/cm3)')] = (i[1:])\n",
        "\n",
        "# WebCSD https://doi.org/10.1021/acsami.8b05128\n",
        "# https://www.ccdc.cam.ac.uk/structures/Search?Compound=TiO2&DatabaseToSearch=Published\n",
        "# https://materialsproject.org/materials/mp-2657/\n",
        "db1_4_5.loc[(db1_4_5['Material type'] == 'TiO2'), ('Topological polar surface area (Å²)', \n",
        "                                                   'a (Å)', 'b (Å)', 'c (Å)', 'α (°)', 'β (°)', 'γ (°)', 'Density (g/cm3)')] = (34.1, 4.664,\t4.664,\t2.966,\t90,\t90,\t90, 4.13)\n",
        "\n",
        "# https://materialsproject.org/materials/mp-19306/\n",
        "db1_4_5.loc[(db1_4_5['Material type'] == 'Fe3O4'), ('Topological polar surface area (Å²)', \n",
        "                                                    'a (Å)', 'b (Å)', 'c (Å)', 'α (°)', 'β (°)', 'γ (°)', 'Density (g/cm3)')] = (60.4, 8.244,\t8.244,\t8.244,\t90,\t90,\t90, 4.95)\n",
        "\n",
        "# https://materialsproject.org/materials/mp-6930/\n",
        "\n",
        "db1_4_5.loc[(db1_4_5['Material type'] == 'SiO2'), ('Topological polar surface area (Å²)', \n",
        "                                                   'a (Å)', 'b (Å)', 'c (Å)', 'α (°)', 'β (°)', 'γ (°)', 'Density (g/cm3)')] = (34.1, 5.028,\t5.028,\t5.519,\t90,\t90,\t120, 2.48)\n",
        "# все остальные тоже с матириалспроджект\n",
        "db1_4_5.loc[(db1_4_5['Material type'] == 'CuO'), ('Topological polar surface area (Å²)', \n",
        "                                                   'a (Å)', 'b (Å)', 'c (Å)', 'α (°)', 'β (°)', 'γ (°)', 'Density (g/cm3)')] = (17.1, 2.993,\t2.993,\t2.993,\t60,\t60,\t60, 6.97)\n",
        "\n",
        "db1_4_5.loc[(db1_4_5['Material type'] == 'ZnO'), ('Topological polar surface area (Å²)', \n",
        "                                                   'a (Å)', 'b (Å)', 'c (Å)', 'α (°)', 'β (°)', 'γ (°)', 'Density (g/cm3)')] = (17.1, 3.289,\t3.289,\t5.307,\t90,\t90,\t120, 5.44)\n",
        "\n",
        "db1_4_5.loc[(db1_4_5['Material type'] == 'Fe2O3'), ('Topological polar surface area (Å²)', \n",
        "                                                   'a (Å)', 'b (Å)', 'c (Å)', 'α (°)', 'β (°)', 'γ (°)', 'Density (g/cm3)')] = (43.4, 8.276,\t8.276,\t8.276,\t109,\t109,\t109, 4.86)\n",
        "\n",
        "db1_4_5.loc[(db1_4_5['Material type'] == 'In2O3'), ('a (Å)')] = (10.118)\n",
        "\n",
        "db1_4_5.loc[(db1_4_5['Material type'] == 'Al2O3'), ('Topological polar surface area (Å²)', \n",
        "                                                   'a (Å)', 'b (Å)', 'c (Å)', 'α (°)', 'β (°)', 'γ (°)', 'Density (g/cm3)')] = (43.4, 5.178,\t5.178,\t5.178,\t55,\t55,\t55, 3.87)\n"
      ],
      "metadata": {
        "id": "18vN-0M7gQSA"
      },
      "execution_count": 9,
      "outputs": []
    },
    {
      "cell_type": "code",
      "source": [
        "# db1_4_5.isna().sum()"
      ],
      "metadata": {
        "id": "WlXOnXRqhyCg"
      },
      "execution_count": 10,
      "outputs": []
    },
    {
      "cell_type": "code",
      "source": [
        "# cell = db1_4_5[['cell_line', \n",
        "#                      'Cell type']].drop_duplicates(keep='first')  \n",
        "# #lattice2.dropna(inplace=True)\n",
        "# cell"
      ],
      "metadata": {
        "id": "87VWaNiWh3Pi"
      },
      "execution_count": null,
      "outputs": []
    },
    {
      "cell_type": "code",
      "source": [
        "# db1_4_5['Material type'].unique()"
      ],
      "metadata": {
        "id": "-aOxRfWz0GTK"
      },
      "execution_count": null,
      "outputs": []
    },
    {
      "cell_type": "code",
      "source": [
        "num_atoms = []  \n",
        "mol_weight = []  #расчет новых дескрипторов\n",
        "electroneg = []\n",
        "compositions = []\n",
        "element_composition = []\n",
        "anon_formula = []\n",
        "for column in db1_4_5['Material type']:\n",
        "  composition = (Composition(column))\n",
        "  electroneg.append(composition.average_electroneg)\n",
        "\n",
        "  mol_weight.append(composition.weight)\n",
        "  num_atoms.append(composition.num_atoms)\n",
        "  element_composition.append(composition.get_el_amt_dict())\n",
        "  anon_formula.append(composition.anonymized_formula)\n",
        "  \n"
      ],
      "metadata": {
        "id": "_o7mGsaJ0JDT"
      },
      "execution_count": 11,
      "outputs": []
    },
    {
      "cell_type": "code",
      "source": [
        "\n",
        "for cols in ['Number of atoms', 'Electronegativity', 'Molecular weight (g/mol)']:  #мол вес добавляется дальше, ЭО элемента заменяем на среднюю ЭО вещ-ва, кол-ва атом добавим следом, элементы больше не нужны\n",
        "  db1_4_5.pop(cols)"
      ],
      "metadata": {
        "id": "WhzPnfqPifLE"
      },
      "execution_count": 12,
      "outputs": []
    },
    {
      "cell_type": "code",
      "source": [
        "db1_4_5['average electronegativity'] = electroneg  #новые дескрипторы -  - в дб1 изначально указана ЭО только для металла, здесь считается средняя ЭО всего вещ-ва\n",
        "\n",
        "\n",
        "db1_4_5['Molecular weight (g/mol)'] = mol_weight\n",
        "db1_4_5['Number of atoms'] = num_atoms"
      ],
      "metadata": {
        "id": "Ypzgh-1sii57"
      },
      "execution_count": 13,
      "outputs": []
    },
    {
      "cell_type": "code",
      "source": [
        "# db1_4_5.isna().sum()"
      ],
      "metadata": {
        "id": "6Rm5L3c06YJd"
      },
      "execution_count": null,
      "outputs": []
    },
    {
      "cell_type": "code",
      "source": [
        "# db1_4_5.to_csv('db1_4_5_new.csv', header=True) # сохраняем в рабочую папку"
      ],
      "metadata": {
        "id": "QOh6bNch4FfZ"
      },
      "execution_count": null,
      "outputs": []
    },
    {
      "cell_type": "code",
      "source": [
        ""
      ],
      "metadata": {
        "id": "1MbM9wbWC1S3"
      },
      "execution_count": null,
      "outputs": []
    }
  ]
}
