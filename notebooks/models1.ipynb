{
  "nbformat": 4,
  "nbformat_minor": 0,
  "metadata": {
    "colab": {
      "name": "models1.ipynb",
      "provenance": [],
      "authorship_tag": "ABX9TyNssEzobDFjyybd8MRh99F6",
      "include_colab_link": true
    },
    "kernelspec": {
      "name": "python3",
      "display_name": "Python 3"
    },
    "language_info": {
      "name": "python"
    }
  },
  "cells": [
    {
      "cell_type": "markdown",
      "metadata": {
        "id": "view-in-github",
        "colab_type": "text"
      },
      "source": [
        "<a href=\"https://colab.research.google.com/github/AnastasiyaKrokhina/DataCon-time-1/blob/main/notebooks/models1.ipynb\" target=\"_parent\"><img src=\"https://colab.research.google.com/assets/colab-badge.svg\" alt=\"Open In Colab\"/></a>"
      ]
    },
    {
      "cell_type": "code",
      "execution_count": 4,
      "metadata": {
        "id": "_2yvBBfa9nZH"
      },
      "outputs": [],
      "source": [
        "import pandas as pd\n",
        "import numpy as np\n",
        "from sklearn.model_selection import train_test_split\n",
        "from sklearn import datasets\n",
        "\n",
        "import seaborn as sns\n",
        "import matplotlib.pyplot as plt"
      ]
    },
    {
      "cell_type": "code",
      "source": [
        "url = 'https://github.com/AnastasiyaKrokhina/DataCon-time-1/blob/main/data/final.csv?raw=true'\n",
        "df = pd.read_csv(url, delimiter = ',', index_col=0)"
      ],
      "metadata": {
        "id": "JxzR2tAx-brU"
      },
      "execution_count": 5,
      "outputs": []
    },
    {
      "cell_type": "code",
      "source": [
        "df"
      ],
      "metadata": {
        "colab": {
          "base_uri": "https://localhost:8080/",
          "height": 503
        },
        "id": "r9PqYzSReXeS",
        "outputId": "85e3ec23-bab4-460a-cf09-bde85aaa6eb9"
      },
      "execution_count": 23,
      "outputs": [
        {
          "output_type": "execute_result",
          "data": {
            "text/plain": [
              "      Surface charge (mV)  Density (g/cm3)  charge density  Type  Coat  \\\n",
              "0                0.106852        -0.010261       -0.093064   1.0   0.0   \n",
              "1                0.106852        -0.010261       -0.093064   1.0   0.0   \n",
              "2                0.106852        -0.010261       -0.093064   1.0   0.0   \n",
              "3                0.106852        -0.010261       -0.093064   1.0   0.0   \n",
              "4                0.106852        -0.010261       -0.093064   1.0   0.0   \n",
              "...                   ...              ...             ...   ...   ...   \n",
              "7433            -1.556342         0.668444       -2.076602   1.0   1.0   \n",
              "7434            -1.556342         0.668444       -2.076602   1.0   1.0   \n",
              "7435            -1.556342         0.668444       -2.076602   1.0   1.0   \n",
              "7436            -1.556342         0.668444       -2.076602   1.0   1.0   \n",
              "7437            -1.556342         0.668444       -2.076602   1.0   1.0   \n",
              "\n",
              "      Diameter (nm)  cell_line  Viability (%)  Hydro size (nm)  Aspect_Ratio  \\\n",
              "0          0.019778        0.0       0.536858         0.141734      0.010124   \n",
              "1          0.019778        0.0       0.523827         0.141734      0.010124   \n",
              "2          0.019778        0.0       0.533137         0.141734      0.010124   \n",
              "3          0.019778        0.0       0.508932         0.141734      0.010124   \n",
              "4          0.019778        0.0       0.495894         0.141734      0.010124   \n",
              "...             ...        ...            ...              ...           ...   \n",
              "7433       0.086234        1.0       0.647937         0.128033      0.010124   \n",
              "7434       0.086234        1.0       0.591698         0.128033      0.010124   \n",
              "7435       0.086234        1.0       0.207848         0.128033      0.010124   \n",
              "7436       0.086234        1.0       0.441614         0.128033      0.010124   \n",
              "7437       0.086234        1.0       0.429417         0.128033      0.010124   \n",
              "\n",
              "      Ionic radius  Core size (nm)  Surface area (m2/g)  \\\n",
              "0         0.007580        0.377779             0.125463   \n",
              "1         0.007580        0.377779             0.125463   \n",
              "2         0.007580        0.377779             0.125463   \n",
              "3         0.007580        0.377779             0.125463   \n",
              "4         0.007580        0.377779             0.125463   \n",
              "...            ...             ...                  ...   \n",
              "7433      0.005637        0.315622             0.033017   \n",
              "7434      0.005637        0.315622             0.033017   \n",
              "7435      0.005637        0.315622             0.033017   \n",
              "7436      0.005637        0.315622             0.033017   \n",
              "7437      0.005637        0.315622             0.033017   \n",
              "\n",
              "      Topological polar surface area (Å²)  average electronegativity  \\\n",
              "0                                0.328442                    0.81250   \n",
              "1                                0.328442                    0.81250   \n",
              "2                                0.328442                    0.81250   \n",
              "3                                0.328442                    0.81250   \n",
              "4                                0.328442                    0.81250   \n",
              "...                                   ...                        ...   \n",
              "7433                             0.000000                    0.72476   \n",
              "7434                             0.000000                    0.72476   \n",
              "7435                             0.000000                    0.72476   \n",
              "7436                             0.000000                    0.72476   \n",
              "7437                             0.000000                    0.72476   \n",
              "\n",
              "      electron_affinity     dose_time  if_oxide  \n",
              "0              0.426598  1.970944e-09       1.0  \n",
              "1              0.426598  4.032869e-09       1.0  \n",
              "2              0.426598  8.065783e-09       1.0  \n",
              "3              0.426598  1.613161e-08       1.0  \n",
              "4              0.426598  6.258963e-08       1.0  \n",
              "...                 ...           ...       ...  \n",
              "7433           0.033018  2.000000e-05       1.0  \n",
              "7434           0.033018  2.000000e-04       1.0  \n",
              "7435           0.033018  2.000000e-03       1.0  \n",
              "7436           0.033018  1.000000e-06       1.0  \n",
              "7437           0.033018  1.000000e-05       1.0  \n",
              "\n",
              "[7438 rows x 18 columns]"
            ],
            "text/html": [
              "\n",
              "  <div id=\"df-0ef62826-502a-42a4-b50f-d7f3b77b4248\">\n",
              "    <div class=\"colab-df-container\">\n",
              "      <div>\n",
              "<style scoped>\n",
              "    .dataframe tbody tr th:only-of-type {\n",
              "        vertical-align: middle;\n",
              "    }\n",
              "\n",
              "    .dataframe tbody tr th {\n",
              "        vertical-align: top;\n",
              "    }\n",
              "\n",
              "    .dataframe thead th {\n",
              "        text-align: right;\n",
              "    }\n",
              "</style>\n",
              "<table border=\"1\" class=\"dataframe\">\n",
              "  <thead>\n",
              "    <tr style=\"text-align: right;\">\n",
              "      <th></th>\n",
              "      <th>Surface charge (mV)</th>\n",
              "      <th>Density (g/cm3)</th>\n",
              "      <th>charge density</th>\n",
              "      <th>Type</th>\n",
              "      <th>Coat</th>\n",
              "      <th>Diameter (nm)</th>\n",
              "      <th>cell_line</th>\n",
              "      <th>Viability (%)</th>\n",
              "      <th>Hydro size (nm)</th>\n",
              "      <th>Aspect_Ratio</th>\n",
              "      <th>Ionic radius</th>\n",
              "      <th>Core size (nm)</th>\n",
              "      <th>Surface area (m2/g)</th>\n",
              "      <th>Topological polar surface area (Å²)</th>\n",
              "      <th>average electronegativity</th>\n",
              "      <th>electron_affinity</th>\n",
              "      <th>dose_time</th>\n",
              "      <th>if_oxide</th>\n",
              "    </tr>\n",
              "  </thead>\n",
              "  <tbody>\n",
              "    <tr>\n",
              "      <th>0</th>\n",
              "      <td>0.106852</td>\n",
              "      <td>-0.010261</td>\n",
              "      <td>-0.093064</td>\n",
              "      <td>1.0</td>\n",
              "      <td>0.0</td>\n",
              "      <td>0.019778</td>\n",
              "      <td>0.0</td>\n",
              "      <td>0.536858</td>\n",
              "      <td>0.141734</td>\n",
              "      <td>0.010124</td>\n",
              "      <td>0.007580</td>\n",
              "      <td>0.377779</td>\n",
              "      <td>0.125463</td>\n",
              "      <td>0.328442</td>\n",
              "      <td>0.81250</td>\n",
              "      <td>0.426598</td>\n",
              "      <td>1.970944e-09</td>\n",
              "      <td>1.0</td>\n",
              "    </tr>\n",
              "    <tr>\n",
              "      <th>1</th>\n",
              "      <td>0.106852</td>\n",
              "      <td>-0.010261</td>\n",
              "      <td>-0.093064</td>\n",
              "      <td>1.0</td>\n",
              "      <td>0.0</td>\n",
              "      <td>0.019778</td>\n",
              "      <td>0.0</td>\n",
              "      <td>0.523827</td>\n",
              "      <td>0.141734</td>\n",
              "      <td>0.010124</td>\n",
              "      <td>0.007580</td>\n",
              "      <td>0.377779</td>\n",
              "      <td>0.125463</td>\n",
              "      <td>0.328442</td>\n",
              "      <td>0.81250</td>\n",
              "      <td>0.426598</td>\n",
              "      <td>4.032869e-09</td>\n",
              "      <td>1.0</td>\n",
              "    </tr>\n",
              "    <tr>\n",
              "      <th>2</th>\n",
              "      <td>0.106852</td>\n",
              "      <td>-0.010261</td>\n",
              "      <td>-0.093064</td>\n",
              "      <td>1.0</td>\n",
              "      <td>0.0</td>\n",
              "      <td>0.019778</td>\n",
              "      <td>0.0</td>\n",
              "      <td>0.533137</td>\n",
              "      <td>0.141734</td>\n",
              "      <td>0.010124</td>\n",
              "      <td>0.007580</td>\n",
              "      <td>0.377779</td>\n",
              "      <td>0.125463</td>\n",
              "      <td>0.328442</td>\n",
              "      <td>0.81250</td>\n",
              "      <td>0.426598</td>\n",
              "      <td>8.065783e-09</td>\n",
              "      <td>1.0</td>\n",
              "    </tr>\n",
              "    <tr>\n",
              "      <th>3</th>\n",
              "      <td>0.106852</td>\n",
              "      <td>-0.010261</td>\n",
              "      <td>-0.093064</td>\n",
              "      <td>1.0</td>\n",
              "      <td>0.0</td>\n",
              "      <td>0.019778</td>\n",
              "      <td>0.0</td>\n",
              "      <td>0.508932</td>\n",
              "      <td>0.141734</td>\n",
              "      <td>0.010124</td>\n",
              "      <td>0.007580</td>\n",
              "      <td>0.377779</td>\n",
              "      <td>0.125463</td>\n",
              "      <td>0.328442</td>\n",
              "      <td>0.81250</td>\n",
              "      <td>0.426598</td>\n",
              "      <td>1.613161e-08</td>\n",
              "      <td>1.0</td>\n",
              "    </tr>\n",
              "    <tr>\n",
              "      <th>4</th>\n",
              "      <td>0.106852</td>\n",
              "      <td>-0.010261</td>\n",
              "      <td>-0.093064</td>\n",
              "      <td>1.0</td>\n",
              "      <td>0.0</td>\n",
              "      <td>0.019778</td>\n",
              "      <td>0.0</td>\n",
              "      <td>0.495894</td>\n",
              "      <td>0.141734</td>\n",
              "      <td>0.010124</td>\n",
              "      <td>0.007580</td>\n",
              "      <td>0.377779</td>\n",
              "      <td>0.125463</td>\n",
              "      <td>0.328442</td>\n",
              "      <td>0.81250</td>\n",
              "      <td>0.426598</td>\n",
              "      <td>6.258963e-08</td>\n",
              "      <td>1.0</td>\n",
              "    </tr>\n",
              "    <tr>\n",
              "      <th>...</th>\n",
              "      <td>...</td>\n",
              "      <td>...</td>\n",
              "      <td>...</td>\n",
              "      <td>...</td>\n",
              "      <td>...</td>\n",
              "      <td>...</td>\n",
              "      <td>...</td>\n",
              "      <td>...</td>\n",
              "      <td>...</td>\n",
              "      <td>...</td>\n",
              "      <td>...</td>\n",
              "      <td>...</td>\n",
              "      <td>...</td>\n",
              "      <td>...</td>\n",
              "      <td>...</td>\n",
              "      <td>...</td>\n",
              "      <td>...</td>\n",
              "      <td>...</td>\n",
              "    </tr>\n",
              "    <tr>\n",
              "      <th>7433</th>\n",
              "      <td>-1.556342</td>\n",
              "      <td>0.668444</td>\n",
              "      <td>-2.076602</td>\n",
              "      <td>1.0</td>\n",
              "      <td>1.0</td>\n",
              "      <td>0.086234</td>\n",
              "      <td>1.0</td>\n",
              "      <td>0.647937</td>\n",
              "      <td>0.128033</td>\n",
              "      <td>0.010124</td>\n",
              "      <td>0.005637</td>\n",
              "      <td>0.315622</td>\n",
              "      <td>0.033017</td>\n",
              "      <td>0.000000</td>\n",
              "      <td>0.72476</td>\n",
              "      <td>0.033018</td>\n",
              "      <td>2.000000e-05</td>\n",
              "      <td>1.0</td>\n",
              "    </tr>\n",
              "    <tr>\n",
              "      <th>7434</th>\n",
              "      <td>-1.556342</td>\n",
              "      <td>0.668444</td>\n",
              "      <td>-2.076602</td>\n",
              "      <td>1.0</td>\n",
              "      <td>1.0</td>\n",
              "      <td>0.086234</td>\n",
              "      <td>1.0</td>\n",
              "      <td>0.591698</td>\n",
              "      <td>0.128033</td>\n",
              "      <td>0.010124</td>\n",
              "      <td>0.005637</td>\n",
              "      <td>0.315622</td>\n",
              "      <td>0.033017</td>\n",
              "      <td>0.000000</td>\n",
              "      <td>0.72476</td>\n",
              "      <td>0.033018</td>\n",
              "      <td>2.000000e-04</td>\n",
              "      <td>1.0</td>\n",
              "    </tr>\n",
              "    <tr>\n",
              "      <th>7435</th>\n",
              "      <td>-1.556342</td>\n",
              "      <td>0.668444</td>\n",
              "      <td>-2.076602</td>\n",
              "      <td>1.0</td>\n",
              "      <td>1.0</td>\n",
              "      <td>0.086234</td>\n",
              "      <td>1.0</td>\n",
              "      <td>0.207848</td>\n",
              "      <td>0.128033</td>\n",
              "      <td>0.010124</td>\n",
              "      <td>0.005637</td>\n",
              "      <td>0.315622</td>\n",
              "      <td>0.033017</td>\n",
              "      <td>0.000000</td>\n",
              "      <td>0.72476</td>\n",
              "      <td>0.033018</td>\n",
              "      <td>2.000000e-03</td>\n",
              "      <td>1.0</td>\n",
              "    </tr>\n",
              "    <tr>\n",
              "      <th>7436</th>\n",
              "      <td>-1.556342</td>\n",
              "      <td>0.668444</td>\n",
              "      <td>-2.076602</td>\n",
              "      <td>1.0</td>\n",
              "      <td>1.0</td>\n",
              "      <td>0.086234</td>\n",
              "      <td>1.0</td>\n",
              "      <td>0.441614</td>\n",
              "      <td>0.128033</td>\n",
              "      <td>0.010124</td>\n",
              "      <td>0.005637</td>\n",
              "      <td>0.315622</td>\n",
              "      <td>0.033017</td>\n",
              "      <td>0.000000</td>\n",
              "      <td>0.72476</td>\n",
              "      <td>0.033018</td>\n",
              "      <td>1.000000e-06</td>\n",
              "      <td>1.0</td>\n",
              "    </tr>\n",
              "    <tr>\n",
              "      <th>7437</th>\n",
              "      <td>-1.556342</td>\n",
              "      <td>0.668444</td>\n",
              "      <td>-2.076602</td>\n",
              "      <td>1.0</td>\n",
              "      <td>1.0</td>\n",
              "      <td>0.086234</td>\n",
              "      <td>1.0</td>\n",
              "      <td>0.429417</td>\n",
              "      <td>0.128033</td>\n",
              "      <td>0.010124</td>\n",
              "      <td>0.005637</td>\n",
              "      <td>0.315622</td>\n",
              "      <td>0.033017</td>\n",
              "      <td>0.000000</td>\n",
              "      <td>0.72476</td>\n",
              "      <td>0.033018</td>\n",
              "      <td>1.000000e-05</td>\n",
              "      <td>1.0</td>\n",
              "    </tr>\n",
              "  </tbody>\n",
              "</table>\n",
              "<p>7438 rows × 18 columns</p>\n",
              "</div>\n",
              "      <button class=\"colab-df-convert\" onclick=\"convertToInteractive('df-0ef62826-502a-42a4-b50f-d7f3b77b4248')\"\n",
              "              title=\"Convert this dataframe to an interactive table.\"\n",
              "              style=\"display:none;\">\n",
              "        \n",
              "  <svg xmlns=\"http://www.w3.org/2000/svg\" height=\"24px\"viewBox=\"0 0 24 24\"\n",
              "       width=\"24px\">\n",
              "    <path d=\"M0 0h24v24H0V0z\" fill=\"none\"/>\n",
              "    <path d=\"M18.56 5.44l.94 2.06.94-2.06 2.06-.94-2.06-.94-.94-2.06-.94 2.06-2.06.94zm-11 1L8.5 8.5l.94-2.06 2.06-.94-2.06-.94L8.5 2.5l-.94 2.06-2.06.94zm10 10l.94 2.06.94-2.06 2.06-.94-2.06-.94-.94-2.06-.94 2.06-2.06.94z\"/><path d=\"M17.41 7.96l-1.37-1.37c-.4-.4-.92-.59-1.43-.59-.52 0-1.04.2-1.43.59L10.3 9.45l-7.72 7.72c-.78.78-.78 2.05 0 2.83L4 21.41c.39.39.9.59 1.41.59.51 0 1.02-.2 1.41-.59l7.78-7.78 2.81-2.81c.8-.78.8-2.07 0-2.86zM5.41 20L4 18.59l7.72-7.72 1.47 1.35L5.41 20z\"/>\n",
              "  </svg>\n",
              "      </button>\n",
              "      \n",
              "  <style>\n",
              "    .colab-df-container {\n",
              "      display:flex;\n",
              "      flex-wrap:wrap;\n",
              "      gap: 12px;\n",
              "    }\n",
              "\n",
              "    .colab-df-convert {\n",
              "      background-color: #E8F0FE;\n",
              "      border: none;\n",
              "      border-radius: 50%;\n",
              "      cursor: pointer;\n",
              "      display: none;\n",
              "      fill: #1967D2;\n",
              "      height: 32px;\n",
              "      padding: 0 0 0 0;\n",
              "      width: 32px;\n",
              "    }\n",
              "\n",
              "    .colab-df-convert:hover {\n",
              "      background-color: #E2EBFA;\n",
              "      box-shadow: 0px 1px 2px rgba(60, 64, 67, 0.3), 0px 1px 3px 1px rgba(60, 64, 67, 0.15);\n",
              "      fill: #174EA6;\n",
              "    }\n",
              "\n",
              "    [theme=dark] .colab-df-convert {\n",
              "      background-color: #3B4455;\n",
              "      fill: #D2E3FC;\n",
              "    }\n",
              "\n",
              "    [theme=dark] .colab-df-convert:hover {\n",
              "      background-color: #434B5C;\n",
              "      box-shadow: 0px 1px 3px 1px rgba(0, 0, 0, 0.15);\n",
              "      filter: drop-shadow(0px 1px 2px rgba(0, 0, 0, 0.3));\n",
              "      fill: #FFFFFF;\n",
              "    }\n",
              "  </style>\n",
              "\n",
              "      <script>\n",
              "        const buttonEl =\n",
              "          document.querySelector('#df-0ef62826-502a-42a4-b50f-d7f3b77b4248 button.colab-df-convert');\n",
              "        buttonEl.style.display =\n",
              "          google.colab.kernel.accessAllowed ? 'block' : 'none';\n",
              "\n",
              "        async function convertToInteractive(key) {\n",
              "          const element = document.querySelector('#df-0ef62826-502a-42a4-b50f-d7f3b77b4248');\n",
              "          const dataTable =\n",
              "            await google.colab.kernel.invokeFunction('convertToInteractive',\n",
              "                                                     [key], {});\n",
              "          if (!dataTable) return;\n",
              "\n",
              "          const docLinkHtml = 'Like what you see? Visit the ' +\n",
              "            '<a target=\"_blank\" href=https://colab.research.google.com/notebooks/data_table.ipynb>data table notebook</a>'\n",
              "            + ' to learn more about interactive tables.';\n",
              "          element.innerHTML = '';\n",
              "          dataTable['output_type'] = 'display_data';\n",
              "          await google.colab.output.renderOutput(dataTable, element);\n",
              "          const docLink = document.createElement('div');\n",
              "          docLink.innerHTML = docLinkHtml;\n",
              "          element.appendChild(docLink);\n",
              "        }\n",
              "      </script>\n",
              "    </div>\n",
              "  </div>\n",
              "  "
            ]
          },
          "metadata": {},
          "execution_count": 23
        }
      ]
    },
    {
      "cell_type": "code",
      "source": [
        "X = df.drop('Viability (%)', axis=1, inplace=False)\n",
        "y = df['Viability (%)']"
      ],
      "metadata": {
        "id": "wG7uplow-Pvx"
      },
      "execution_count": 6,
      "outputs": []
    },
    {
      "cell_type": "code",
      "source": [
        "X_train, X_test, y_train, y_test = train_test_split(X, y, test_size=0.1, random_state=4)"
      ],
      "metadata": {
        "id": "Mtt8lecb9xnF"
      },
      "execution_count": 7,
      "outputs": []
    },
    {
      "cell_type": "code",
      "source": [
        "from sklearn import svm\n",
        "\n",
        "from sklearn.ensemble import RandomForestRegressor\n",
        "from sklearn.datasets import make_regression\n",
        "\n",
        "\n",
        "X_train, y_train = make_regression(n_features=17, n_informative=2, random_state=0, shuffle=False)\n",
        "regr = RandomForestRegressor()\n",
        "model = regr.fit(X_train, y_train)\n",
        "#RandomForestRegressor(...)\n",
        "model"
      ],
      "metadata": {
        "colab": {
          "base_uri": "https://localhost:8080/"
        },
        "id": "lZLRgbZbDLec",
        "outputId": "7706865f-fd76-4762-f24a-c15d8233f8e2"
      },
      "execution_count": 5,
      "outputs": [
        {
          "output_type": "execute_result",
          "data": {
            "text/plain": [
              "RandomForestRegressor()"
            ]
          },
          "metadata": {},
          "execution_count": 5
        }
      ]
    },
    {
      "cell_type": "code",
      "source": [
        "from sklearn.model_selection import cross_val_score\n",
        "scores = cross_val_score(model, X, y, cv=10)\n",
        "scores"
      ],
      "metadata": {
        "colab": {
          "base_uri": "https://localhost:8080/"
        },
        "id": "-jj2QND_NoV2",
        "outputId": "9ec5e2ad-5625-4bec-d580-4ac61d5dcd68"
      },
      "execution_count": 6,
      "outputs": [
        {
          "output_type": "execute_result",
          "data": {
            "text/plain": [
              "array([-0.30998307,  0.10499992,  0.04574786, -0.03796871,  0.06208965,\n",
              "        0.14742794,  0.32717372,  0.4168631 ,  0.75524881,  0.5022379 ])"
            ]
          },
          "metadata": {},
          "execution_count": 6
        }
      ]
    },
    {
      "cell_type": "code",
      "source": [
        "scor = model.score(X_test, y_test)\n",
        "print(f'Score for Random Fores Regressor: {scor}')\n",
        "# print(regr.predict(X_test))"
      ],
      "metadata": {
        "colab": {
          "base_uri": "https://localhost:8080/"
        },
        "id": "WMc8NHYZNbZW",
        "outputId": "af3fa2f7-9d4e-4f71-83f5-4bfdc81b5960"
      },
      "execution_count": null,
      "outputs": [
        {
          "output_type": "stream",
          "name": "stdout",
          "text": [
            "Score for Random Fores Regressor: -225345.77150236475\n"
          ]
        },
        {
          "output_type": "stream",
          "name": "stderr",
          "text": [
            "/usr/local/lib/python3.7/dist-packages/sklearn/base.py:444: UserWarning: X has feature names, but RandomForestRegressor was fitted without feature names\n",
            "  f\"X has feature names, but {self.__class__.__name__} was fitted without\"\n"
          ]
        }
      ]
    },
    {
      "cell_type": "code",
      "source": [
        "type(regr.predict(X_test))"
      ],
      "metadata": {
        "colab": {
          "base_uri": "https://localhost:8080/"
        },
        "id": "qfIPm3JSKxjE",
        "outputId": "b4cc69d8-b7fa-4e2a-9535-9889947bcf03"
      },
      "execution_count": null,
      "outputs": [
        {
          "output_type": "stream",
          "name": "stderr",
          "text": [
            "/usr/local/lib/python3.7/dist-packages/sklearn/base.py:444: UserWarning: X has feature names, but RandomForestRegressor was fitted without feature names\n",
            "  f\"X has feature names, but {self.__class__.__name__} was fitted without\"\n"
          ]
        },
        {
          "output_type": "execute_result",
          "data": {
            "text/plain": [
              "numpy.ndarray"
            ]
          },
          "metadata": {},
          "execution_count": 21
        }
      ]
    },
    {
      "cell_type": "code",
      "source": [
        "type(y_test)"
      ],
      "metadata": {
        "colab": {
          "base_uri": "https://localhost:8080/"
        },
        "id": "HBL8G1S_K30i",
        "outputId": "e158f9d8-4ff7-4fe5-f286-f208d7795666"
      },
      "execution_count": null,
      "outputs": [
        {
          "output_type": "execute_result",
          "data": {
            "text/plain": [
              "pandas.core.series.Series"
            ]
          },
          "metadata": {},
          "execution_count": 22
        }
      ]
    },
    {
      "cell_type": "code",
      "source": [
        "# #cross-validation\n",
        "# k_fold_forest = KFold(n_splits = 5)\n",
        "# kcat_cv_for = cross_val_score(kcat_forest, x_data, kcat_y_data, cv = k_fold_forest) #change X_train, y_train if needed\n",
        "# kcat_cv_pred = cross_val_predict(kcat_forest, x_data, kcat_y_data, cv = k_fold_forest)\n",
        "\n",
        "RFR_plot = plt.figure(figsize = (10,10)) \n",
        "sns.scatterplot(y_test, regr.predict(X_test))\n",
        "plt.xlabel('real')\n",
        "plt.ylabel('predict')\n",
        "plt.title('prediction for Random Forest Regressor')\n",
        "# x_lin = np.linspace(-7, 8, 100)\n",
        "# y_lin = x_lin\n",
        "# plt.plot(x_lin, y_lin, 'r')\n",
        "# plt.xticks([range(-6,7)])\n",
        "# plt.yticks([range(-6,7)])"
      ],
      "metadata": {
        "colab": {
          "base_uri": "https://localhost:8080/",
          "height": 728
        },
        "id": "B2QjWCTa_Ig1",
        "outputId": "58ef201f-6745-4d23-c797-d92917dfe2c6"
      },
      "execution_count": null,
      "outputs": [
        {
          "output_type": "stream",
          "name": "stderr",
          "text": [
            "/usr/local/lib/python3.7/dist-packages/sklearn/base.py:444: UserWarning: X has feature names, but RandomForestRegressor was fitted without feature names\n",
            "  f\"X has feature names, but {self.__class__.__name__} was fitted without\"\n",
            "/usr/local/lib/python3.7/dist-packages/seaborn/_decorators.py:43: FutureWarning: Pass the following variables as keyword args: x, y. From version 0.12, the only valid positional argument will be `data`, and passing other arguments without an explicit keyword will result in an error or misinterpretation.\n",
            "  FutureWarning\n"
          ]
        },
        {
          "output_type": "execute_result",
          "data": {
            "text/plain": [
              "Text(0.5, 1.0, 'prediction for Random Forest Regressor')"
            ]
          },
          "metadata": {},
          "execution_count": 50
        },
        {
          "output_type": "display_data",
          "data": {
            "text/plain": [
              "<Figure size 720x720 with 1 Axes>"
            ],
            "image/png": "[encoded data removed]"
          },
          "metadata": {
            "needs_background": "light"
          }
        }
      ]
    },
    {
      "cell_type": "code",
      "source": [
        "from sklearn.model_selection import GridSearchCV \n",
        "\n",
        "\n",
        "param_grid = {\n",
        "    'n_estimators': [i for i in range(0,300, 100)],\n",
        "    'criterion': ['squared_error', 'absolute_error', 'poisson'],\n",
        "    'max_depth': [i for i in range(0,3)]\n",
        "}\n",
        "clf = GridSearchCV(regr, param_grid)\n",
        "clf.fit(X_train, y_train) \n",
        "\n",
        "# print(\" Results from Grid Search \" )\n",
        "# print(\"\\n The best estimator across ALL searched params:\\n\", clf.bestestimator)\n",
        "# print(\"\\n The best score across ALL searched params:\\n\", clf.bestscore)\n",
        "# print(\"\\n The best parameters across ALL searched params:\\n\", clf.bestparams)"
      ],
      "metadata": {
        "id": "5ebyz8A5PrYi"
      },
      "execution_count": null,
      "outputs": []
    },
    {
      "cell_type": "code",
      "source": [
        "X_train, y_train = make_regression(n_features=17, n_informative=2, random_state=0, shuffle=False)\n",
        "regr = RandomForestRegressor(criterion='squared_error', max_depth=2, n_estimators=200)\n",
        "model = regr.fit(X_train, y_train)\n",
        "#RandomForestRegressor(...)\n",
        "model"
      ],
      "metadata": {
        "colab": {
          "base_uri": "https://localhost:8080/"
        },
        "id": "HgBWpN7vaXBD",
        "outputId": "5b765976-da8d-4eee-af61-50fc8802bea2"
      },
      "execution_count": 14,
      "outputs": [
        {
          "output_type": "execute_result",
          "data": {
            "text/plain": [
              "RandomForestRegressor(max_depth=2, n_estimators=200)"
            ]
          },
          "metadata": {},
          "execution_count": 14
        }
      ]
    },
    {
      "cell_type": "code",
      "source": [
        "model.score(X_test, y_test)"
      ],
      "metadata": {
        "colab": {
          "base_uri": "https://localhost:8080/"
        },
        "id": "fbuxX-ANa8Gp",
        "outputId": "828a9372-ddb1-4524-e98a-368c0acd39cf"
      },
      "execution_count": 17,
      "outputs": [
        {
          "output_type": "stream",
          "name": "stderr",
          "text": [
            "/usr/local/lib/python3.7/dist-packages/sklearn/base.py:444: UserWarning: X has feature names, but RandomForestRegressor was fitted without feature names\n",
            "  f\"X has feature names, but {self.__class__.__name__} was fitted without\"\n"
          ]
        },
        {
          "output_type": "execute_result",
          "data": {
            "text/plain": [
              "-227386.73788942167"
            ]
          },
          "metadata": {},
          "execution_count": 17
        }
      ]
    },
    {
      "cell_type": "code",
      "source": [
        "scores = cross_val_score(model, X, y, cv=10)\n",
        "scores"
      ],
      "metadata": {
        "colab": {
          "base_uri": "https://localhost:8080/"
        },
        "id": "Kz7AJiSNa-4d",
        "outputId": "85950459-1ded-4647-aa87-b265b37919a9"
      },
      "execution_count": 21,
      "outputs": [
        {
          "output_type": "execute_result",
          "data": {
            "text/plain": [
              "array([-0.02660356,  0.15904491,  0.02993168,  0.04114118,  0.00380775,\n",
              "        0.12269226,  0.07428261,  0.00448341,  0.14211392,  0.19170018])"
            ]
          },
          "metadata": {},
          "execution_count": 21
        }
      ]
    },
    {
      "cell_type": "code",
      "source": [
        "from sklearn.neural_network import MLPRegressor\n",
        "from sklearn.datasets import make_regression\n",
        "from sklearn.model_selection import train_test_split\n",
        "\n",
        "regr = MLPRegressor(random_state=10, max_iter=500).fit(X_train, y_train)\n",
        "pred = regr.predict(X_test)\n",
        "\n",
        "regr.score(X_test, y_test)\n"
      ],
      "metadata": {
        "colab": {
          "base_uri": "https://localhost:8080/"
        },
        "id": "Kam-ML1teM1S",
        "outputId": "febf79db-c0c9-4e5e-9906-3e5184b019aa"
      },
      "execution_count": 10,
      "outputs": [
        {
          "output_type": "execute_result",
          "data": {
            "text/plain": [
              "0.23340239666302143"
            ]
          },
          "metadata": {},
          "execution_count": 10
        }
      ]
    },
    {
      "cell_type": "code",
      "source": [
        "from sklearn.model_selection import GridSearchCV \n",
        "\n",
        "param_grid = {\n",
        "    'hidden_layer_sizes': [(100,), (100, 100), (100, 100, 100)],\n",
        "    'activation': ['identity', 'logistic', 'tanh', 'relu'],\n",
        "    'alpha': [0.1, 0.01, 0.001, 0.0001],\n",
        "    \n",
        "}\n",
        "clf = GridSearchCV(regr, param_grid, cv=10)\n",
        "clf.fit(X_train, y_train) "
      ],
      "metadata": {
        "colab": {
          "base_uri": "https://localhost:8080/"
        },
        "id": "aF-hoBH8gSr-",
        "outputId": "9e806f9d-d0a0-4be9-f489-34e725d7e87a"
      },
      "execution_count": 12,
      "outputs": [
        {
          "output_type": "execute_result",
          "data": {
            "text/plain": [
              "GridSearchCV(cv=10, estimator=MLPRegressor(max_iter=500, random_state=10),\n",
              "             param_grid={'activation': ['identity', 'logistic', 'tanh', 'relu'],\n",
              "                         'alpha': [0.1, 0.01, 0.001, 0.0001],\n",
              "                         'hidden_layer_sizes': [(100,), (100, 100),\n",
              "                                                (100, 100, 100)]})"
            ]
          },
          "metadata": {},
          "execution_count": 12
        }
      ]
    },
    {
      "cell_type": "code",
      "source": [
        "plt.scatter(pred, y_test)\n",
        "\n",
        "plt.plot(\n",
        "        [y_test.min(), y_test.max()], [y_test.min(), y_test.max()], \"--r\", linewidth=2\n",
        "    )\n",
        "plt.xlabel('Real')\n",
        "plt.ylabel('Predict')\n",
        "plt.title('MLPRegressor prediction')"
      ],
      "metadata": {
        "colab": {
          "base_uri": "https://localhost:8080/",
          "height": 283
        },
        "id": "T5YOJa8qeqAT",
        "outputId": "d0b9e96e-ea04-472b-adcc-1364ebd69cc6"
      },
      "execution_count": 11,
      "outputs": [
        {
          "output_type": "execute_result",
          "data": {
            "text/plain": [
              "<matplotlib.collections.PathCollection at 0x7f351410f650>"
            ]
          },
          "metadata": {},
          "execution_count": 11
        },
        {
          "output_type": "display_data",
          "data": {
            "text/plain": [
              "<Figure size 432x288 with 1 Axes>"
            ],
            "image/png": "[encoded data removed]"
          },
          "metadata": {
            "needs_background": "light"
          }
        }
      ]
    },
    {
      "cell_type": "code",
      "source": [
        "clf.best_params_"
      ],
      "metadata": {
        "colab": {
          "base_uri": "https://localhost:8080/"
        },
        "id": "sXUjDpE2iAOp",
        "outputId": "3f5f1237-0888-4c5a-a2e9-870fd1b71c62"
      },
      "execution_count": 13,
      "outputs": [
        {
          "output_type": "execute_result",
          "data": {
            "text/plain": [
              "{'activation': 'relu', 'alpha': 0.001, 'hidden_layer_sizes': (100, 100, 100)}"
            ]
          },
          "metadata": {},
          "execution_count": 13
        }
      ]
    },
    {
      "cell_type": "code",
      "source": [
        "regr = MLPRegressor(random_state=10, max_iter=1000, alpha=0.001, hidden_layer_sizes= (100, 100, 100)).fit(X_train, y_train)\n",
        "pred = regr.predict(X_test)\n",
        "\n",
        "regr.score(X_test, y_test)"
      ],
      "metadata": {
        "colab": {
          "base_uri": "https://localhost:8080/"
        },
        "id": "U7e0fYpUroAY",
        "outputId": "448e696c-0d9c-4b82-ab9d-057f2459aa40"
      },
      "execution_count": 19,
      "outputs": [
        {
          "output_type": "execute_result",
          "data": {
            "text/plain": [
              "0.2639973798457006"
            ]
          },
          "metadata": {},
          "execution_count": 19
        }
      ]
    },
    {
      "cell_type": "code",
      "source": [
        "plt.scatter(pred, y_test)\n",
        "\n",
        "plt.plot(\n",
        "        [y_test.min(), y_test.max()], [y_test.min(), y_test.max()], \"--r\", linewidth=2\n",
        "    )\n",
        "plt.xlabel('Real')\n",
        "plt.ylabel('Predict')\n",
        "plt.title('MLPRegressor prediction')\n",
        "plt.text(0, 0.80, s='random_state=10')\n",
        "plt.text(0, 0.95, s='max_iter=1000')\n",
        "plt.text(0, 0.9, s='alpha=0.001')\n",
        "plt.text(0, 0.85, s='hidden_layer_sizes= (100, 100, 100)')\n",
        "plt.text(0, 0.75, s='score=0.26399')"
      ],
      "metadata": {
        "colab": {
          "base_uri": "https://localhost:8080/",
          "height": 313
        },
        "id": "amuK5nTCr8tz",
        "outputId": "aeb30d5b-105f-4a7a-e0d7-ca133f4d391c"
      },
      "execution_count": 22,
      "outputs": [
        {
          "output_type": "execute_result",
          "data": {
            "text/plain": [
              "Text(0, 0.75, 'score=0.26399')"
            ]
          },
          "metadata": {},
          "execution_count": 22
        },
        {
          "output_type": "display_data",
          "data": {
            "text/plain": [
              "<Figure size 432x288 with 1 Axes>"
            ],
            "image/png": "[encoded data removed]"
          },
          "metadata": {
            "needs_background": "light"
          }
        }
      ]
    },
    {
      "cell_type": "code",
      "source": [
        ""
      ],
      "metadata": {
        "id": "xd-ANwgotFO6"
      },
      "execution_count": null,
      "outputs": []
    }
  ]
}